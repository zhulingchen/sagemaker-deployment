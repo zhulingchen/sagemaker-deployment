{
 "cells": [
  {
   "cell_type": "markdown",
   "metadata": {},
   "source": [
    "# Sentiment Analysis Web App\n",
    "\n",
    "_Deep Learning Nanodegree Program | Deployment_\n",
    "\n",
    "---\n",
    "\n",
    "In this notebook we will use Amazon's SageMaker service to construct a random tree model to predict the sentiment of a movie review. In addition, we will deploy this model to an endpoint and construct a very simple web app which will interact with our model's deployed endpoint.\n",
    "\n",
    "## General Outline\n",
    "\n",
    "Typically, when using a notebook instance with SageMaker, you will proceed through the following steps. Of course, not every step will need to be done with each project. Also, there is quite a lot of room for variation in many of the steps, as you will see throughout these lessons.\n",
    "\n",
    "1. Download or otherwise retrieve the data.\n",
    "2. Process / Prepare the data.\n",
    "3. Upload the processed data to S3.\n",
    "4. Train a chosen model.\n",
    "5. Test the trained model (typically using a batch transform job).\n",
    "6. Deploy the trained model.\n",
    "7. Use the deployed model.\n",
    "\n",
    "In this notebook we will progress through each of the steps above. We will also see that the final step, using the deployed model, can be quite challenging."
   ]
  },
  {
   "cell_type": "markdown",
   "metadata": {},
   "source": [
    "## Step 1: Downloading the data\n",
    "\n",
    "The dataset we are going to use is very popular among researchers in Natural Language Processing, usually referred to as the [IMDb dataset](http://ai.stanford.edu/~amaas/data/sentiment/). It consists of movie reviews from the website [imdb.com](http://www.imdb.com/), each labeled as either '**pos**itive', if the reviewer enjoyed the film, or '**neg**ative' otherwise.\n",
    "\n",
    "> Maas, Andrew L., et al. [Learning Word Vectors for Sentiment Analysis](http://ai.stanford.edu/~amaas/data/sentiment/). In _Proceedings of the 49th Annual Meeting of the Association for Computational Linguistics: Human Language Technologies_. Association for Computational Linguistics, 2011.\n",
    "\n",
    "We begin by using some Jupyter Notebook magic to download and extract the dataset."
   ]
  },
  {
   "cell_type": "code",
   "execution_count": 1,
   "metadata": {},
   "outputs": [
    {
     "name": "stdout",
     "output_type": "stream",
     "text": [
      "mkdir: cannot create directory ‘../data’: File exists\n",
      "--2020-07-16 03:12:56--  http://ai.stanford.edu/~amaas/data/sentiment/aclImdb_v1.tar.gz\n",
      "Resolving ai.stanford.edu (ai.stanford.edu)... 171.64.68.10\n",
      "Connecting to ai.stanford.edu (ai.stanford.edu)|171.64.68.10|:80... connected.\n",
      "HTTP request sent, awaiting response... 200 OK\n",
      "Length: 84125825 (80M) [application/x-gzip]\n",
      "Saving to: ‘../data/aclImdb_v1.tar.gz’\n",
      "\n",
      "../data/aclImdb_v1. 100%[===================>]  80.23M  23.8MB/s    in 4.0s    \n",
      "\n",
      "2020-07-16 03:13:00 (20.0 MB/s) - ‘../data/aclImdb_v1.tar.gz’ saved [84125825/84125825]\n",
      "\n"
     ]
    }
   ],
   "source": [
    "%mkdir ../data\n",
    "!wget -O ../data/aclImdb_v1.tar.gz http://ai.stanford.edu/~amaas/data/sentiment/aclImdb_v1.tar.gz\n",
    "!tar -zxf ../data/aclImdb_v1.tar.gz -C ../data"
   ]
  },
  {
   "cell_type": "markdown",
   "metadata": {},
   "source": [
    "## Step 2: Preparing and Processing the data\n",
    "\n",
    "The data we have downloaded is split into various files, each of which contains a single review. It will be much easier going forward if we combine these individual files into two large files, one for training and one for testing."
   ]
  },
  {
   "cell_type": "code",
   "execution_count": 2,
   "metadata": {},
   "outputs": [],
   "source": [
    "import os\n",
    "import glob\n",
    "\n",
    "def read_imdb_data(data_dir='../data/aclImdb'):\n",
    "    data = {}\n",
    "    labels = {}\n",
    "    \n",
    "    for data_type in ['train', 'test']:\n",
    "        data[data_type] = {}\n",
    "        labels[data_type] = {}\n",
    "        \n",
    "        for sentiment in ['pos', 'neg']:\n",
    "            data[data_type][sentiment] = []\n",
    "            labels[data_type][sentiment] = []\n",
    "            \n",
    "            path = os.path.join(data_dir, data_type, sentiment, '*.txt')\n",
    "            files = glob.glob(path)\n",
    "            \n",
    "            for f in files:\n",
    "                with open(f) as review:\n",
    "                    data[data_type][sentiment].append(review.read())\n",
    "                    # Here we represent a positive review by '1' and a negative review by '0'\n",
    "                    labels[data_type][sentiment].append(1 if sentiment == 'pos' else 0)\n",
    "                    \n",
    "            assert len(data[data_type][sentiment]) == len(labels[data_type][sentiment]), \\\n",
    "                    \"{}/{} data size does not match labels size\".format(data_type, sentiment)\n",
    "                \n",
    "    return data, labels"
   ]
  },
  {
   "cell_type": "code",
   "execution_count": 3,
   "metadata": {},
   "outputs": [
    {
     "name": "stdout",
     "output_type": "stream",
     "text": [
      "IMDB reviews: train = 12500 pos / 12500 neg, test = 12500 pos / 12500 neg\n"
     ]
    }
   ],
   "source": [
    "data, labels = read_imdb_data()\n",
    "print(\"IMDB reviews: train = {} pos / {} neg, test = {} pos / {} neg\".format(\n",
    "            len(data['train']['pos']), len(data['train']['neg']),\n",
    "            len(data['test']['pos']), len(data['test']['neg'])))"
   ]
  },
  {
   "cell_type": "code",
   "execution_count": 4,
   "metadata": {},
   "outputs": [],
   "source": [
    "from sklearn.utils import shuffle\n",
    "\n",
    "def prepare_imdb_data(data, labels):\n",
    "    \"\"\"Prepare training and test sets from IMDb movie reviews.\"\"\"\n",
    "    \n",
    "    #Combine positive and negative reviews and labels\n",
    "    data_train = data['train']['pos'] + data['train']['neg']\n",
    "    data_test = data['test']['pos'] + data['test']['neg']\n",
    "    labels_train = labels['train']['pos'] + labels['train']['neg']\n",
    "    labels_test = labels['test']['pos'] + labels['test']['neg']\n",
    "    \n",
    "    #Shuffle reviews and corresponding labels within training and test sets\n",
    "    data_train, labels_train = shuffle(data_train, labels_train)\n",
    "    data_test, labels_test = shuffle(data_test, labels_test)\n",
    "    \n",
    "    # Return a unified training data, test data, training labels, test labets\n",
    "    return data_train, data_test, labels_train, labels_test"
   ]
  },
  {
   "cell_type": "code",
   "execution_count": 5,
   "metadata": {},
   "outputs": [
    {
     "name": "stdout",
     "output_type": "stream",
     "text": [
      "IMDb reviews (combined): train = 25000, test = 25000\n"
     ]
    }
   ],
   "source": [
    "train_X, test_X, train_y, test_y = prepare_imdb_data(data, labels)\n",
    "print(\"IMDb reviews (combined): train = {}, test = {}\".format(len(train_X), len(test_X)))"
   ]
  },
  {
   "cell_type": "code",
   "execution_count": 6,
   "metadata": {},
   "outputs": [
    {
     "data": {
      "text/plain": [
       "'I was not expecting much going in to this, but still came away disappointed. This was my least favorite Halestorm production I have seen. I thought it was supposed to be a comedy, but I only snickered at 3 or 4 jokes. Is it really a funny gag to see a fat guy eating donuts and falling down over and over? What was up with the janitor in Heaven scene? Fred Willard has been hilarious with some of his Christopher Guest collaborations, but this did not work. They must have spent all the budget on getting \"known\" actors to appear in this because there was no lighting budget. It looked like it was filmed with a video camera and most scenes were very dark. Does it really take that much film to show someone actually shoot and make a basket, as opposed to cutting away and editing a ball swishing through a basket? I try not to be too critical of low budget comedies, but if you want to see something funny go to a real Church basketball game instead of this movie.'"
      ]
     },
     "execution_count": 6,
     "metadata": {},
     "output_type": "execute_result"
    }
   ],
   "source": [
    "train_X[100]"
   ]
  },
  {
   "cell_type": "markdown",
   "metadata": {},
   "source": [
    "## Processing the data\n",
    "\n",
    "Now that we have our training and testing datasets merged and ready to use, we need to start processing the raw data into something that will be useable by our machine learning algorithm. To begin with, we remove any html formatting and any non-alpha numeric characters that may appear in the reviews. We will do this in a very simplistic way using Python's regular expression module. We will discuss the reason for this rather simplistic pre-processing later on."
   ]
  },
  {
   "cell_type": "code",
   "execution_count": 7,
   "metadata": {},
   "outputs": [],
   "source": [
    "import re\n",
    "\n",
    "REPLACE_NO_SPACE = re.compile(\"(\\.)|(\\;)|(\\:)|(\\!)|(\\')|(\\?)|(\\,)|(\\\")|(\\()|(\\))|(\\[)|(\\])\")\n",
    "REPLACE_WITH_SPACE = re.compile(\"(<br\\s*/><br\\s*/>)|(\\-)|(\\/)\")\n",
    "\n",
    "def review_to_words(review):\n",
    "    words = REPLACE_NO_SPACE.sub(\"\", review.lower())\n",
    "    words = REPLACE_WITH_SPACE.sub(\" \", words)\n",
    "    return words"
   ]
  },
  {
   "cell_type": "code",
   "execution_count": 8,
   "metadata": {},
   "outputs": [
    {
     "data": {
      "text/plain": [
       "'i was not expecting much going in to this but still came away disappointed this was my least favorite halestorm production i have seen i thought it was supposed to be a comedy but i only snickered at 3 or 4 jokes is it really a funny gag to see a fat guy eating donuts and falling down over and over what was up with the janitor in heaven scene fred willard has been hilarious with some of his christopher guest collaborations but this did not work they must have spent all the budget on getting known actors to appear in this because there was no lighting budget it looked like it was filmed with a video camera and most scenes were very dark does it really take that much film to show someone actually shoot and make a basket as opposed to cutting away and editing a ball swishing through a basket i try not to be too critical of low budget comedies but if you want to see something funny go to a real church basketball game instead of this movie'"
      ]
     },
     "execution_count": 8,
     "metadata": {},
     "output_type": "execute_result"
    }
   ],
   "source": [
    "review_to_words(train_X[100])"
   ]
  },
  {
   "cell_type": "code",
   "execution_count": 9,
   "metadata": {},
   "outputs": [],
   "source": [
    "import pickle\n",
    "\n",
    "cache_dir = os.path.join(\"../cache\", \"sentiment_web_app\")  # where to store cache files\n",
    "os.makedirs(cache_dir, exist_ok=True)  # ensure cache directory exists\n",
    "\n",
    "def preprocess_data(data_train, data_test, labels_train, labels_test,\n",
    "                    cache_dir=cache_dir, cache_file=\"preprocessed_data.pkl\"):\n",
    "    \"\"\"Convert each review to words; read from cache if available.\"\"\"\n",
    "\n",
    "    # If cache_file is not None, try to read from it first\n",
    "    cache_data = None\n",
    "    if cache_file is not None:\n",
    "        try:\n",
    "            with open(os.path.join(cache_dir, cache_file), \"rb\") as f:\n",
    "                cache_data = pickle.load(f)\n",
    "            print(\"Read preprocessed data from cache file:\", cache_file)\n",
    "        except:\n",
    "            pass  # unable to read from cache, but that's okay\n",
    "    \n",
    "    # If cache is missing, then do the heavy lifting\n",
    "    if cache_data is None:\n",
    "        # Preprocess training and test data to obtain words for each review\n",
    "        #words_train = list(map(review_to_words, data_train))\n",
    "        #words_test = list(map(review_to_words, data_test))\n",
    "        words_train = [review_to_words(review) for review in data_train]\n",
    "        words_test = [review_to_words(review) for review in data_test]\n",
    "        \n",
    "        # Write to cache file for future runs\n",
    "        if cache_file is not None:\n",
    "            cache_data = dict(words_train=words_train, words_test=words_test,\n",
    "                              labels_train=labels_train, labels_test=labels_test)\n",
    "            with open(os.path.join(cache_dir, cache_file), \"wb\") as f:\n",
    "                pickle.dump(cache_data, f)\n",
    "            print(\"Wrote preprocessed data to cache file:\", cache_file)\n",
    "    else:\n",
    "        # Unpack data loaded from cache file\n",
    "        words_train, words_test, labels_train, labels_test = (cache_data['words_train'],\n",
    "                cache_data['words_test'], cache_data['labels_train'], cache_data['labels_test'])\n",
    "    \n",
    "    return words_train, words_test, labels_train, labels_test"
   ]
  },
  {
   "cell_type": "code",
   "execution_count": 10,
   "metadata": {},
   "outputs": [
    {
     "name": "stdout",
     "output_type": "stream",
     "text": [
      "Read preprocessed data from cache file: preprocessed_data.pkl\n"
     ]
    }
   ],
   "source": [
    "# Preprocess data\n",
    "train_X, test_X, train_y, test_y = preprocess_data(train_X, test_X, train_y, test_y)"
   ]
  },
  {
   "cell_type": "markdown",
   "metadata": {},
   "source": [
    "### Extract Bag-of-Words features\n",
    "\n",
    "For the model we will be implementing, rather than using the reviews directly, we are going to transform each review into a Bag-of-Words feature representation. Keep in mind that 'in the wild' we will only have access to the training set so our transformer can only use the training set to construct a representation."
   ]
  },
  {
   "cell_type": "code",
   "execution_count": 11,
   "metadata": {},
   "outputs": [
    {
     "name": "stderr",
     "output_type": "stream",
     "text": [
      "/home/ec2-user/anaconda3/envs/python3/lib/python3.6/site-packages/sklearn/externals/joblib/__init__.py:15: FutureWarning: sklearn.externals.joblib is deprecated in 0.21 and will be removed in 0.23. Please import this functionality directly from joblib, which can be installed with: pip install joblib. If this warning is raised when loading pickled models, you may need to re-serialize those models with scikit-learn 0.21+.\n",
      "  warnings.warn(msg, category=FutureWarning)\n"
     ]
    }
   ],
   "source": [
    "import numpy as np\n",
    "from sklearn.feature_extraction.text import CountVectorizer\n",
    "from sklearn.externals import joblib\n",
    "# joblib is an enhanced version of pickle that is more efficient for storing NumPy arrays\n",
    "\n",
    "def extract_BoW_features(words_train, words_test, vocabulary_size=5000,\n",
    "                         cache_dir=cache_dir, cache_file=\"bow_features.pkl\"):\n",
    "    \"\"\"Extract Bag-of-Words for a given set of documents, already preprocessed into words.\"\"\"\n",
    "    \n",
    "    # If cache_file is not None, try to read from it first\n",
    "    cache_data = None\n",
    "    if cache_file is not None:\n",
    "        try:\n",
    "            with open(os.path.join(cache_dir, cache_file), \"rb\") as f:\n",
    "                cache_data = joblib.load(f)\n",
    "            print(\"Read features from cache file:\", cache_file)\n",
    "        except:\n",
    "            pass  # unable to read from cache, but that's okay\n",
    "    \n",
    "    # If cache is missing, then do the heavy lifting\n",
    "    if cache_data is None:\n",
    "        # Fit a vectorizer to training documents and use it to transform them\n",
    "        # NOTE: Training documents have already been preprocessed and tokenized into words;\n",
    "        #       pass in dummy functions to skip those steps, e.g. preprocessor=lambda x: x\n",
    "        vectorizer = CountVectorizer(max_features=vocabulary_size)\n",
    "        features_train = vectorizer.fit_transform(words_train).toarray()\n",
    "\n",
    "        # Apply the same vectorizer to transform the test documents (ignore unknown words)\n",
    "        features_test = vectorizer.transform(words_test).toarray()\n",
    "        \n",
    "        # NOTE: Remember to convert the features using .toarray() for a compact representation\n",
    "        \n",
    "        # Write to cache file for future runs (store vocabulary as well)\n",
    "        if cache_file is not None:\n",
    "            vocabulary = vectorizer.vocabulary_\n",
    "            cache_data = dict(features_train=features_train, features_test=features_test,\n",
    "                             vocabulary=vocabulary)\n",
    "            with open(os.path.join(cache_dir, cache_file), \"wb\") as f:\n",
    "                joblib.dump(cache_data, f)\n",
    "            print(\"Wrote features to cache file:\", cache_file)\n",
    "    else:\n",
    "        # Unpack data loaded from cache file\n",
    "        features_train, features_test, vocabulary = (cache_data['features_train'],\n",
    "                cache_data['features_test'], cache_data['vocabulary'])\n",
    "    \n",
    "    # Return both the extracted features as well as the vocabulary\n",
    "    return features_train, features_test, vocabulary"
   ]
  },
  {
   "cell_type": "code",
   "execution_count": 12,
   "metadata": {},
   "outputs": [
    {
     "name": "stdout",
     "output_type": "stream",
     "text": [
      "Read features from cache file: bow_features.pkl\n"
     ]
    }
   ],
   "source": [
    "# Extract Bag of Words features for both training and test datasets\n",
    "train_X, test_X, vocabulary = extract_BoW_features(train_X, test_X)"
   ]
  },
  {
   "cell_type": "code",
   "execution_count": 13,
   "metadata": {},
   "outputs": [
    {
     "data": {
      "text/plain": [
       "5000"
      ]
     },
     "execution_count": 13,
     "metadata": {},
     "output_type": "execute_result"
    }
   ],
   "source": [
    "len(train_X[100])"
   ]
  },
  {
   "cell_type": "markdown",
   "metadata": {},
   "source": [
    "## Step 3: Upload data to S3\n",
    "\n",
    "Now that we have created the feature representation of our training (and testing) data, it is time to start setting up and using the XGBoost classifier provided by SageMaker.\n",
    "\n",
    "### Writing the datasets\n",
    "\n",
    "The XGBoost classifier that we will be using requires the dataset to be written to a file and stored using Amazon S3. To do this, we will start by splitting the training dataset into two parts, the data we will train the model with and a validation set. Then, we will write those datasets to a file locally and then upload the files to S3. In addition, we will write the test set to a file and upload that file to S3. This is so that we can use SageMakers Batch Transform functionality to test our model once we've fit it."
   ]
  },
  {
   "cell_type": "code",
   "execution_count": 14,
   "metadata": {},
   "outputs": [],
   "source": [
    "import pandas as pd\n",
    "\n",
    "# Earlier we shuffled the training dataset so to make things simple we can just assign\n",
    "# the first 10 000 reviews to the validation set and use the remaining reviews for training.\n",
    "val_X = pd.DataFrame(train_X[:10000])\n",
    "train_X = pd.DataFrame(train_X[10000:])\n",
    "\n",
    "val_y = pd.DataFrame(train_y[:10000])\n",
    "train_y = pd.DataFrame(train_y[10000:])"
   ]
  },
  {
   "cell_type": "markdown",
   "metadata": {},
   "source": [
    "The documentation for the XGBoost algorithm in SageMaker requires that the training and validation datasets should contain no headers or index and that the label should occur first for each sample.\n",
    "\n",
    "For more information about this and other algorithms, the SageMaker developer documentation can be found on __[Amazon's website.](https://docs.aws.amazon.com/sagemaker/latest/dg/)__"
   ]
  },
  {
   "cell_type": "code",
   "execution_count": 15,
   "metadata": {},
   "outputs": [],
   "source": [
    "# First we make sure that the local directory in which we'd like to store the training and validation csv files exists.\n",
    "data_dir = '../data/sentiment_web_app'\n",
    "if not os.path.exists(data_dir):\n",
    "    os.makedirs(data_dir)"
   ]
  },
  {
   "cell_type": "code",
   "execution_count": 16,
   "metadata": {},
   "outputs": [],
   "source": [
    "pd.DataFrame(test_X).to_csv(os.path.join(data_dir, 'test.csv'), header=False, index=False)\n",
    "\n",
    "pd.concat([val_y, val_X], axis=1).to_csv(os.path.join(data_dir, 'validation.csv'), header=False, index=False)\n",
    "pd.concat([train_y, train_X], axis=1).to_csv(os.path.join(data_dir, 'train.csv'), header=False, index=False)"
   ]
  },
  {
   "cell_type": "code",
   "execution_count": 17,
   "metadata": {},
   "outputs": [],
   "source": [
    "# To save a bit of memory we can set text_X, train_X, val_X, train_y and val_y to None.\n",
    "\n",
    "test_X = train_X = val_X = train_y = val_y = None"
   ]
  },
  {
   "cell_type": "markdown",
   "metadata": {},
   "source": [
    "### Uploading Training / Validation files to S3\n",
    "\n",
    "Amazon's S3 service allows us to store files that can be accessed by both the built-in training models such as the XGBoost model we will be using as well as custom models such as the one we will see a little later.\n",
    "\n",
    "For this and most other tasks we will be doing using SageMaker, there are two methods we could use. The first is to use the low level functionality of SageMaker which requires knowing each of the objects involved in the SageMaker environment. The second is to use the high level functionality in which certain choices have been made on the user's behalf. The low level approach benefits from allowing the user a great deal of flexibility while the high level approach makes development much quicker. For our purposes we will opt to use the high level approach although using the low-level approach is certainly an option.\n",
    "\n",
    "Recall the method `upload_data()` which is a member of the object representing our current SageMaker session. What this method does is upload the data to the default bucket (which is created if it does not exist) into the path described by the key_prefix variable. To see this for yourself, once you have uploaded the data files, go to the S3 console and look to see where the files have been uploaded.\n",
    "\n",
    "For additional resources, see the __[SageMaker API documentation](http://sagemaker.readthedocs.io/en/latest/)__ and in addition the __[SageMaker Developer Guide.](https://docs.aws.amazon.com/sagemaker/latest/dg/)__"
   ]
  },
  {
   "cell_type": "code",
   "execution_count": 18,
   "metadata": {},
   "outputs": [],
   "source": [
    "import sagemaker\n",
    "\n",
    "session = sagemaker.Session() # Store the current SageMaker session\n",
    "\n",
    "# S3 prefix (which folder will we use)\n",
    "prefix = 'sentiment-web-app'\n",
    "\n",
    "test_location = session.upload_data(os.path.join(data_dir, 'test.csv'), key_prefix=prefix)\n",
    "val_location = session.upload_data(os.path.join(data_dir, 'validation.csv'), key_prefix=prefix)\n",
    "train_location = session.upload_data(os.path.join(data_dir, 'train.csv'), key_prefix=prefix)"
   ]
  },
  {
   "cell_type": "markdown",
   "metadata": {},
   "source": [
    "## Step 4: Creating the XGBoost model\n",
    "\n",
    "Now that the data has been uploaded it is time to create the XGBoost model. To begin with, we need to do some setup. At this point it is worth discussing what a model is in SageMaker. It is easiest to think of a model of comprising three different objects in the SageMaker ecosystem, which interact with one another.\n",
    "\n",
    "- Model Artifacts\n",
    "- Training Code (Container)\n",
    "- Inference Code (Container)\n",
    "\n",
    "The Model Artifacts are what you might think of as the actual model itself. For example, if you were building a neural network, the model artifacts would be the weights of the various layers. In our case, for an XGBoost model, the artifacts are the actual trees that are created during training.\n",
    "\n",
    "The other two objects, the training code and the inference code are then used to manipulate the training artifacts. More precisely, the training code uses the training data that is provided and creates the model artifacts, while the inference code uses the model artifacts to make predictions on new data.\n",
    "\n",
    "The way that SageMaker runs the training and inference code is by making use of Docker containers. For now, think of a container as being a way of packaging code up so that dependencies aren't an issue."
   ]
  },
  {
   "cell_type": "code",
   "execution_count": 19,
   "metadata": {},
   "outputs": [],
   "source": [
    "from sagemaker import get_execution_role\n",
    "\n",
    "# Our current execution role is required when creating the model as the training\n",
    "# and inference code will need to access the model artifacts.\n",
    "role = get_execution_role()"
   ]
  },
  {
   "cell_type": "code",
   "execution_count": 20,
   "metadata": {},
   "outputs": [
    {
     "name": "stderr",
     "output_type": "stream",
     "text": [
      "'get_image_uri' method will be deprecated in favor of 'ImageURIProvider' class in SageMaker Python SDK v2.\n",
      "WARNING:root:There is a more up to date SageMaker XGBoost image. To use the newer image, please set 'repo_version'='1.0-1'. For example:\n",
      "\tget_image_uri(region, 'xgboost', '1.0-1').\n"
     ]
    }
   ],
   "source": [
    "# We need to retrieve the location of the container which is provided by Amazon for using XGBoost.\n",
    "# As a matter of convenience, the training and inference code both use the same container.\n",
    "from sagemaker.amazon.amazon_estimator import get_image_uri\n",
    "\n",
    "container = get_image_uri(session.boto_region_name, 'xgboost')"
   ]
  },
  {
   "cell_type": "code",
   "execution_count": 21,
   "metadata": {},
   "outputs": [
    {
     "name": "stderr",
     "output_type": "stream",
     "text": [
      "WARNING:root:Parameter image_name will be renamed to image_uri in SageMaker Python SDK v2.\n"
     ]
    }
   ],
   "source": [
    "# First we create a SageMaker estimator object for our model.\n",
    "xgb = sagemaker.estimator.Estimator(container, # The location of the container we wish to use\n",
    "                                    role,                                    # What is our current IAM Role\n",
    "                                    train_instance_count=1,                  # How many compute instances\n",
    "                                    train_instance_type='ml.m4.xlarge',      # What kind of compute instances\n",
    "                                    output_path='s3://{}/{}/output'.format(session.default_bucket(), prefix),\n",
    "                                    sagemaker_session=session)\n",
    "\n",
    "# And then set the algorithm specific parameters.\n",
    "xgb.set_hyperparameters(max_depth=5,\n",
    "                        eta=0.2,\n",
    "                        gamma=4,\n",
    "                        min_child_weight=6,\n",
    "                        subsample=0.8,\n",
    "                        silent=0,\n",
    "                        objective='binary:logistic',\n",
    "                        early_stopping_rounds=10,\n",
    "                        num_round=500)"
   ]
  },
  {
   "cell_type": "markdown",
   "metadata": {},
   "source": [
    "### Fit the XGBoost model\n",
    "\n",
    "Now that our model has been set up we simply need to attach the training and validation datasets and then ask SageMaker to set up the computation."
   ]
  },
  {
   "cell_type": "code",
   "execution_count": 22,
   "metadata": {},
   "outputs": [
    {
     "name": "stderr",
     "output_type": "stream",
     "text": [
      "WARNING:sagemaker:'s3_input' class will be renamed to 'TrainingInput' in SageMaker Python SDK v2.\n",
      "WARNING:sagemaker:'s3_input' class will be renamed to 'TrainingInput' in SageMaker Python SDK v2.\n"
     ]
    }
   ],
   "source": [
    "s3_input_train = sagemaker.s3_input(s3_data=train_location, content_type='csv')\n",
    "s3_input_validation = sagemaker.s3_input(s3_data=val_location, content_type='csv')"
   ]
  },
  {
   "cell_type": "code",
   "execution_count": 23,
   "metadata": {},
   "outputs": [
    {
     "name": "stdout",
     "output_type": "stream",
     "text": [
      "2020-07-16 03:14:38 Starting - Starting the training job...\n",
      "2020-07-16 03:14:40 Starting - Launching requested ML instances......\n",
      "2020-07-16 03:15:44 Starting - Preparing the instances for training...\n",
      "2020-07-16 03:16:36 Downloading - Downloading input data...\n",
      "2020-07-16 03:16:51 Training - Downloading the training image.\u001b[34mArguments: train\u001b[0m\n",
      "\u001b[34m[2020-07-16:03:17:10:INFO] Running standalone xgboost training.\u001b[0m\n",
      "\u001b[34m[2020-07-16:03:17:10:INFO] File size need to be processed in the node: 238.5mb. Available memory size in the node: 8483.73mb\u001b[0m\n",
      "\u001b[34m[2020-07-16:03:17:10:INFO] Determined delimiter of CSV input is ','\u001b[0m\n",
      "\u001b[34m[03:17:10] S3DistributionType set as FullyReplicated\u001b[0m\n",
      "\u001b[34m[03:17:13] 15000x5000 matrix with 75000000 entries loaded from /opt/ml/input/data/train?format=csv&label_column=0&delimiter=,\u001b[0m\n",
      "\u001b[34m[2020-07-16:03:17:13:INFO] Determined delimiter of CSV input is ','\u001b[0m\n",
      "\u001b[34m[03:17:13] S3DistributionType set as FullyReplicated\u001b[0m\n",
      "\u001b[34m[03:17:14] 10000x5000 matrix with 50000000 entries loaded from /opt/ml/input/data/validation?format=csv&label_column=0&delimiter=,\u001b[0m\n",
      "\u001b[34m[03:17:17] src/tree/updater_prune.cc:74: tree pruning end, 1 roots, 44 extra nodes, 8 pruned nodes, max_depth=5\u001b[0m\n",
      "\u001b[34m[0]#011train-error:0.3064#011validation-error:0.3137\u001b[0m\n",
      "\u001b[34mMultiple eval metrics have been passed: 'validation-error' will be used for early stopping.\n",
      "\u001b[0m\n",
      "\u001b[34mWill train until validation-error hasn't improved in 10 rounds.\u001b[0m\n",
      "\u001b[34m[03:17:19] src/tree/updater_prune.cc:74: tree pruning end, 1 roots, 46 extra nodes, 4 pruned nodes, max_depth=5\u001b[0m\n",
      "\u001b[34m[1]#011train-error:0.3024#011validation-error:0.3073\u001b[0m\n",
      "\u001b[34m[03:17:20] src/tree/updater_prune.cc:74: tree pruning end, 1 roots, 38 extra nodes, 0 pruned nodes, max_depth=5\u001b[0m\n",
      "\u001b[34m[2]#011train-error:0.288867#011validation-error:0.3001\u001b[0m\n",
      "\u001b[34m[03:17:21] src/tree/updater_prune.cc:74: tree pruning end, 1 roots, 42 extra nodes, 4 pruned nodes, max_depth=5\u001b[0m\n",
      "\u001b[34m[3]#011train-error:0.272467#011validation-error:0.2863\u001b[0m\n",
      "\n",
      "2020-07-16 03:17:11 Training - Training image download completed. Training in progress.\u001b[34m[03:17:23] src/tree/updater_prune.cc:74: tree pruning end, 1 roots, 34 extra nodes, 4 pruned nodes, max_depth=5\u001b[0m\n",
      "\u001b[34m[4]#011train-error:0.261733#011validation-error:0.2761\u001b[0m\n",
      "\u001b[34m[03:17:25] src/tree/updater_prune.cc:74: tree pruning end, 1 roots, 22 extra nodes, 16 pruned nodes, max_depth=5\u001b[0m\n",
      "\u001b[34m[5]#011train-error:0.258133#011validation-error:0.2727\u001b[0m\n",
      "\u001b[34m[03:17:26] src/tree/updater_prune.cc:74: tree pruning end, 1 roots, 30 extra nodes, 8 pruned nodes, max_depth=5\u001b[0m\n",
      "\u001b[34m[6]#011train-error:0.2568#011validation-error:0.2708\u001b[0m\n",
      "\u001b[34m[03:17:27] src/tree/updater_prune.cc:74: tree pruning end, 1 roots, 40 extra nodes, 6 pruned nodes, max_depth=5\u001b[0m\n",
      "\u001b[34m[7]#011train-error:0.247133#011validation-error:0.2644\u001b[0m\n",
      "\u001b[34m[03:17:28] src/tree/updater_prune.cc:74: tree pruning end, 1 roots, 38 extra nodes, 6 pruned nodes, max_depth=5\u001b[0m\n",
      "\u001b[34m[8]#011train-error:0.236467#011validation-error:0.2558\u001b[0m\n",
      "\u001b[34m[03:17:30] src/tree/updater_prune.cc:74: tree pruning end, 1 roots, 42 extra nodes, 2 pruned nodes, max_depth=5\u001b[0m\n",
      "\u001b[34m[9]#011train-error:0.226533#011validation-error:0.2492\u001b[0m\n",
      "\u001b[34m[03:17:31] src/tree/updater_prune.cc:74: tree pruning end, 1 roots, 34 extra nodes, 10 pruned nodes, max_depth=5\u001b[0m\n",
      "\u001b[34m[10]#011train-error:0.2206#011validation-error:0.2437\u001b[0m\n",
      "\u001b[34m[03:17:32] src/tree/updater_prune.cc:74: tree pruning end, 1 roots, 30 extra nodes, 10 pruned nodes, max_depth=5\u001b[0m\n",
      "\u001b[34m[11]#011train-error:0.2184#011validation-error:0.2384\u001b[0m\n",
      "\u001b[34m[03:17:34] src/tree/updater_prune.cc:74: tree pruning end, 1 roots, 34 extra nodes, 4 pruned nodes, max_depth=5\u001b[0m\n",
      "\u001b[34m[12]#011train-error:0.2156#011validation-error:0.2344\u001b[0m\n",
      "\u001b[34m[03:17:35] src/tree/updater_prune.cc:74: tree pruning end, 1 roots, 38 extra nodes, 6 pruned nodes, max_depth=5\u001b[0m\n",
      "\u001b[34m[13]#011train-error:0.2078#011validation-error:0.2289\u001b[0m\n",
      "\u001b[34m[03:17:36] src/tree/updater_prune.cc:74: tree pruning end, 1 roots, 34 extra nodes, 6 pruned nodes, max_depth=5\u001b[0m\n",
      "\u001b[34m[14]#011train-error:0.205733#011validation-error:0.2276\u001b[0m\n",
      "\u001b[34m[03:17:38] src/tree/updater_prune.cc:74: tree pruning end, 1 roots, 28 extra nodes, 4 pruned nodes, max_depth=5\u001b[0m\n",
      "\u001b[34m[15]#011train-error:0.2028#011validation-error:0.2232\u001b[0m\n",
      "\u001b[34m[03:17:39] src/tree/updater_prune.cc:74: tree pruning end, 1 roots, 22 extra nodes, 8 pruned nodes, max_depth=5\u001b[0m\n",
      "\u001b[34m[16]#011train-error:0.2002#011validation-error:0.2175\u001b[0m\n",
      "\u001b[34m[03:17:40] src/tree/updater_prune.cc:74: tree pruning end, 1 roots, 28 extra nodes, 6 pruned nodes, max_depth=5\u001b[0m\n",
      "\u001b[34m[17]#011train-error:0.197333#011validation-error:0.2169\u001b[0m\n",
      "\u001b[34m[03:17:41] src/tree/updater_prune.cc:74: tree pruning end, 1 roots, 22 extra nodes, 10 pruned nodes, max_depth=5\u001b[0m\n",
      "\u001b[34m[18]#011train-error:0.1936#011validation-error:0.2134\u001b[0m\n",
      "\u001b[34m[03:17:43] src/tree/updater_prune.cc:74: tree pruning end, 1 roots, 26 extra nodes, 8 pruned nodes, max_depth=5\u001b[0m\n",
      "\u001b[34m[19]#011train-error:0.190067#011validation-error:0.212\u001b[0m\n",
      "\u001b[34m[03:17:44] src/tree/updater_prune.cc:74: tree pruning end, 1 roots, 26 extra nodes, 6 pruned nodes, max_depth=5\u001b[0m\n",
      "\u001b[34m[20]#011train-error:0.188#011validation-error:0.2083\u001b[0m\n",
      "\u001b[34m[03:17:45] src/tree/updater_prune.cc:74: tree pruning end, 1 roots, 30 extra nodes, 12 pruned nodes, max_depth=5\u001b[0m\n",
      "\u001b[34m[21]#011train-error:0.184867#011validation-error:0.2067\u001b[0m\n",
      "\u001b[34m[03:17:47] src/tree/updater_prune.cc:74: tree pruning end, 1 roots, 42 extra nodes, 4 pruned nodes, max_depth=5\u001b[0m\n",
      "\u001b[34m[22]#011train-error:0.1824#011validation-error:0.2027\u001b[0m\n",
      "\u001b[34m[03:17:48] src/tree/updater_prune.cc:74: tree pruning end, 1 roots, 32 extra nodes, 14 pruned nodes, max_depth=5\u001b[0m\n",
      "\u001b[34m[23]#011train-error:0.180467#011validation-error:0.2012\u001b[0m\n",
      "\u001b[34m[03:17:49] src/tree/updater_prune.cc:74: tree pruning end, 1 roots, 36 extra nodes, 4 pruned nodes, max_depth=5\u001b[0m\n",
      "\u001b[34m[24]#011train-error:0.177333#011validation-error:0.2016\u001b[0m\n",
      "\u001b[34m[03:17:51] src/tree/updater_prune.cc:74: tree pruning end, 1 roots, 26 extra nodes, 8 pruned nodes, max_depth=5\u001b[0m\n",
      "\u001b[34m[25]#011train-error:0.175467#011validation-error:0.2003\u001b[0m\n",
      "\u001b[34m[03:17:52] src/tree/updater_prune.cc:74: tree pruning end, 1 roots, 26 extra nodes, 8 pruned nodes, max_depth=5\u001b[0m\n",
      "\u001b[34m[26]#011train-error:0.1734#011validation-error:0.1975\u001b[0m\n",
      "\u001b[34m[03:17:53] src/tree/updater_prune.cc:74: tree pruning end, 1 roots, 14 extra nodes, 18 pruned nodes, max_depth=5\u001b[0m\n",
      "\u001b[34m[27]#011train-error:0.1704#011validation-error:0.1958\u001b[0m\n",
      "\u001b[34m[03:17:55] src/tree/updater_prune.cc:74: tree pruning end, 1 roots, 40 extra nodes, 6 pruned nodes, max_depth=5\u001b[0m\n",
      "\u001b[34m[28]#011train-error:0.1694#011validation-error:0.1973\u001b[0m\n",
      "\u001b[34m[03:17:56] src/tree/updater_prune.cc:74: tree pruning end, 1 roots, 30 extra nodes, 6 pruned nodes, max_depth=5\u001b[0m\n",
      "\u001b[34m[29]#011train-error:0.168667#011validation-error:0.1959\u001b[0m\n",
      "\u001b[34m[03:17:57] src/tree/updater_prune.cc:74: tree pruning end, 1 roots, 18 extra nodes, 8 pruned nodes, max_depth=5\u001b[0m\n",
      "\u001b[34m[30]#011train-error:0.166667#011validation-error:0.1935\u001b[0m\n",
      "\u001b[34m[03:17:58] src/tree/updater_prune.cc:74: tree pruning end, 1 roots, 30 extra nodes, 8 pruned nodes, max_depth=5\u001b[0m\n",
      "\u001b[34m[31]#011train-error:0.1648#011validation-error:0.192\u001b[0m\n",
      "\u001b[34m[03:18:00] src/tree/updater_prune.cc:74: tree pruning end, 1 roots, 16 extra nodes, 6 pruned nodes, max_depth=5\u001b[0m\n",
      "\u001b[34m[32]#011train-error:0.163933#011validation-error:0.1909\u001b[0m\n",
      "\u001b[34m[03:18:01] src/tree/updater_prune.cc:74: tree pruning end, 1 roots, 28 extra nodes, 6 pruned nodes, max_depth=5\u001b[0m\n",
      "\u001b[34m[33]#011train-error:0.162267#011validation-error:0.1915\u001b[0m\n",
      "\u001b[34m[03:18:02] src/tree/updater_prune.cc:74: tree pruning end, 1 roots, 32 extra nodes, 12 pruned nodes, max_depth=5\u001b[0m\n",
      "\u001b[34m[34]#011train-error:0.1608#011validation-error:0.1912\u001b[0m\n",
      "\u001b[34m[03:18:04] src/tree/updater_prune.cc:74: tree pruning end, 1 roots, 22 extra nodes, 14 pruned nodes, max_depth=5\u001b[0m\n",
      "\u001b[34m[35]#011train-error:0.161067#011validation-error:0.19\u001b[0m\n",
      "\u001b[34m[03:18:05] src/tree/updater_prune.cc:74: tree pruning end, 1 roots, 30 extra nodes, 4 pruned nodes, max_depth=5\u001b[0m\n",
      "\u001b[34m[36]#011train-error:0.158933#011validation-error:0.1892\u001b[0m\n",
      "\u001b[34m[03:18:06] src/tree/updater_prune.cc:74: tree pruning end, 1 roots, 26 extra nodes, 4 pruned nodes, max_depth=5\u001b[0m\n",
      "\u001b[34m[37]#011train-error:0.1584#011validation-error:0.1875\u001b[0m\n",
      "\u001b[34m[03:18:08] src/tree/updater_prune.cc:74: tree pruning end, 1 roots, 18 extra nodes, 10 pruned nodes, max_depth=5\u001b[0m\n",
      "\u001b[34m[38]#011train-error:0.156733#011validation-error:0.1863\u001b[0m\n",
      "\u001b[34m[03:18:09] src/tree/updater_prune.cc:74: tree pruning end, 1 roots, 34 extra nodes, 0 pruned nodes, max_depth=5\u001b[0m\n",
      "\u001b[34m[39]#011train-error:0.1558#011validation-error:0.1858\u001b[0m\n",
      "\u001b[34m[03:18:10] src/tree/updater_prune.cc:74: tree pruning end, 1 roots, 28 extra nodes, 6 pruned nodes, max_depth=5\u001b[0m\n",
      "\u001b[34m[40]#011train-error:0.154333#011validation-error:0.1846\u001b[0m\n",
      "\u001b[34m[03:18:11] src/tree/updater_prune.cc:74: tree pruning end, 1 roots, 22 extra nodes, 12 pruned nodes, max_depth=5\u001b[0m\n",
      "\u001b[34m[41]#011train-error:0.152933#011validation-error:0.183\u001b[0m\n",
      "\u001b[34m[03:18:13] src/tree/updater_prune.cc:74: tree pruning end, 1 roots, 20 extra nodes, 8 pruned nodes, max_depth=5\u001b[0m\n",
      "\u001b[34m[42]#011train-error:0.1528#011validation-error:0.1821\u001b[0m\n",
      "\u001b[34m[03:18:14] src/tree/updater_prune.cc:74: tree pruning end, 1 roots, 12 extra nodes, 6 pruned nodes, max_depth=5\u001b[0m\n",
      "\u001b[34m[43]#011train-error:0.1514#011validation-error:0.1818\u001b[0m\n"
     ]
    },
    {
     "name": "stdout",
     "output_type": "stream",
     "text": [
      "\u001b[34m[03:18:15] src/tree/updater_prune.cc:74: tree pruning end, 1 roots, 16 extra nodes, 16 pruned nodes, max_depth=5\u001b[0m\n",
      "\u001b[34m[44]#011train-error:0.150067#011validation-error:0.18\u001b[0m\n",
      "\u001b[34m[03:18:17] src/tree/updater_prune.cc:74: tree pruning end, 1 roots, 28 extra nodes, 14 pruned nodes, max_depth=5\u001b[0m\n",
      "\u001b[34m[45]#011train-error:0.1488#011validation-error:0.1809\u001b[0m\n",
      "\u001b[34m[03:18:18] src/tree/updater_prune.cc:74: tree pruning end, 1 roots, 16 extra nodes, 4 pruned nodes, max_depth=5\u001b[0m\n",
      "\u001b[34m[46]#011train-error:0.146867#011validation-error:0.1808\u001b[0m\n",
      "\u001b[34m[03:18:19] src/tree/updater_prune.cc:74: tree pruning end, 1 roots, 24 extra nodes, 14 pruned nodes, max_depth=5\u001b[0m\n",
      "\u001b[34m[47]#011train-error:0.146933#011validation-error:0.1809\u001b[0m\n",
      "\u001b[34m[03:18:21] src/tree/updater_prune.cc:74: tree pruning end, 1 roots, 30 extra nodes, 10 pruned nodes, max_depth=5\u001b[0m\n",
      "\u001b[34m[48]#011train-error:0.1452#011validation-error:0.1779\u001b[0m\n",
      "\u001b[34m[03:18:22] src/tree/updater_prune.cc:74: tree pruning end, 1 roots, 16 extra nodes, 12 pruned nodes, max_depth=5\u001b[0m\n",
      "\u001b[34m[49]#011train-error:0.1448#011validation-error:0.1768\u001b[0m\n",
      "\u001b[34m[03:18:23] src/tree/updater_prune.cc:74: tree pruning end, 1 roots, 22 extra nodes, 6 pruned nodes, max_depth=5\u001b[0m\n",
      "\u001b[34m[50]#011train-error:0.142133#011validation-error:0.1742\u001b[0m\n",
      "\u001b[34m[03:18:24] src/tree/updater_prune.cc:74: tree pruning end, 1 roots, 36 extra nodes, 6 pruned nodes, max_depth=5\u001b[0m\n",
      "\u001b[34m[51]#011train-error:0.141#011validation-error:0.1749\u001b[0m\n",
      "\u001b[34m[03:18:26] src/tree/updater_prune.cc:74: tree pruning end, 1 roots, 40 extra nodes, 2 pruned nodes, max_depth=5\u001b[0m\n",
      "\u001b[34m[52]#011train-error:0.138733#011validation-error:0.1738\u001b[0m\n",
      "\u001b[34m[03:18:27] src/tree/updater_prune.cc:74: tree pruning end, 1 roots, 18 extra nodes, 12 pruned nodes, max_depth=5\u001b[0m\n",
      "\u001b[34m[53]#011train-error:0.137533#011validation-error:0.1727\u001b[0m\n",
      "\u001b[34m[03:18:28] src/tree/updater_prune.cc:74: tree pruning end, 1 roots, 22 extra nodes, 14 pruned nodes, max_depth=5\u001b[0m\n",
      "\u001b[34m[54]#011train-error:0.136333#011validation-error:0.1724\u001b[0m\n",
      "\u001b[34m[03:18:30] src/tree/updater_prune.cc:74: tree pruning end, 1 roots, 22 extra nodes, 14 pruned nodes, max_depth=5\u001b[0m\n",
      "\u001b[34m[55]#011train-error:0.135133#011validation-error:0.1719\u001b[0m\n",
      "\u001b[34m[03:18:31] src/tree/updater_prune.cc:74: tree pruning end, 1 roots, 14 extra nodes, 14 pruned nodes, max_depth=5\u001b[0m\n",
      "\u001b[34m[56]#011train-error:0.1344#011validation-error:0.1712\u001b[0m\n",
      "\u001b[34m[03:18:32] src/tree/updater_prune.cc:74: tree pruning end, 1 roots, 22 extra nodes, 6 pruned nodes, max_depth=5\u001b[0m\n",
      "\u001b[34m[57]#011train-error:0.1332#011validation-error:0.1709\u001b[0m\n",
      "\u001b[34m[03:18:34] src/tree/updater_prune.cc:74: tree pruning end, 1 roots, 16 extra nodes, 14 pruned nodes, max_depth=5\u001b[0m\n",
      "\u001b[34m[58]#011train-error:0.133067#011validation-error:0.1706\u001b[0m\n",
      "\u001b[34m[03:18:35] src/tree/updater_prune.cc:74: tree pruning end, 1 roots, 20 extra nodes, 10 pruned nodes, max_depth=5\u001b[0m\n",
      "\u001b[34m[59]#011train-error:0.132667#011validation-error:0.1695\u001b[0m\n",
      "\u001b[34m[03:18:36] src/tree/updater_prune.cc:74: tree pruning end, 1 roots, 14 extra nodes, 8 pruned nodes, max_depth=5\u001b[0m\n",
      "\u001b[34m[60]#011train-error:0.131333#011validation-error:0.1688\u001b[0m\n",
      "\u001b[34m[03:18:37] src/tree/updater_prune.cc:74: tree pruning end, 1 roots, 26 extra nodes, 10 pruned nodes, max_depth=5\u001b[0m\n",
      "\u001b[34m[61]#011train-error:0.1312#011validation-error:0.1684\u001b[0m\n",
      "\u001b[34m[03:18:39] src/tree/updater_prune.cc:74: tree pruning end, 1 roots, 24 extra nodes, 12 pruned nodes, max_depth=5\u001b[0m\n",
      "\u001b[34m[62]#011train-error:0.1308#011validation-error:0.1682\u001b[0m\n",
      "\u001b[34m[03:18:40] src/tree/updater_prune.cc:74: tree pruning end, 1 roots, 14 extra nodes, 4 pruned nodes, max_depth=5\u001b[0m\n",
      "\u001b[34m[63]#011train-error:0.129#011validation-error:0.1674\u001b[0m\n",
      "\u001b[34m[03:18:41] src/tree/updater_prune.cc:74: tree pruning end, 1 roots, 32 extra nodes, 2 pruned nodes, max_depth=5\u001b[0m\n",
      "\u001b[34m[64]#011train-error:0.127267#011validation-error:0.1679\u001b[0m\n",
      "\u001b[34m[03:18:43] src/tree/updater_prune.cc:74: tree pruning end, 1 roots, 24 extra nodes, 10 pruned nodes, max_depth=5\u001b[0m\n",
      "\u001b[34m[65]#011train-error:0.126267#011validation-error:0.1667\u001b[0m\n",
      "\u001b[34m[03:18:44] src/tree/updater_prune.cc:74: tree pruning end, 1 roots, 16 extra nodes, 16 pruned nodes, max_depth=5\u001b[0m\n",
      "\u001b[34m[66]#011train-error:0.126#011validation-error:0.1652\u001b[0m\n",
      "\u001b[34m[03:18:45] src/tree/updater_prune.cc:74: tree pruning end, 1 roots, 20 extra nodes, 12 pruned nodes, max_depth=5\u001b[0m\n",
      "\u001b[34m[67]#011train-error:0.125733#011validation-error:0.1644\u001b[0m\n",
      "\u001b[34m[03:18:46] src/tree/updater_prune.cc:74: tree pruning end, 1 roots, 18 extra nodes, 12 pruned nodes, max_depth=5\u001b[0m\n",
      "\u001b[34m[68]#011train-error:0.124533#011validation-error:0.1638\u001b[0m\n",
      "\u001b[34m[03:18:48] src/tree/updater_prune.cc:74: tree pruning end, 1 roots, 22 extra nodes, 4 pruned nodes, max_depth=5\u001b[0m\n",
      "\u001b[34m[69]#011train-error:0.124333#011validation-error:0.1633\u001b[0m\n",
      "\u001b[34m[03:18:49] src/tree/updater_prune.cc:74: tree pruning end, 1 roots, 24 extra nodes, 10 pruned nodes, max_depth=5\u001b[0m\n",
      "\u001b[34m[70]#011train-error:0.123467#011validation-error:0.1638\u001b[0m\n",
      "\u001b[34m[03:18:50] src/tree/updater_prune.cc:74: tree pruning end, 1 roots, 20 extra nodes, 12 pruned nodes, max_depth=5\u001b[0m\n",
      "\u001b[34m[71]#011train-error:0.1232#011validation-error:0.1639\u001b[0m\n",
      "\u001b[34m[03:18:52] src/tree/updater_prune.cc:74: tree pruning end, 1 roots, 16 extra nodes, 4 pruned nodes, max_depth=5\u001b[0m\n",
      "\u001b[34m[72]#011train-error:0.1226#011validation-error:0.1635\u001b[0m\n",
      "\u001b[34m[03:18:53] src/tree/updater_prune.cc:74: tree pruning end, 1 roots, 18 extra nodes, 12 pruned nodes, max_depth=5\u001b[0m\n",
      "\u001b[34m[73]#011train-error:0.122333#011validation-error:0.1628\u001b[0m\n",
      "\u001b[34m[03:18:54] src/tree/updater_prune.cc:74: tree pruning end, 1 roots, 12 extra nodes, 10 pruned nodes, max_depth=5\u001b[0m\n",
      "\u001b[34m[74]#011train-error:0.121667#011validation-error:0.162\u001b[0m\n",
      "\u001b[34m[03:18:56] src/tree/updater_prune.cc:74: tree pruning end, 1 roots, 18 extra nodes, 8 pruned nodes, max_depth=5\u001b[0m\n",
      "\u001b[34m[75]#011train-error:0.119667#011validation-error:0.162\u001b[0m\n",
      "\u001b[34m[03:18:57] src/tree/updater_prune.cc:74: tree pruning end, 1 roots, 16 extra nodes, 4 pruned nodes, max_depth=5\u001b[0m\n",
      "\u001b[34m[76]#011train-error:0.119933#011validation-error:0.161\u001b[0m\n",
      "\u001b[34m[03:18:58] src/tree/updater_prune.cc:74: tree pruning end, 1 roots, 14 extra nodes, 8 pruned nodes, max_depth=5\u001b[0m\n",
      "\u001b[34m[77]#011train-error:0.119267#011validation-error:0.1603\u001b[0m\n",
      "\u001b[34m[03:18:59] src/tree/updater_prune.cc:74: tree pruning end, 1 roots, 26 extra nodes, 12 pruned nodes, max_depth=5\u001b[0m\n",
      "\u001b[34m[78]#011train-error:0.118#011validation-error:0.1603\u001b[0m\n",
      "\u001b[34m[03:19:01] src/tree/updater_prune.cc:74: tree pruning end, 1 roots, 22 extra nodes, 6 pruned nodes, max_depth=5\u001b[0m\n",
      "\u001b[34m[79]#011train-error:0.1168#011validation-error:0.1597\u001b[0m\n",
      "\u001b[34m[03:19:02] src/tree/updater_prune.cc:74: tree pruning end, 1 roots, 20 extra nodes, 8 pruned nodes, max_depth=5\u001b[0m\n",
      "\u001b[34m[80]#011train-error:0.115667#011validation-error:0.1592\u001b[0m\n",
      "\u001b[34m[03:19:03] src/tree/updater_prune.cc:74: tree pruning end, 1 roots, 20 extra nodes, 0 pruned nodes, max_depth=5\u001b[0m\n",
      "\u001b[34m[81]#011train-error:0.115467#011validation-error:0.1579\u001b[0m\n",
      "\u001b[34m[03:19:05] src/tree/updater_prune.cc:74: tree pruning end, 1 roots, 44 extra nodes, 12 pruned nodes, max_depth=5\u001b[0m\n",
      "\u001b[34m[82]#011train-error:0.114733#011validation-error:0.1581\u001b[0m\n",
      "\u001b[34m[03:19:06] src/tree/updater_prune.cc:74: tree pruning end, 1 roots, 32 extra nodes, 4 pruned nodes, max_depth=5\u001b[0m\n",
      "\u001b[34m[83]#011train-error:0.1148#011validation-error:0.1578\u001b[0m\n",
      "\u001b[34m[03:19:07] src/tree/updater_prune.cc:74: tree pruning end, 1 roots, 18 extra nodes, 2 pruned nodes, max_depth=5\u001b[0m\n",
      "\u001b[34m[84]#011train-error:0.1136#011validation-error:0.1567\u001b[0m\n",
      "\u001b[34m[03:19:09] src/tree/updater_prune.cc:74: tree pruning end, 1 roots, 18 extra nodes, 6 pruned nodes, max_depth=5\u001b[0m\n",
      "\u001b[34m[85]#011train-error:0.113667#011validation-error:0.1568\u001b[0m\n",
      "\u001b[34m[03:19:10] src/tree/updater_prune.cc:74: tree pruning end, 1 roots, 22 extra nodes, 4 pruned nodes, max_depth=5\u001b[0m\n",
      "\u001b[34m[86]#011train-error:0.112667#011validation-error:0.1568\u001b[0m\n",
      "\u001b[34m[03:19:11] src/tree/updater_prune.cc:74: tree pruning end, 1 roots, 14 extra nodes, 2 pruned nodes, max_depth=5\u001b[0m\n",
      "\u001b[34m[87]#011train-error:0.1122#011validation-error:0.1556\u001b[0m\n",
      "\u001b[34m[03:19:12] src/tree/updater_prune.cc:74: tree pruning end, 1 roots, 32 extra nodes, 10 pruned nodes, max_depth=5\u001b[0m\n",
      "\u001b[34m[88]#011train-error:0.109533#011validation-error:0.1558\u001b[0m\n",
      "\u001b[34m[03:19:14] src/tree/updater_prune.cc:74: tree pruning end, 1 roots, 16 extra nodes, 14 pruned nodes, max_depth=5\u001b[0m\n",
      "\u001b[34m[89]#011train-error:0.109267#011validation-error:0.1561\u001b[0m\n",
      "\u001b[34m[03:19:15] src/tree/updater_prune.cc:74: tree pruning end, 1 roots, 20 extra nodes, 14 pruned nodes, max_depth=5\u001b[0m\n",
      "\u001b[34m[90]#011train-error:0.108667#011validation-error:0.1553\u001b[0m\n",
      "\u001b[34m[03:19:16] src/tree/updater_prune.cc:74: tree pruning end, 1 roots, 20 extra nodes, 8 pruned nodes, max_depth=5\u001b[0m\n",
      "\u001b[34m[91]#011train-error:0.108867#011validation-error:0.1549\u001b[0m\n"
     ]
    },
    {
     "name": "stdout",
     "output_type": "stream",
     "text": [
      "\u001b[34m[03:19:18] src/tree/updater_prune.cc:74: tree pruning end, 1 roots, 18 extra nodes, 4 pruned nodes, max_depth=5\u001b[0m\n",
      "\u001b[34m[92]#011train-error:0.1086#011validation-error:0.1545\u001b[0m\n",
      "\u001b[34m[03:19:19] src/tree/updater_prune.cc:74: tree pruning end, 1 roots, 16 extra nodes, 10 pruned nodes, max_depth=5\u001b[0m\n",
      "\u001b[34m[93]#011train-error:0.1076#011validation-error:0.1543\u001b[0m\n",
      "\u001b[34m[03:19:20] src/tree/updater_prune.cc:74: tree pruning end, 1 roots, 22 extra nodes, 12 pruned nodes, max_depth=5\u001b[0m\n",
      "\u001b[34m[94]#011train-error:0.106333#011validation-error:0.1547\u001b[0m\n",
      "\u001b[34m[03:19:22] src/tree/updater_prune.cc:74: tree pruning end, 1 roots, 12 extra nodes, 10 pruned nodes, max_depth=5\u001b[0m\n",
      "\u001b[34m[95]#011train-error:0.106267#011validation-error:0.1543\u001b[0m\n",
      "\u001b[34m[03:19:23] src/tree/updater_prune.cc:74: tree pruning end, 1 roots, 14 extra nodes, 12 pruned nodes, max_depth=5\u001b[0m\n",
      "\u001b[34m[96]#011train-error:0.105733#011validation-error:0.1532\u001b[0m\n",
      "\u001b[34m[03:19:24] src/tree/updater_prune.cc:74: tree pruning end, 1 roots, 14 extra nodes, 18 pruned nodes, max_depth=5\u001b[0m\n",
      "\u001b[34m[97]#011train-error:0.1052#011validation-error:0.1522\u001b[0m\n",
      "\u001b[34m[03:19:25] src/tree/updater_prune.cc:74: tree pruning end, 1 roots, 10 extra nodes, 8 pruned nodes, max_depth=5\u001b[0m\n",
      "\u001b[34m[98]#011train-error:0.104733#011validation-error:0.1524\u001b[0m\n",
      "\u001b[34m[03:19:27] src/tree/updater_prune.cc:74: tree pruning end, 1 roots, 10 extra nodes, 0 pruned nodes, max_depth=5\u001b[0m\n",
      "\u001b[34m[99]#011train-error:0.1042#011validation-error:0.1519\u001b[0m\n",
      "\u001b[34m[03:19:28] src/tree/updater_prune.cc:74: tree pruning end, 1 roots, 18 extra nodes, 2 pruned nodes, max_depth=5\u001b[0m\n",
      "\u001b[34m[100]#011train-error:0.103533#011validation-error:0.1513\u001b[0m\n",
      "\u001b[34m[03:19:29] src/tree/updater_prune.cc:74: tree pruning end, 1 roots, 14 extra nodes, 14 pruned nodes, max_depth=5\u001b[0m\n",
      "\u001b[34m[101]#011train-error:0.103533#011validation-error:0.1517\u001b[0m\n",
      "\u001b[34m[03:19:31] src/tree/updater_prune.cc:74: tree pruning end, 1 roots, 22 extra nodes, 2 pruned nodes, max_depth=5\u001b[0m\n",
      "\u001b[34m[102]#011train-error:0.102533#011validation-error:0.1507\u001b[0m\n",
      "\u001b[34m[03:19:32] src/tree/updater_prune.cc:74: tree pruning end, 1 roots, 24 extra nodes, 6 pruned nodes, max_depth=5\u001b[0m\n",
      "\u001b[34m[103]#011train-error:0.1026#011validation-error:0.1501\u001b[0m\n",
      "\u001b[34m[03:19:33] src/tree/updater_prune.cc:74: tree pruning end, 1 roots, 10 extra nodes, 6 pruned nodes, max_depth=5\u001b[0m\n",
      "\u001b[34m[104]#011train-error:0.101933#011validation-error:0.1497\u001b[0m\n",
      "\u001b[34m[03:19:35] src/tree/updater_prune.cc:74: tree pruning end, 1 roots, 12 extra nodes, 4 pruned nodes, max_depth=5\u001b[0m\n",
      "\u001b[34m[105]#011train-error:0.101867#011validation-error:0.1492\u001b[0m\n",
      "\u001b[34m[03:19:36] src/tree/updater_prune.cc:74: tree pruning end, 1 roots, 28 extra nodes, 12 pruned nodes, max_depth=5\u001b[0m\n",
      "\u001b[34m[106]#011train-error:0.100333#011validation-error:0.1492\u001b[0m\n",
      "\u001b[34m[03:19:37] src/tree/updater_prune.cc:74: tree pruning end, 1 roots, 22 extra nodes, 8 pruned nodes, max_depth=5\u001b[0m\n",
      "\u001b[34m[107]#011train-error:0.100733#011validation-error:0.1488\u001b[0m\n",
      "\u001b[34m[03:19:39] src/tree/updater_prune.cc:74: tree pruning end, 1 roots, 14 extra nodes, 6 pruned nodes, max_depth=5\u001b[0m\n",
      "\u001b[34m[108]#011train-error:0.100733#011validation-error:0.1487\u001b[0m\n",
      "\u001b[34m[03:19:40] src/tree/updater_prune.cc:74: tree pruning end, 1 roots, 24 extra nodes, 6 pruned nodes, max_depth=5\u001b[0m\n",
      "\u001b[34m[109]#011train-error:0.099133#011validation-error:0.1488\u001b[0m\n",
      "\u001b[34m[03:19:41] src/tree/updater_prune.cc:74: tree pruning end, 1 roots, 18 extra nodes, 6 pruned nodes, max_depth=5\u001b[0m\n",
      "\u001b[34m[110]#011train-error:0.099333#011validation-error:0.1487\u001b[0m\n",
      "\u001b[34m[03:19:42] src/tree/updater_prune.cc:74: tree pruning end, 1 roots, 16 extra nodes, 8 pruned nodes, max_depth=5\u001b[0m\n",
      "\u001b[34m[111]#011train-error:0.0994#011validation-error:0.1489\u001b[0m\n",
      "\u001b[34m[03:19:44] src/tree/updater_prune.cc:74: tree pruning end, 1 roots, 28 extra nodes, 10 pruned nodes, max_depth=5\u001b[0m\n",
      "\u001b[34m[112]#011train-error:0.0982#011validation-error:0.1477\u001b[0m\n",
      "\u001b[34m[03:19:45] src/tree/updater_prune.cc:74: tree pruning end, 1 roots, 14 extra nodes, 6 pruned nodes, max_depth=5\u001b[0m\n",
      "\u001b[34m[113]#011train-error:0.0984#011validation-error:0.1471\u001b[0m\n",
      "\u001b[34m[03:19:46] src/tree/updater_prune.cc:74: tree pruning end, 1 roots, 16 extra nodes, 8 pruned nodes, max_depth=5\u001b[0m\n",
      "\u001b[34m[114]#011train-error:0.098067#011validation-error:0.147\u001b[0m\n",
      "\u001b[34m[03:19:48] src/tree/updater_prune.cc:74: tree pruning end, 1 roots, 22 extra nodes, 6 pruned nodes, max_depth=5\u001b[0m\n",
      "\u001b[34m[115]#011train-error:0.097#011validation-error:0.1464\u001b[0m\n",
      "\u001b[34m[03:19:49] src/tree/updater_prune.cc:74: tree pruning end, 1 roots, 26 extra nodes, 2 pruned nodes, max_depth=5\u001b[0m\n",
      "\u001b[34m[116]#011train-error:0.096533#011validation-error:0.1466\u001b[0m\n",
      "\u001b[34m[03:19:50] src/tree/updater_prune.cc:74: tree pruning end, 1 roots, 22 extra nodes, 6 pruned nodes, max_depth=5\u001b[0m\n",
      "\u001b[34m[117]#011train-error:0.0956#011validation-error:0.1467\u001b[0m\n",
      "\u001b[34m[03:19:52] src/tree/updater_prune.cc:74: tree pruning end, 1 roots, 16 extra nodes, 8 pruned nodes, max_depth=5\u001b[0m\n",
      "\u001b[34m[118]#011train-error:0.0948#011validation-error:0.1464\u001b[0m\n",
      "\u001b[34m[03:19:53] src/tree/updater_prune.cc:74: tree pruning end, 1 roots, 12 extra nodes, 6 pruned nodes, max_depth=5\u001b[0m\n",
      "\u001b[34m[119]#011train-error:0.0948#011validation-error:0.1467\u001b[0m\n",
      "\u001b[34m[03:19:54] src/tree/updater_prune.cc:74: tree pruning end, 1 roots, 14 extra nodes, 6 pruned nodes, max_depth=5\u001b[0m\n",
      "\u001b[34m[120]#011train-error:0.0952#011validation-error:0.1461\u001b[0m\n",
      "\u001b[34m[03:19:56] src/tree/updater_prune.cc:74: tree pruning end, 1 roots, 14 extra nodes, 4 pruned nodes, max_depth=5\u001b[0m\n",
      "\u001b[34m[121]#011train-error:0.094733#011validation-error:0.1467\u001b[0m\n",
      "\u001b[34m[03:19:57] src/tree/updater_prune.cc:74: tree pruning end, 1 roots, 12 extra nodes, 8 pruned nodes, max_depth=5\u001b[0m\n",
      "\u001b[34m[122]#011train-error:0.094933#011validation-error:0.1469\u001b[0m\n",
      "\u001b[34m[03:19:58] src/tree/updater_prune.cc:74: tree pruning end, 1 roots, 12 extra nodes, 4 pruned nodes, max_depth=5\u001b[0m\n",
      "\u001b[34m[123]#011train-error:0.094533#011validation-error:0.1468\u001b[0m\n",
      "\u001b[34m[03:19:59] src/tree/updater_prune.cc:74: tree pruning end, 1 roots, 12 extra nodes, 0 pruned nodes, max_depth=5\u001b[0m\n",
      "\u001b[34m[124]#011train-error:0.093933#011validation-error:0.1466\u001b[0m\n",
      "\u001b[34m[03:20:01] src/tree/updater_prune.cc:74: tree pruning end, 1 roots, 12 extra nodes, 2 pruned nodes, max_depth=5\u001b[0m\n",
      "\u001b[34m[125]#011train-error:0.0936#011validation-error:0.1467\u001b[0m\n",
      "\u001b[34m[03:20:02] src/tree/updater_prune.cc:74: tree pruning end, 1 roots, 16 extra nodes, 10 pruned nodes, max_depth=5\u001b[0m\n",
      "\u001b[34m[126]#011train-error:0.092667#011validation-error:0.1457\u001b[0m\n",
      "\u001b[34m[03:20:03] src/tree/updater_prune.cc:74: tree pruning end, 1 roots, 20 extra nodes, 22 pruned nodes, max_depth=5\u001b[0m\n",
      "\u001b[34m[127]#011train-error:0.091933#011validation-error:0.1454\u001b[0m\n",
      "\u001b[34m[03:20:05] src/tree/updater_prune.cc:74: tree pruning end, 1 roots, 16 extra nodes, 8 pruned nodes, max_depth=5\u001b[0m\n",
      "\u001b[34m[128]#011train-error:0.091467#011validation-error:0.1451\u001b[0m\n",
      "\u001b[34m[03:20:06] src/tree/updater_prune.cc:74: tree pruning end, 1 roots, 10 extra nodes, 0 pruned nodes, max_depth=5\u001b[0m\n",
      "\u001b[34m[129]#011train-error:0.0914#011validation-error:0.145\u001b[0m\n",
      "\u001b[34m[03:20:07] src/tree/updater_prune.cc:74: tree pruning end, 1 roots, 20 extra nodes, 6 pruned nodes, max_depth=5\u001b[0m\n",
      "\u001b[34m[130]#011train-error:0.090867#011validation-error:0.1453\u001b[0m\n",
      "\u001b[34m[03:20:09] src/tree/updater_prune.cc:74: tree pruning end, 1 roots, 10 extra nodes, 16 pruned nodes, max_depth=5\u001b[0m\n",
      "\u001b[34m[131]#011train-error:0.091#011validation-error:0.1453\u001b[0m\n",
      "\u001b[34m[03:20:10] src/tree/updater_prune.cc:74: tree pruning end, 1 roots, 16 extra nodes, 6 pruned nodes, max_depth=5\u001b[0m\n",
      "\u001b[34m[132]#011train-error:0.090933#011validation-error:0.1446\u001b[0m\n",
      "\u001b[34m[03:20:11] src/tree/updater_prune.cc:74: tree pruning end, 1 roots, 14 extra nodes, 4 pruned nodes, max_depth=5\u001b[0m\n",
      "\u001b[34m[133]#011train-error:0.0898#011validation-error:0.1442\u001b[0m\n",
      "\u001b[34m[03:20:13] src/tree/updater_prune.cc:74: tree pruning end, 1 roots, 18 extra nodes, 8 pruned nodes, max_depth=5\u001b[0m\n",
      "\u001b[34m[134]#011train-error:0.0894#011validation-error:0.1444\u001b[0m\n",
      "\u001b[34m[03:20:14] src/tree/updater_prune.cc:74: tree pruning end, 1 roots, 18 extra nodes, 8 pruned nodes, max_depth=5\u001b[0m\n",
      "\u001b[34m[135]#011train-error:0.0896#011validation-error:0.1437\u001b[0m\n",
      "\u001b[34m[03:20:15] src/tree/updater_prune.cc:74: tree pruning end, 1 roots, 20 extra nodes, 6 pruned nodes, max_depth=5\u001b[0m\n",
      "\u001b[34m[136]#011train-error:0.089#011validation-error:0.1425\u001b[0m\n",
      "\u001b[34m[03:20:16] src/tree/updater_prune.cc:74: tree pruning end, 1 roots, 28 extra nodes, 8 pruned nodes, max_depth=5\u001b[0m\n",
      "\u001b[34m[137]#011train-error:0.088333#011validation-error:0.1425\u001b[0m\n",
      "\u001b[34m[03:20:18] src/tree/updater_prune.cc:74: tree pruning end, 1 roots, 14 extra nodes, 12 pruned nodes, max_depth=5\u001b[0m\n",
      "\u001b[34m[138]#011train-error:0.0882#011validation-error:0.1417\u001b[0m\n",
      "\u001b[34m[03:20:19] src/tree/updater_prune.cc:74: tree pruning end, 1 roots, 10 extra nodes, 4 pruned nodes, max_depth=5\u001b[0m\n",
      "\u001b[34m[139]#011train-error:0.088133#011validation-error:0.1414\u001b[0m\n",
      "\u001b[34m[03:20:20] src/tree/updater_prune.cc:74: tree pruning end, 1 roots, 14 extra nodes, 12 pruned nodes, max_depth=5\u001b[0m\n",
      "\u001b[34m[140]#011train-error:0.087933#011validation-error:0.1416\u001b[0m\n",
      "\u001b[34m[03:20:22] src/tree/updater_prune.cc:74: tree pruning end, 1 roots, 10 extra nodes, 2 pruned nodes, max_depth=5\u001b[0m\n",
      "\u001b[34m[141]#011train-error:0.087333#011validation-error:0.1419\u001b[0m\n",
      "\u001b[34m[03:20:23] src/tree/updater_prune.cc:74: tree pruning end, 1 roots, 26 extra nodes, 6 pruned nodes, max_depth=5\u001b[0m\n",
      "\u001b[34m[142]#011train-error:0.0874#011validation-error:0.1411\u001b[0m\n",
      "\u001b[34m[03:20:24] src/tree/updater_prune.cc:74: tree pruning end, 1 roots, 22 extra nodes, 18 pruned nodes, max_depth=5\u001b[0m\n",
      "\u001b[34m[143]#011train-error:0.086133#011validation-error:0.1414\u001b[0m\n"
     ]
    },
    {
     "name": "stdout",
     "output_type": "stream",
     "text": [
      "\u001b[34m[03:20:26] src/tree/updater_prune.cc:74: tree pruning end, 1 roots, 16 extra nodes, 12 pruned nodes, max_depth=5\u001b[0m\n",
      "\u001b[34m[144]#011train-error:0.085867#011validation-error:0.1416\u001b[0m\n",
      "\u001b[34m[03:20:27] src/tree/updater_prune.cc:74: tree pruning end, 1 roots, 12 extra nodes, 10 pruned nodes, max_depth=5\u001b[0m\n",
      "\u001b[34m[145]#011train-error:0.086333#011validation-error:0.1408\u001b[0m\n",
      "\u001b[34m[03:20:28] src/tree/updater_prune.cc:74: tree pruning end, 1 roots, 16 extra nodes, 8 pruned nodes, max_depth=5\u001b[0m\n",
      "\u001b[34m[146]#011train-error:0.0858#011validation-error:0.1418\u001b[0m\n",
      "\u001b[34m[03:20:30] src/tree/updater_prune.cc:74: tree pruning end, 1 roots, 16 extra nodes, 8 pruned nodes, max_depth=5\u001b[0m\n",
      "\u001b[34m[147]#011train-error:0.0854#011validation-error:0.1414\u001b[0m\n",
      "\u001b[34m[03:20:31] src/tree/updater_prune.cc:74: tree pruning end, 1 roots, 20 extra nodes, 14 pruned nodes, max_depth=5\u001b[0m\n",
      "\u001b[34m[148]#011train-error:0.085#011validation-error:0.1404\u001b[0m\n",
      "\u001b[34m[03:20:32] src/tree/updater_prune.cc:74: tree pruning end, 1 roots, 16 extra nodes, 6 pruned nodes, max_depth=5\u001b[0m\n",
      "\u001b[34m[149]#011train-error:0.085#011validation-error:0.1402\u001b[0m\n",
      "\u001b[34m[03:20:33] src/tree/updater_prune.cc:74: tree pruning end, 1 roots, 12 extra nodes, 6 pruned nodes, max_depth=5\u001b[0m\n",
      "\u001b[34m[150]#011train-error:0.084733#011validation-error:0.1403\u001b[0m\n",
      "\u001b[34m[03:20:35] src/tree/updater_prune.cc:74: tree pruning end, 1 roots, 14 extra nodes, 2 pruned nodes, max_depth=5\u001b[0m\n",
      "\u001b[34m[151]#011train-error:0.084867#011validation-error:0.1404\u001b[0m\n",
      "\u001b[34m[03:20:36] src/tree/updater_prune.cc:74: tree pruning end, 1 roots, 20 extra nodes, 18 pruned nodes, max_depth=5\u001b[0m\n",
      "\u001b[34m[152]#011train-error:0.085#011validation-error:0.1401\u001b[0m\n",
      "\u001b[34m[03:20:37] src/tree/updater_prune.cc:74: tree pruning end, 1 roots, 18 extra nodes, 10 pruned nodes, max_depth=5\u001b[0m\n",
      "\u001b[34m[153]#011train-error:0.085067#011validation-error:0.1396\u001b[0m\n",
      "\u001b[34m[03:20:39] src/tree/updater_prune.cc:74: tree pruning end, 1 roots, 10 extra nodes, 4 pruned nodes, max_depth=5\u001b[0m\n",
      "\u001b[34m[154]#011train-error:0.0846#011validation-error:0.1399\u001b[0m\n",
      "\u001b[34m[03:20:40] src/tree/updater_prune.cc:74: tree pruning end, 1 roots, 24 extra nodes, 4 pruned nodes, max_depth=5\u001b[0m\n",
      "\u001b[34m[155]#011train-error:0.084133#011validation-error:0.1392\u001b[0m\n",
      "\u001b[34m[03:20:41] src/tree/updater_prune.cc:74: tree pruning end, 1 roots, 12 extra nodes, 8 pruned nodes, max_depth=5\u001b[0m\n",
      "\u001b[34m[156]#011train-error:0.083667#011validation-error:0.1389\u001b[0m\n",
      "\u001b[34m[03:20:43] src/tree/updater_prune.cc:74: tree pruning end, 1 roots, 12 extra nodes, 12 pruned nodes, max_depth=5\u001b[0m\n",
      "\u001b[34m[157]#011train-error:0.083733#011validation-error:0.1389\u001b[0m\n",
      "\u001b[34m[03:20:44] src/tree/updater_prune.cc:74: tree pruning end, 1 roots, 12 extra nodes, 8 pruned nodes, max_depth=5\u001b[0m\n",
      "\u001b[34m[158]#011train-error:0.0832#011validation-error:0.1387\u001b[0m\n",
      "\u001b[34m[03:20:45] src/tree/updater_prune.cc:74: tree pruning end, 1 roots, 10 extra nodes, 0 pruned nodes, max_depth=5\u001b[0m\n",
      "\u001b[34m[159]#011train-error:0.083333#011validation-error:0.1382\u001b[0m\n",
      "\u001b[34m[03:20:46] src/tree/updater_prune.cc:74: tree pruning end, 1 roots, 14 extra nodes, 8 pruned nodes, max_depth=5\u001b[0m\n",
      "\u001b[34m[160]#011train-error:0.0834#011validation-error:0.1378\u001b[0m\n",
      "\u001b[34m[03:20:48] src/tree/updater_prune.cc:74: tree pruning end, 1 roots, 12 extra nodes, 8 pruned nodes, max_depth=5\u001b[0m\n",
      "\u001b[34m[161]#011train-error:0.083133#011validation-error:0.1383\u001b[0m\n",
      "\u001b[34m[03:20:49] src/tree/updater_prune.cc:74: tree pruning end, 1 roots, 18 extra nodes, 12 pruned nodes, max_depth=5\u001b[0m\n",
      "\u001b[34m[162]#011train-error:0.082867#011validation-error:0.1386\u001b[0m\n",
      "\u001b[34m[03:20:50] src/tree/updater_prune.cc:74: tree pruning end, 1 roots, 10 extra nodes, 6 pruned nodes, max_depth=5\u001b[0m\n",
      "\u001b[34m[163]#011train-error:0.082867#011validation-error:0.1386\u001b[0m\n",
      "\u001b[34m[03:20:52] src/tree/updater_prune.cc:74: tree pruning end, 1 roots, 16 extra nodes, 10 pruned nodes, max_depth=5\u001b[0m\n",
      "\u001b[34m[164]#011train-error:0.0826#011validation-error:0.1381\u001b[0m\n",
      "\u001b[34m[03:20:53] src/tree/updater_prune.cc:74: tree pruning end, 1 roots, 18 extra nodes, 6 pruned nodes, max_depth=5\u001b[0m\n",
      "\u001b[34m[165]#011train-error:0.081867#011validation-error:0.1378\u001b[0m\n",
      "\u001b[34m[03:20:54] src/tree/updater_prune.cc:74: tree pruning end, 1 roots, 16 extra nodes, 4 pruned nodes, max_depth=5\u001b[0m\n",
      "\u001b[34m[166]#011train-error:0.081333#011validation-error:0.1378\u001b[0m\n",
      "\u001b[34m[03:20:56] src/tree/updater_prune.cc:74: tree pruning end, 1 roots, 12 extra nodes, 2 pruned nodes, max_depth=5\u001b[0m\n",
      "\u001b[34m[167]#011train-error:0.081133#011validation-error:0.1381\u001b[0m\n",
      "\u001b[34m[03:20:57] src/tree/updater_prune.cc:74: tree pruning end, 1 roots, 12 extra nodes, 2 pruned nodes, max_depth=5\u001b[0m\n",
      "\u001b[34m[168]#011train-error:0.0806#011validation-error:0.1376\u001b[0m\n",
      "\u001b[34m[03:20:58] src/tree/updater_prune.cc:74: tree pruning end, 1 roots, 10 extra nodes, 2 pruned nodes, max_depth=5\u001b[0m\n",
      "\u001b[34m[169]#011train-error:0.080333#011validation-error:0.1371\u001b[0m\n",
      "\u001b[34m[03:21:00] src/tree/updater_prune.cc:74: tree pruning end, 1 roots, 20 extra nodes, 6 pruned nodes, max_depth=5\u001b[0m\n",
      "\u001b[34m[170]#011train-error:0.079733#011validation-error:0.1382\u001b[0m\n",
      "\u001b[34m[03:21:01] src/tree/updater_prune.cc:74: tree pruning end, 1 roots, 16 extra nodes, 12 pruned nodes, max_depth=5\u001b[0m\n",
      "\u001b[34m[171]#011train-error:0.079133#011validation-error:0.1383\u001b[0m\n",
      "\u001b[34m[03:21:02] src/tree/updater_prune.cc:74: tree pruning end, 1 roots, 20 extra nodes, 14 pruned nodes, max_depth=5\u001b[0m\n",
      "\u001b[34m[172]#011train-error:0.078667#011validation-error:0.1383\u001b[0m\n",
      "\u001b[34m[03:21:03] src/tree/updater_prune.cc:74: tree pruning end, 1 roots, 10 extra nodes, 4 pruned nodes, max_depth=5\u001b[0m\n",
      "\u001b[34m[173]#011train-error:0.078333#011validation-error:0.1378\u001b[0m\n",
      "\u001b[34m[03:21:05] src/tree/updater_prune.cc:74: tree pruning end, 1 roots, 16 extra nodes, 8 pruned nodes, max_depth=5\u001b[0m\n",
      "\u001b[34m[174]#011train-error:0.0784#011validation-error:0.1384\u001b[0m\n",
      "\u001b[34m[03:21:06] src/tree/updater_prune.cc:74: tree pruning end, 1 roots, 14 extra nodes, 14 pruned nodes, max_depth=5\u001b[0m\n",
      "\u001b[34m[175]#011train-error:0.078#011validation-error:0.1373\u001b[0m\n",
      "\u001b[34m[03:21:07] src/tree/updater_prune.cc:74: tree pruning end, 1 roots, 16 extra nodes, 0 pruned nodes, max_depth=5\u001b[0m\n",
      "\u001b[34m[176]#011train-error:0.077867#011validation-error:0.1374\u001b[0m\n",
      "\u001b[34m[03:21:09] src/tree/updater_prune.cc:74: tree pruning end, 1 roots, 12 extra nodes, 2 pruned nodes, max_depth=5\u001b[0m\n",
      "\u001b[34m[177]#011train-error:0.077733#011validation-error:0.1372\u001b[0m\n",
      "\u001b[34m[03:21:10] src/tree/updater_prune.cc:74: tree pruning end, 1 roots, 22 extra nodes, 10 pruned nodes, max_depth=5\u001b[0m\n",
      "\u001b[34m[178]#011train-error:0.0772#011validation-error:0.1387\u001b[0m\n",
      "\u001b[34m[03:21:11] src/tree/updater_prune.cc:74: tree pruning end, 1 roots, 20 extra nodes, 8 pruned nodes, max_depth=5\u001b[0m\n",
      "\u001b[34m[179]#011train-error:0.0774#011validation-error:0.1383\u001b[0m\n",
      "\u001b[34mStopping. Best iteration:\u001b[0m\n",
      "\u001b[34m[169]#011train-error:0.080333#011validation-error:0.1371\n",
      "\u001b[0m\n",
      "\n",
      "2020-07-16 03:22:22 Uploading - Uploading generated training model\n",
      "2020-07-16 03:22:22 Completed - Training job completed\n",
      "Training seconds: 346\n",
      "Billable seconds: 346\n"
     ]
    }
   ],
   "source": [
    "xgb.fit({'train': s3_input_train, 'validation': s3_input_validation})"
   ]
  },
  {
   "cell_type": "markdown",
   "metadata": {},
   "source": [
    "## Step 5: Testing the model\n",
    "\n",
    "Now that we've fit our XGBoost model, it's time to see how well it performs. To do this we will use SageMakers Batch Transform functionality. Batch Transform is a convenient way to perform inference on a large dataset in a way that is not realtime. That is, we don't necessarily need to use our model's results immediately and instead we can perform inference on a large number of samples. An example of this in industry might be performing an end of month report. This method of inference can also be useful to us as it means that we can perform inference on our entire test set. \n",
    "\n",
    "To perform a Batch Transformation we need to first create a transformer objects from our trained estimator object."
   ]
  },
  {
   "cell_type": "code",
   "execution_count": 24,
   "metadata": {},
   "outputs": [
    {
     "name": "stderr",
     "output_type": "stream",
     "text": [
      "WARNING:sagemaker:Parameter image will be renamed to image_uri in SageMaker Python SDK v2.\n"
     ]
    }
   ],
   "source": [
    "xgb_transformer = xgb.transformer(instance_count = 1, instance_type = 'ml.m4.xlarge')"
   ]
  },
  {
   "cell_type": "markdown",
   "metadata": {},
   "source": [
    "Next we actually perform the transform job. When doing so we need to make sure to specify the type of data we are sending so that it is serialized correctly in the background. In our case we are providing our model with csv data so we specify `text/csv`. Also, if the test data that we have provided is too large to process all at once then we need to specify how the data file should be split up. Since each line is a single entry in our data set we tell SageMaker that it can split the input on each line."
   ]
  },
  {
   "cell_type": "code",
   "execution_count": 25,
   "metadata": {},
   "outputs": [],
   "source": [
    "xgb_transformer.transform(test_location, content_type='text/csv', split_type='Line')"
   ]
  },
  {
   "cell_type": "markdown",
   "metadata": {},
   "source": [
    "Currently the transform job is running but it is doing so in the background. Since we wish to wait until the transform job is done and we would like a bit of feedback we can run the `wait()` method."
   ]
  },
  {
   "cell_type": "code",
   "execution_count": 26,
   "metadata": {},
   "outputs": [
    {
     "name": "stdout",
     "output_type": "stream",
     "text": [
      "......................\u001b[34mArguments: serve\u001b[0m\n",
      "\u001b[34m[2020-07-16 03:26:26 +0000] [1] [INFO] Starting gunicorn 19.7.1\u001b[0m\n",
      "\u001b[34m[2020-07-16 03:26:26 +0000] [1] [INFO] Listening at: http://0.0.0.0:8080 (1)\u001b[0m\n",
      "\u001b[34m[2020-07-16 03:26:26 +0000] [1] [INFO] Using worker: gevent\u001b[0m\n",
      "\u001b[34m[2020-07-16 03:26:26 +0000] [36] [INFO] Booting worker with pid: 36\u001b[0m\n",
      "\u001b[34m[2020-07-16 03:26:26 +0000] [37] [INFO] Booting worker with pid: 37\u001b[0m\n",
      "\u001b[34m[2020-07-16 03:26:26 +0000] [38] [INFO] Booting worker with pid: 38\u001b[0m\n",
      "\u001b[34m[2020-07-16 03:26:26 +0000] [39] [INFO] Booting worker with pid: 39\u001b[0m\n",
      "\u001b[34m[2020-07-16:03:26:26:INFO] Model loaded successfully for worker : 37\u001b[0m\n",
      "\u001b[34m[2020-07-16:03:26:26:INFO] Model loaded successfully for worker : 38\u001b[0m\n",
      "\u001b[34m[2020-07-16:03:26:26:INFO] Model loaded successfully for worker : 36\u001b[0m\n",
      "\u001b[34m[2020-07-16:03:26:26:INFO] Model loaded successfully for worker : 39\u001b[0m\n",
      "\u001b[32m2020-07-16T03:26:39.060:[sagemaker logs]: MaxConcurrentTransforms=4, MaxPayloadInMB=6, BatchStrategy=MULTI_RECORD\u001b[0m\n",
      "\u001b[34m[2020-07-16:03:26:41:INFO] Sniff delimiter as ','\u001b[0m\n",
      "\u001b[34m[2020-07-16:03:26:41:INFO] Determined delimiter of CSV input is ','\u001b[0m\n",
      "\u001b[34m[2020-07-16:03:26:42:INFO] Sniff delimiter as ','\u001b[0m\n",
      "\u001b[34m[2020-07-16:03:26:42:INFO] Determined delimiter of CSV input is ','\u001b[0m\n",
      "\u001b[34m[2020-07-16:03:26:42:INFO] Sniff delimiter as ','\u001b[0m\n",
      "\u001b[34m[2020-07-16:03:26:42:INFO] Determined delimiter of CSV input is ','\u001b[0m\n",
      "\u001b[35m[2020-07-16:03:26:41:INFO] Sniff delimiter as ','\u001b[0m\n",
      "\u001b[35m[2020-07-16:03:26:41:INFO] Determined delimiter of CSV input is ','\u001b[0m\n",
      "\u001b[35m[2020-07-16:03:26:42:INFO] Sniff delimiter as ','\u001b[0m\n",
      "\u001b[35m[2020-07-16:03:26:42:INFO] Determined delimiter of CSV input is ','\u001b[0m\n",
      "\u001b[35m[2020-07-16:03:26:42:INFO] Sniff delimiter as ','\u001b[0m\n",
      "\u001b[35m[2020-07-16:03:26:42:INFO] Determined delimiter of CSV input is ','\u001b[0m\n",
      "\u001b[34m[2020-07-16:03:26:42:INFO] Sniff delimiter as ','\u001b[0m\n",
      "\u001b[34m[2020-07-16:03:26:42:INFO] Determined delimiter of CSV input is ','\u001b[0m\n",
      "\u001b[35m[2020-07-16:03:26:42:INFO] Sniff delimiter as ','\u001b[0m\n",
      "\u001b[35m[2020-07-16:03:26:42:INFO] Determined delimiter of CSV input is ','\u001b[0m\n",
      "\u001b[34m[2020-07-16:03:26:44:INFO] Sniff delimiter as ','\u001b[0m\n",
      "\u001b[34m[2020-07-16:03:26:44:INFO] Determined delimiter of CSV input is ','\u001b[0m\n",
      "\u001b[34m[2020-07-16:03:26:44:INFO] Sniff delimiter as ','\u001b[0m\n",
      "\u001b[35m[2020-07-16:03:26:44:INFO] Sniff delimiter as ','\u001b[0m\n",
      "\u001b[35m[2020-07-16:03:26:44:INFO] Determined delimiter of CSV input is ','\u001b[0m\n",
      "\u001b[35m[2020-07-16:03:26:44:INFO] Sniff delimiter as ','\u001b[0m\n",
      "\u001b[34m[2020-07-16:03:26:44:INFO] Determined delimiter of CSV input is ','\u001b[0m\n",
      "\u001b[35m[2020-07-16:03:26:44:INFO] Determined delimiter of CSV input is ','\u001b[0m\n",
      "\u001b[34m[2020-07-16:03:26:44:INFO] Sniff delimiter as ','\u001b[0m\n",
      "\u001b[34m[2020-07-16:03:26:44:INFO] Determined delimiter of CSV input is ','\u001b[0m\n",
      "\u001b[34m[2020-07-16:03:26:44:INFO] Sniff delimiter as ','\u001b[0m\n",
      "\u001b[34m[2020-07-16:03:26:44:INFO] Determined delimiter of CSV input is ','\u001b[0m\n",
      "\u001b[35m[2020-07-16:03:26:44:INFO] Sniff delimiter as ','\u001b[0m\n",
      "\u001b[35m[2020-07-16:03:26:44:INFO] Determined delimiter of CSV input is ','\u001b[0m\n",
      "\u001b[35m[2020-07-16:03:26:44:INFO] Sniff delimiter as ','\u001b[0m\n",
      "\u001b[35m[2020-07-16:03:26:44:INFO] Determined delimiter of CSV input is ','\u001b[0m\n",
      "\u001b[34m[2020-07-16:03:26:47:INFO] Sniff delimiter as ','\u001b[0m\n",
      "\u001b[34m[2020-07-16:03:26:47:INFO] Determined delimiter of CSV input is ','\u001b[0m\n",
      "\u001b[34m[2020-07-16:03:26:47:INFO] Sniff delimiter as ','\u001b[0m\n",
      "\u001b[34m[2020-07-16:03:26:47:INFO] Determined delimiter of CSV input is ','\u001b[0m\n",
      "\u001b[34m[2020-07-16:03:26:47:INFO] Sniff delimiter as ','\u001b[0m\n",
      "\u001b[34m[2020-07-16:03:26:47:INFO] Determined delimiter of CSV input is ','\u001b[0m\n",
      "\u001b[34m[2020-07-16:03:26:47:INFO] Sniff delimiter as ','\u001b[0m\n",
      "\u001b[34m[2020-07-16:03:26:47:INFO] Determined delimiter of CSV input is ','\u001b[0m\n",
      "\u001b[35m[2020-07-16:03:26:47:INFO] Sniff delimiter as ','\u001b[0m\n",
      "\u001b[35m[2020-07-16:03:26:47:INFO] Determined delimiter of CSV input is ','\u001b[0m\n",
      "\u001b[35m[2020-07-16:03:26:47:INFO] Sniff delimiter as ','\u001b[0m\n",
      "\u001b[35m[2020-07-16:03:26:47:INFO] Determined delimiter of CSV input is ','\u001b[0m\n",
      "\u001b[35m[2020-07-16:03:26:47:INFO] Sniff delimiter as ','\u001b[0m\n",
      "\u001b[35m[2020-07-16:03:26:47:INFO] Determined delimiter of CSV input is ','\u001b[0m\n",
      "\u001b[35m[2020-07-16:03:26:47:INFO] Sniff delimiter as ','\u001b[0m\n",
      "\u001b[35m[2020-07-16:03:26:47:INFO] Determined delimiter of CSV input is ','\u001b[0m\n",
      "\u001b[34m[2020-07-16:03:26:49:INFO] Sniff delimiter as ','\u001b[0m\n",
      "\u001b[34m[2020-07-16:03:26:49:INFO] Determined delimiter of CSV input is ','\u001b[0m\n",
      "\u001b[34m[2020-07-16:03:26:49:INFO] Sniff delimiter as ','\u001b[0m\n",
      "\u001b[34m[2020-07-16:03:26:49:INFO] Determined delimiter of CSV input is ','\u001b[0m\n",
      "\u001b[35m[2020-07-16:03:26:49:INFO] Sniff delimiter as ','\u001b[0m\n",
      "\u001b[35m[2020-07-16:03:26:49:INFO] Determined delimiter of CSV input is ','\u001b[0m\n",
      "\u001b[35m[2020-07-16:03:26:49:INFO] Sniff delimiter as ','\u001b[0m\n",
      "\u001b[35m[2020-07-16:03:26:49:INFO] Determined delimiter of CSV input is ','\u001b[0m\n",
      "\u001b[34m[2020-07-16:03:26:49:INFO] Sniff delimiter as ','\u001b[0m\n",
      "\u001b[34m[2020-07-16:03:26:49:INFO] Determined delimiter of CSV input is ','\u001b[0m\n",
      "\u001b[35m[2020-07-16:03:26:49:INFO] Sniff delimiter as ','\u001b[0m\n",
      "\u001b[35m[2020-07-16:03:26:49:INFO] Determined delimiter of CSV input is ','\u001b[0m\n",
      "\u001b[34m[2020-07-16:03:26:50:INFO] Sniff delimiter as ','\u001b[0m\n",
      "\u001b[34m[2020-07-16:03:26:50:INFO] Determined delimiter of CSV input is ','\u001b[0m\n",
      "\u001b[35m[2020-07-16:03:26:50:INFO] Sniff delimiter as ','\u001b[0m\n",
      "\u001b[35m[2020-07-16:03:26:50:INFO] Determined delimiter of CSV input is ','\u001b[0m\n",
      "\u001b[34m[2020-07-16:03:26:53:INFO] Sniff delimiter as ','\u001b[0m\n",
      "\u001b[35m[2020-07-16:03:26:53:INFO] Sniff delimiter as ','\u001b[0m\n",
      "\u001b[34m[2020-07-16:03:26:53:INFO] Determined delimiter of CSV input is ','\u001b[0m\n",
      "\u001b[34m[2020-07-16:03:26:53:INFO] Sniff delimiter as ','\u001b[0m\n",
      "\u001b[34m[2020-07-16:03:26:53:INFO] Determined delimiter of CSV input is ','\u001b[0m\n",
      "\u001b[34m[2020-07-16:03:26:53:INFO] Sniff delimiter as ','\u001b[0m\n",
      "\u001b[34m[2020-07-16:03:26:53:INFO] Determined delimiter of CSV input is ','\u001b[0m\n",
      "\u001b[34m[2020-07-16:03:26:53:INFO] Sniff delimiter as ','\u001b[0m\n",
      "\u001b[34m[2020-07-16:03:26:53:INFO] Determined delimiter of CSV input is ','\u001b[0m\n",
      "\u001b[35m[2020-07-16:03:26:53:INFO] Determined delimiter of CSV input is ','\u001b[0m\n",
      "\u001b[35m[2020-07-16:03:26:53:INFO] Sniff delimiter as ','\u001b[0m\n",
      "\u001b[35m[2020-07-16:03:26:53:INFO] Determined delimiter of CSV input is ','\u001b[0m\n",
      "\u001b[35m[2020-07-16:03:26:53:INFO] Sniff delimiter as ','\u001b[0m\n",
      "\u001b[35m[2020-07-16:03:26:53:INFO] Determined delimiter of CSV input is ','\u001b[0m\n",
      "\u001b[35m[2020-07-16:03:26:53:INFO] Sniff delimiter as ','\u001b[0m\n",
      "\u001b[35m[2020-07-16:03:26:53:INFO] Determined delimiter of CSV input is ','\u001b[0m\n",
      "\u001b[34m[2020-07-16:03:26:55:INFO] Sniff delimiter as ','\u001b[0m\n",
      "\u001b[34m[2020-07-16:03:26:55:INFO] Determined delimiter of CSV input is ','\u001b[0m\n",
      "\u001b[34m[2020-07-16:03:26:55:INFO] Sniff delimiter as ','\u001b[0m\n",
      "\u001b[34m[2020-07-16:03:26:55:INFO] Determined delimiter of CSV input is ','\u001b[0m\n",
      "\u001b[34m[2020-07-16:03:26:55:INFO] Sniff delimiter as ','\u001b[0m\n",
      "\u001b[34m[2020-07-16:03:26:55:INFO] Determined delimiter of CSV input is ','\u001b[0m\n",
      "\u001b[35m[2020-07-16:03:26:55:INFO] Sniff delimiter as ','\u001b[0m\n",
      "\u001b[35m[2020-07-16:03:26:55:INFO] Determined delimiter of CSV input is ','\u001b[0m\n",
      "\u001b[35m[2020-07-16:03:26:55:INFO] Sniff delimiter as ','\u001b[0m\n",
      "\u001b[35m[2020-07-16:03:26:55:INFO] Determined delimiter of CSV input is ','\u001b[0m\n",
      "\u001b[35m[2020-07-16:03:26:55:INFO] Sniff delimiter as ','\u001b[0m\n",
      "\u001b[35m[2020-07-16:03:26:55:INFO] Determined delimiter of CSV input is ','\u001b[0m\n",
      "\u001b[34m[2020-07-16:03:26:55:INFO] Sniff delimiter as ','\u001b[0m\n",
      "\u001b[34m[2020-07-16:03:26:55:INFO] Determined delimiter of CSV input is ','\u001b[0m\n",
      "\u001b[35m[2020-07-16:03:26:55:INFO] Sniff delimiter as ','\u001b[0m\n",
      "\u001b[35m[2020-07-16:03:26:55:INFO] Determined delimiter of CSV input is ','\u001b[0m\n",
      "\u001b[34m[2020-07-16:03:26:58:INFO] Sniff delimiter as ','\u001b[0m\n",
      "\u001b[34m[2020-07-16:03:26:58:INFO] Determined delimiter of CSV input is ','\u001b[0m\n",
      "\u001b[34m[2020-07-16:03:26:58:INFO] Sniff delimiter as ','\u001b[0m\n",
      "\u001b[35m[2020-07-16:03:26:58:INFO] Sniff delimiter as ','\u001b[0m\n",
      "\u001b[35m[2020-07-16:03:26:58:INFO] Determined delimiter of CSV input is ','\u001b[0m\n",
      "\u001b[35m[2020-07-16:03:26:58:INFO] Sniff delimiter as ','\u001b[0m\n",
      "\u001b[34m[2020-07-16:03:26:58:INFO] Determined delimiter of CSV input is ','\u001b[0m\n",
      "\u001b[34m[2020-07-16:03:26:58:INFO] Sniff delimiter as ','\u001b[0m\n",
      "\u001b[34m[2020-07-16:03:26:58:INFO] Determined delimiter of CSV input is ','\u001b[0m\n",
      "\u001b[34m[2020-07-16:03:26:58:INFO] Sniff delimiter as ','\u001b[0m\n",
      "\u001b[34m[2020-07-16:03:26:58:INFO] Determined delimiter of CSV input is ','\u001b[0m\n",
      "\u001b[35m[2020-07-16:03:26:58:INFO] Determined delimiter of CSV input is ','\u001b[0m\n",
      "\u001b[35m[2020-07-16:03:26:58:INFO] Sniff delimiter as ','\u001b[0m\n",
      "\u001b[35m[2020-07-16:03:26:58:INFO] Determined delimiter of CSV input is ','\u001b[0m\n",
      "\u001b[35m[2020-07-16:03:26:58:INFO] Sniff delimiter as ','\u001b[0m\n",
      "\u001b[35m[2020-07-16:03:26:58:INFO] Determined delimiter of CSV input is ','\u001b[0m\n",
      "\u001b[34m[2020-07-16:03:27:00:INFO] Sniff delimiter as ','\u001b[0m\n",
      "\u001b[34m[2020-07-16:03:27:00:INFO] Determined delimiter of CSV input is ','\u001b[0m\n",
      "\u001b[35m[2020-07-16:03:27:00:INFO] Sniff delimiter as ','\u001b[0m\n",
      "\u001b[35m[2020-07-16:03:27:00:INFO] Determined delimiter of CSV input is ','\u001b[0m\n",
      "\u001b[34m[2020-07-16:03:27:00:INFO] Sniff delimiter as ','\u001b[0m\n",
      "\u001b[34m[2020-07-16:03:27:00:INFO] Determined delimiter of CSV input is ','\u001b[0m\n",
      "\u001b[34m[2020-07-16:03:27:00:INFO] Sniff delimiter as ','\u001b[0m\n",
      "\u001b[34m[2020-07-16:03:27:00:INFO] Determined delimiter of CSV input is ','\u001b[0m\n",
      "\u001b[34m[2020-07-16:03:27:00:INFO] Sniff delimiter as ','\u001b[0m\n",
      "\u001b[34m[2020-07-16:03:27:00:INFO] Determined delimiter of CSV input is ','\u001b[0m\n",
      "\u001b[35m[2020-07-16:03:27:00:INFO] Sniff delimiter as ','\u001b[0m\n",
      "\u001b[35m[2020-07-16:03:27:00:INFO] Determined delimiter of CSV input is ','\u001b[0m\n",
      "\u001b[35m[2020-07-16:03:27:00:INFO] Sniff delimiter as ','\u001b[0m\n",
      "\u001b[35m[2020-07-16:03:27:00:INFO] Determined delimiter of CSV input is ','\u001b[0m\n",
      "\u001b[35m[2020-07-16:03:27:00:INFO] Sniff delimiter as ','\u001b[0m\n",
      "\u001b[35m[2020-07-16:03:27:00:INFO] Determined delimiter of CSV input is ','\u001b[0m\n"
     ]
    },
    {
     "name": "stdout",
     "output_type": "stream",
     "text": [
      "\u001b[34m[2020-07-16:03:27:03:INFO] Sniff delimiter as ','\u001b[0m\n",
      "\u001b[34m[2020-07-16:03:27:03:INFO] Determined delimiter of CSV input is ','\u001b[0m\n",
      "\u001b[35m[2020-07-16:03:27:03:INFO] Sniff delimiter as ','\u001b[0m\n",
      "\u001b[35m[2020-07-16:03:27:03:INFO] Determined delimiter of CSV input is ','\u001b[0m\n",
      "\u001b[34m[2020-07-16:03:27:05:INFO] Sniff delimiter as ','\u001b[0m\n",
      "\u001b[34m[2020-07-16:03:27:05:INFO] Determined delimiter of CSV input is ','\u001b[0m\n",
      "\u001b[34m[2020-07-16:03:27:05:INFO] Sniff delimiter as ','\u001b[0m\n",
      "\u001b[34m[2020-07-16:03:27:05:INFO] Determined delimiter of CSV input is ','\u001b[0m\n",
      "\u001b[34m[2020-07-16:03:27:05:INFO] Sniff delimiter as ','\u001b[0m\n",
      "\u001b[34m[2020-07-16:03:27:05:INFO] Determined delimiter of CSV input is ','\u001b[0m\n",
      "\u001b[35m[2020-07-16:03:27:05:INFO] Sniff delimiter as ','\u001b[0m\n",
      "\u001b[35m[2020-07-16:03:27:05:INFO] Determined delimiter of CSV input is ','\u001b[0m\n",
      "\u001b[35m[2020-07-16:03:27:05:INFO] Sniff delimiter as ','\u001b[0m\n",
      "\u001b[35m[2020-07-16:03:27:05:INFO] Determined delimiter of CSV input is ','\u001b[0m\n",
      "\u001b[35m[2020-07-16:03:27:05:INFO] Sniff delimiter as ','\u001b[0m\n",
      "\u001b[35m[2020-07-16:03:27:05:INFO] Determined delimiter of CSV input is ','\u001b[0m\n",
      "\n"
     ]
    }
   ],
   "source": [
    "xgb_transformer.wait()"
   ]
  },
  {
   "cell_type": "markdown",
   "metadata": {},
   "source": [
    "Now the transform job has executed and the result, the estimated sentiment of each review, has been saved on S3. Since we would rather work on this file locally we can perform a bit of notebook magic to copy the file to the `data_dir`."
   ]
  },
  {
   "cell_type": "code",
   "execution_count": 27,
   "metadata": {},
   "outputs": [
    {
     "name": "stdout",
     "output_type": "stream",
     "text": [
      "Completed 256.0 KiB/370.1 KiB (3.1 MiB/s) with 1 file(s) remaining\r",
      "Completed 370.1 KiB/370.1 KiB (4.2 MiB/s) with 1 file(s) remaining\r",
      "download: s3://sagemaker-us-east-2-732721007089/xgboost-2020-07-16-03-22-54-469/test.csv.out to ../data/sentiment_web_app/test.csv.out\r\n"
     ]
    }
   ],
   "source": [
    "!aws s3 cp --recursive $xgb_transformer.output_path $data_dir"
   ]
  },
  {
   "cell_type": "markdown",
   "metadata": {},
   "source": [
    "The last step is now to read in the output from our model, convert the output to something a little more usable, in this case we want the sentiment to be either `1` (positive) or `0` (negative), and then compare to the ground truth labels."
   ]
  },
  {
   "cell_type": "code",
   "execution_count": 28,
   "metadata": {},
   "outputs": [],
   "source": [
    "predictions = pd.read_csv(os.path.join(data_dir, 'test.csv.out'), header=None)\n",
    "predictions = [round(num) for num in predictions.squeeze().values]"
   ]
  },
  {
   "cell_type": "code",
   "execution_count": 29,
   "metadata": {},
   "outputs": [
    {
     "data": {
      "text/plain": [
       "0.86044"
      ]
     },
     "execution_count": 29,
     "metadata": {},
     "output_type": "execute_result"
    }
   ],
   "source": [
    "from sklearn.metrics import accuracy_score\n",
    "accuracy_score(test_y, predictions)"
   ]
  },
  {
   "cell_type": "markdown",
   "metadata": {},
   "source": [
    "## Step 6: Deploying the model\n",
    "\n",
    "Once we construct and fit our model, SageMaker stores the resulting model artifacts and we can use those to deploy an endpoint (inference code). To see this, look in the SageMaker console and you should see that a model has been created along with a link to the S3 location where the model artifacts have been stored.\n",
    "\n",
    "Deploying an endpoint is a lot like training the model with a few important differences. The first is that a deployed model doesn't change the model artifacts, so as you send it various testing instances the model won't change. Another difference is that since we aren't performing a fixed computation, as we were in the training step or while performing a batch transform, the compute instance that gets started stays running until we tell it to stop. This is important to note as if we forget and leave it running we will be charged the entire time.\n",
    "\n",
    "In other words **If you are no longer using a deployed endpoint, shut it down!**"
   ]
  },
  {
   "cell_type": "code",
   "execution_count": 30,
   "metadata": {},
   "outputs": [
    {
     "name": "stderr",
     "output_type": "stream",
     "text": [
      "WARNING:sagemaker:Parameter image will be renamed to image_uri in SageMaker Python SDK v2.\n",
      "WARNING:sagemaker:Using already existing model: xgboost-2020-07-16-03-14-38-404\n"
     ]
    },
    {
     "name": "stdout",
     "output_type": "stream",
     "text": [
      "---------------!"
     ]
    }
   ],
   "source": [
    "xgb_predictor = xgb.deploy(initial_instance_count = 1, instance_type = 'ml.m4.xlarge')"
   ]
  },
  {
   "cell_type": "code",
   "execution_count": 31,
   "metadata": {},
   "outputs": [
    {
     "data": {
      "text/plain": [
       "<sagemaker.predictor.RealTimePredictor at 0x7f10928ea9e8>"
      ]
     },
     "execution_count": 31,
     "metadata": {},
     "output_type": "execute_result"
    }
   ],
   "source": [
    "xgb_predictor"
   ]
  },
  {
   "cell_type": "code",
   "execution_count": 32,
   "metadata": {},
   "outputs": [
    {
     "data": {
      "text/plain": [
       "['__class__',\n",
       " '__delattr__',\n",
       " '__dict__',\n",
       " '__dir__',\n",
       " '__doc__',\n",
       " '__eq__',\n",
       " '__format__',\n",
       " '__ge__',\n",
       " '__getattribute__',\n",
       " '__gt__',\n",
       " '__hash__',\n",
       " '__init__',\n",
       " '__init_subclass__',\n",
       " '__le__',\n",
       " '__lt__',\n",
       " '__module__',\n",
       " '__ne__',\n",
       " '__new__',\n",
       " '__reduce__',\n",
       " '__reduce_ex__',\n",
       " '__repr__',\n",
       " '__setattr__',\n",
       " '__sizeof__',\n",
       " '__str__',\n",
       " '__subclasshook__',\n",
       " '__weakref__',\n",
       " '_create_request_args',\n",
       " '_delete_endpoint_config',\n",
       " '_endpoint_config_name',\n",
       " '_get_endpoint_config_name',\n",
       " '_get_model_names',\n",
       " '_handle_response',\n",
       " '_model_names',\n",
       " 'accept',\n",
       " 'content_type',\n",
       " 'delete_endpoint',\n",
       " 'delete_model',\n",
       " 'deserializer',\n",
       " 'disable_data_capture',\n",
       " 'enable_data_capture',\n",
       " 'endpoint',\n",
       " 'list_monitors',\n",
       " 'predict',\n",
       " 'sagemaker_session',\n",
       " 'serializer',\n",
       " 'update_data_capture_config']"
      ]
     },
     "execution_count": 32,
     "metadata": {},
     "output_type": "execute_result"
    }
   ],
   "source": [
    "dir(xgb_predictor)"
   ]
  },
  {
   "cell_type": "markdown",
   "metadata": {},
   "source": [
    "### Testing the model (again)\n",
    "\n",
    "Now that we have deployed our endpoint, we can send the testing data to it and get back the inference results. We already did this earlier using the batch transform functionality of SageMaker, however, we will test our model again using the newly deployed endpoint so that we can make sure that it works properly and to get a bit of a feel for how the endpoint works.\n",
    "\n",
    "When using the created endpoint it is important to know that we are limited in the amount of information we can send in each call so we need to break the testing data up into chunks and then send each chunk. Also, we need to serialize our data before we send it to the endpoint to ensure that our data is transmitted properly. Fortunately, SageMaker can do the serialization part for us provided we tell it the format of our data."
   ]
  },
  {
   "cell_type": "code",
   "execution_count": 33,
   "metadata": {},
   "outputs": [],
   "source": [
    "from sagemaker.predictor import csv_serializer\n",
    "\n",
    "# We need to tell the endpoint what format the data we are sending is in so that SageMaker can perform the serialization.\n",
    "xgb_predictor.content_type = 'text/csv'\n",
    "xgb_predictor.serializer = csv_serializer"
   ]
  },
  {
   "cell_type": "code",
   "execution_count": 34,
   "metadata": {},
   "outputs": [],
   "source": [
    "test_X = pd.read_csv(os.path.join(data_dir, 'test.csv'), header=None).values"
   ]
  },
  {
   "cell_type": "code",
   "execution_count": 35,
   "metadata": {},
   "outputs": [
    {
     "data": {
      "text/plain": [
       "(25000, 5000)"
      ]
     },
     "execution_count": 35,
     "metadata": {},
     "output_type": "execute_result"
    }
   ],
   "source": [
    "test_X.shape"
   ]
  },
  {
   "cell_type": "code",
   "execution_count": 36,
   "metadata": {},
   "outputs": [],
   "source": [
    "split_array = np.array_split(test_X, int(test_X.shape[0] / 512 + 1))"
   ]
  },
  {
   "cell_type": "code",
   "execution_count": 37,
   "metadata": {},
   "outputs": [
    {
     "data": {
      "text/plain": [
       "[(511, 5000),\n",
       " (511, 5000),\n",
       " (511, 5000),\n",
       " (511, 5000),\n",
       " (511, 5000),\n",
       " (511, 5000),\n",
       " (511, 5000),\n",
       " (511, 5000),\n",
       " (511, 5000),\n",
       " (511, 5000),\n",
       " (510, 5000),\n",
       " (510, 5000),\n",
       " (510, 5000),\n",
       " (510, 5000),\n",
       " (510, 5000),\n",
       " (510, 5000),\n",
       " (510, 5000),\n",
       " (510, 5000),\n",
       " (510, 5000),\n",
       " (510, 5000),\n",
       " (510, 5000),\n",
       " (510, 5000),\n",
       " (510, 5000),\n",
       " (510, 5000),\n",
       " (510, 5000),\n",
       " (510, 5000),\n",
       " (510, 5000),\n",
       " (510, 5000),\n",
       " (510, 5000),\n",
       " (510, 5000),\n",
       " (510, 5000),\n",
       " (510, 5000),\n",
       " (510, 5000),\n",
       " (510, 5000),\n",
       " (510, 5000),\n",
       " (510, 5000),\n",
       " (510, 5000),\n",
       " (510, 5000),\n",
       " (510, 5000),\n",
       " (510, 5000),\n",
       " (510, 5000),\n",
       " (510, 5000),\n",
       " (510, 5000),\n",
       " (510, 5000),\n",
       " (510, 5000),\n",
       " (510, 5000),\n",
       " (510, 5000),\n",
       " (510, 5000),\n",
       " (510, 5000)]"
      ]
     },
     "execution_count": 37,
     "metadata": {},
     "output_type": "execute_result"
    }
   ],
   "source": [
    "[array.shape for array in split_array]"
   ]
  },
  {
   "cell_type": "code",
   "execution_count": 38,
   "metadata": {},
   "outputs": [
    {
     "data": {
      "text/plain": [
       "b'0.169564038515,0.0370489284396,0.397260338068,0.870055317879,0.909412384033,0.972690820694,0.338081985712,0.927634477615,0.246845439076,0.126558884978,0.707581460476,0.684643447399,0.439809322357,0.754243552685,0.0284136943519,0.321547329426,0.906742632389,0.666059195995,0.990802884102,0.0206545330584,0.77943700552,0.953939914703,0.0341972820461,0.948598980904,0.0820066034794,0.65656799078,0.75763875246,0.00601411378011,0.0313257835805,0.882608830929,0.997993588448,0.264379709959,0.970056116581,0.923804759979,0.373372703791,0.913739979267,0.809381365776,0.246008083224,0.984722316265,0.381347924471,0.954069912434,0.121071577072,0.937724411488,0.608579993248,0.652409255505,0.821734309196,0.933269202709,0.223166137934,0.549994528294,0.143179029226,0.503033578396,0.950445234776,0.780462682247,0.0704199895263,0.959002196789,0.871725797653,0.0788310617208,0.91749560833,0.508374989033,0.884210050106,0.875703275204,0.926602840424,0.0250230189413,0.301972806454,0.928029179573,0.00941165164113,0.0833603441715,0.835406541824,0.88130480051,0.569784998894,0.170198261738,0.444507271051,0.766379833221,0.79248803854,0.174770832062,0.151921644807,0.0137996524572,0.8055357337,0.8770429492,0.213617756963,0.98923766613,0.0342549532652,0.0503723584116,0.991306483746,0.0396282747388,0.0296202916652,0.834851324558,0.220331430435,0.0258684661239,0.488435149193,0.383819550276,0.953776478767,0.359940886497,0.988561630249,0.363412588835,0.128056317568,0.982581615448,0.744212865829,0.672329485416,0.141802892089,0.00375796016306,0.0210305470973,0.219039037824,0.679024755955,0.919904649258,0.83986723423,0.122586905956,0.611156105995,0.512392401695,0.751499950886,0.669415295124,0.84986114502,0.919869661331,0.926306962967,0.217933759093,0.018181135878,0.26001855731,0.793118357658,0.895808041096,0.691960632801,0.732732832432,0.00526848109439,0.835508584976,0.0359087884426,0.610574126244,0.82643777132,0.045980732888,0.391992360353,0.356078475714,0.201598867774,0.991182327271,0.148801371455,0.983815848827,0.147694244981,0.956786096096,0.641173899174,0.793086826801,0.154338076711,0.555854558945,0.435164272785,0.478952497244,0.63886731863,0.855023682117,0.227072477341,0.335211962461,0.330587089062,0.201037377119,0.433317095041,0.0472279824317,0.156593859196,0.0588681586087,0.103875592351,0.307296425104,0.813772857189,0.00240349327214,0.142862141132,0.367644399405,0.0102686900645,0.858764410019,0.012542327866,0.0142982890829,0.0893609598279,0.932768583298,0.000992912915535,0.538467228413,0.404582887888,0.113914348185,0.910855233669,0.827831983566,0.0460579693317,0.196349948645,0.670464932919,0.994717776775,0.938384950161,0.955397844315,0.986535727978,0.61802482605,0.458663761616,0.20772407949,0.248037785292,0.992958426476,0.254825800657,0.130978748202,0.430687367916,0.891598522663,0.496060550213,0.0418837442994,0.952517688274,0.993150949478,0.0569020286202,0.345285117626,0.926368355751,0.366486012936,0.410227745771,0.292176038027,0.0295163262635,0.323251187801,0.876470685005,0.112427949905,0.422950953245,0.072903573513,0.9581412673,0.834343671799,0.992487311363,0.0237416643649,0.920926988125,0.889830946922,0.750423967838,0.926095604897,0.466619968414,0.0117446994409,0.0486425235868,0.62466186285,0.0860075801611,0.971851706505,0.133465662599,0.00774587364867,0.463963419199,0.0574559047818,0.507191836834,0.0104653919116,0.926366567612,0.00208409014158,0.802559614182,0.316521763802,0.95115596056,0.336250782013,0.503699302673,0.978554069996,0.104336097836,0.94232326746,0.00880863983184,0.98527443409,0.289281785488,0.0838458314538,0.113966979086,0.186364009976,0.566322684288,0.0661011114717,0.732685506344,0.798243284225,0.913036108017,0.743279933929,0.110042251647,0.063407279551,0.930589497089,0.388362765312,0.705051720142,0.610227644444,0.869810283184,0.519722521305,0.0759667754173,0.00261558173224,0.841550648212,0.0423119738698,0.00361195066944,0.281084448099,0.145489186049,0.960023224354,0.853875279427,0.763136327267,0.396255105734,0.0155168855563,0.0290427487344,0.800175428391,0.0289927627891,0.498162031174,0.48531332612,0.964734077454,0.870118439198,0.0810391157866,0.973650336266,0.00514200842008,0.0330784283578,0.097297616303,0.987098515034,0.238181397319,0.862613022327,0.503617167473,0.0826427266002,0.652169764042,0.349829018116,0.957247972488,0.478648453951,0.956895291805,0.96362131834,0.0219945684075,0.107442870736,0.987588465214,0.017013669014,0.880966246128,0.067629404366,0.499578952789,0.96553426981,0.770159900188,0.71835654974,0.383785784245,0.992135167122,0.792420387268,0.595783829689,0.256525456905,0.257991194725,0.332547038794,0.615124046803,0.344106674194,0.206378772855,0.949429452419,0.138803079724,0.911759734154,0.0207439661026,0.904834330082,0.914773583412,0.0758686289191,0.021840127185,0.553554654121,0.0628234520555,0.310150980949,0.0151305217296,0.0883826240897,0.0858815610409,0.229534447193,0.00156071316451,0.99113291502,0.993707895279,0.832635819912,0.115090847015,0.0236363951117,0.203516319394,0.6120621562,0.0263357814401,0.00491114659235,0.653929948807,0.287945687771,0.787363827229,0.163264900446,0.822360634804,0.654488503933,0.04769891873,0.0235395096242,0.0548630692065,0.0932017788291,0.0103103825822,0.0203713420779,0.952425658703,0.275635004044,0.924367249012,0.294491618872,0.822994232178,0.804437756538,0.00584099022672,0.664645493031,0.887543737888,0.860285937786,0.0149708492681,0.724769473076,0.256765514612,0.0302822235972,0.398292839527,0.912840008736,0.811470925808,0.858931005001,0.99835062027,0.497925102711,0.645267605782,0.970730900764,0.950969874859,0.548168241978,0.946847856045,0.00755135715008,0.957117795944,0.999464929104,0.0108014848083,0.627805829048,0.441094994545,0.94935208559,0.489788293839,0.011420336552,0.650565862656,0.0967160016298,0.00793230719864,0.675445079803,0.030096180737,0.892554283142,0.674971818924,0.542507827282,0.806008994579,0.0131665030494,0.76477265358,0.751272916794,0.0438033528626,0.24021025002,0.757547199726,0.0729613676667,0.786966919899,0.851691007614,0.886773884296,0.308892518282,0.602837920189,0.642692923546,0.149689331651,0.124925240874,0.717875659466,0.0492435880005,0.0206982418895,0.741331756115,0.146079793572,0.0463509969413,0.0720702260733,0.784183144569,0.77111697197,0.1265630126,0.745392918587,0.0244822055101,0.0184162054211,0.490051656961,0.717569351196,0.253978520632,0.467314213514,0.0356940999627,0.402270197868,0.237266406417,0.775512754917,0.954167366028,0.505943357944,0.797538638115,0.914729177952,0.909250915051,0.768753409386,0.954968214035,0.014689299278,0.103661246598,0.93070346117,0.474373191595,0.167665466666,0.183348312974,0.959206461906,0.153986304998,0.335888147354,0.669380307198,0.942963302135,0.103844814003,0.588941156864,0.06219766289,0.138033688068,0.551913261414,0.935630023479,0.610279619694,0.17212857306,0.00797515362501,0.842774808407,0.847635924816,0.428578495979,0.171641245484,0.142254248261,0.899568557739,0.152430579066,0.00560719845816,0.24088691175,0.0601897351444,0.0759357213974,0.895349860191,0.800189554691,0.00696496898308,0.184162080288,0.954607129097,0.922646224499,0.463599681854,0.0247139427811,0.94662219286,0.00767834484577,0.132635742426,0.0453405119479,0.829710066319,0.130919128656,0.0835454985499,0.526737034321,0.00521857803687,0.877415657043,0.723366498947,0.165425792336,0.0585316680372,0.370468646288,0.785042524338,0.658387303352,0.0734954550862,0.763762831688,0.263616770506,0.0300576500595,0.0180834699422,0.0772385150194,0.321033120155,0.758777737617,0.285552054644,0.812518715858,0.0213786866516,0.130591452122,0.970968663692,0.812742054462,0.224111303687,0.177909046412,0.844375431538,0.980191588402,0.036737754941,0.616476297379,0.94332331419,0.859027266502,0.0851659476757,0.569850027561,0.134901881218,0.391195982695,0.962189972401'"
      ]
     },
     "execution_count": 38,
     "metadata": {},
     "output_type": "execute_result"
    }
   ],
   "source": [
    "xgb_predictor.predict(split_array[0])"
   ]
  },
  {
   "cell_type": "code",
   "execution_count": 39,
   "metadata": {},
   "outputs": [
    {
     "data": {
      "text/plain": [
       "'0.169564038515,0.0370489284396,0.397260338068,0.870055317879,0.909412384033,0.972690820694,0.338081985712,0.927634477615,0.246845439076,0.126558884978,0.707581460476,0.684643447399,0.439809322357,0.754243552685,0.0284136943519,0.321547329426,0.906742632389,0.666059195995,0.990802884102,0.0206545330584,0.77943700552,0.953939914703,0.0341972820461,0.948598980904,0.0820066034794,0.65656799078,0.75763875246,0.00601411378011,0.0313257835805,0.882608830929,0.997993588448,0.264379709959,0.970056116581,0.923804759979,0.373372703791,0.913739979267,0.809381365776,0.246008083224,0.984722316265,0.381347924471,0.954069912434,0.121071577072,0.937724411488,0.608579993248,0.652409255505,0.821734309196,0.933269202709,0.223166137934,0.549994528294,0.143179029226,0.503033578396,0.950445234776,0.780462682247,0.0704199895263,0.959002196789,0.871725797653,0.0788310617208,0.91749560833,0.508374989033,0.884210050106,0.875703275204,0.926602840424,0.0250230189413,0.301972806454,0.928029179573,0.00941165164113,0.0833603441715,0.835406541824,0.88130480051,0.569784998894,0.170198261738,0.444507271051,0.766379833221,0.79248803854,0.174770832062,0.151921644807,0.0137996524572,0.8055357337,0.8770429492,0.213617756963,0.98923766613,0.0342549532652,0.0503723584116,0.991306483746,0.0396282747388,0.0296202916652,0.834851324558,0.220331430435,0.0258684661239,0.488435149193,0.383819550276,0.953776478767,0.359940886497,0.988561630249,0.363412588835,0.128056317568,0.982581615448,0.744212865829,0.672329485416,0.141802892089,0.00375796016306,0.0210305470973,0.219039037824,0.679024755955,0.919904649258,0.83986723423,0.122586905956,0.611156105995,0.512392401695,0.751499950886,0.669415295124,0.84986114502,0.919869661331,0.926306962967,0.217933759093,0.018181135878,0.26001855731,0.793118357658,0.895808041096,0.691960632801,0.732732832432,0.00526848109439,0.835508584976,0.0359087884426,0.610574126244,0.82643777132,0.045980732888,0.391992360353,0.356078475714,0.201598867774,0.991182327271,0.148801371455,0.983815848827,0.147694244981,0.956786096096,0.641173899174,0.793086826801,0.154338076711,0.555854558945,0.435164272785,0.478952497244,0.63886731863,0.855023682117,0.227072477341,0.335211962461,0.330587089062,0.201037377119,0.433317095041,0.0472279824317,0.156593859196,0.0588681586087,0.103875592351,0.307296425104,0.813772857189,0.00240349327214,0.142862141132,0.367644399405,0.0102686900645,0.858764410019,0.012542327866,0.0142982890829,0.0893609598279,0.932768583298,0.000992912915535,0.538467228413,0.404582887888,0.113914348185,0.910855233669,0.827831983566,0.0460579693317,0.196349948645,0.670464932919,0.994717776775,0.938384950161,0.955397844315,0.986535727978,0.61802482605,0.458663761616,0.20772407949,0.248037785292,0.992958426476,0.254825800657,0.130978748202,0.430687367916,0.891598522663,0.496060550213,0.0418837442994,0.952517688274,0.993150949478,0.0569020286202,0.345285117626,0.926368355751,0.366486012936,0.410227745771,0.292176038027,0.0295163262635,0.323251187801,0.876470685005,0.112427949905,0.422950953245,0.072903573513,0.9581412673,0.834343671799,0.992487311363,0.0237416643649,0.920926988125,0.889830946922,0.750423967838,0.926095604897,0.466619968414,0.0117446994409,0.0486425235868,0.62466186285,0.0860075801611,0.971851706505,0.133465662599,0.00774587364867,0.463963419199,0.0574559047818,0.507191836834,0.0104653919116,0.926366567612,0.00208409014158,0.802559614182,0.316521763802,0.95115596056,0.336250782013,0.503699302673,0.978554069996,0.104336097836,0.94232326746,0.00880863983184,0.98527443409,0.289281785488,0.0838458314538,0.113966979086,0.186364009976,0.566322684288,0.0661011114717,0.732685506344,0.798243284225,0.913036108017,0.743279933929,0.110042251647,0.063407279551,0.930589497089,0.388362765312,0.705051720142,0.610227644444,0.869810283184,0.519722521305,0.0759667754173,0.00261558173224,0.841550648212,0.0423119738698,0.00361195066944,0.281084448099,0.145489186049,0.960023224354,0.853875279427,0.763136327267,0.396255105734,0.0155168855563,0.0290427487344,0.800175428391,0.0289927627891,0.498162031174,0.48531332612,0.964734077454,0.870118439198,0.0810391157866,0.973650336266,0.00514200842008,0.0330784283578,0.097297616303,0.987098515034,0.238181397319,0.862613022327,0.503617167473,0.0826427266002,0.652169764042,0.349829018116,0.957247972488,0.478648453951,0.956895291805,0.96362131834,0.0219945684075,0.107442870736,0.987588465214,0.017013669014,0.880966246128,0.067629404366,0.499578952789,0.96553426981,0.770159900188,0.71835654974,0.383785784245,0.992135167122,0.792420387268,0.595783829689,0.256525456905,0.257991194725,0.332547038794,0.615124046803,0.344106674194,0.206378772855,0.949429452419,0.138803079724,0.911759734154,0.0207439661026,0.904834330082,0.914773583412,0.0758686289191,0.021840127185,0.553554654121,0.0628234520555,0.310150980949,0.0151305217296,0.0883826240897,0.0858815610409,0.229534447193,0.00156071316451,0.99113291502,0.993707895279,0.832635819912,0.115090847015,0.0236363951117,0.203516319394,0.6120621562,0.0263357814401,0.00491114659235,0.653929948807,0.287945687771,0.787363827229,0.163264900446,0.822360634804,0.654488503933,0.04769891873,0.0235395096242,0.0548630692065,0.0932017788291,0.0103103825822,0.0203713420779,0.952425658703,0.275635004044,0.924367249012,0.294491618872,0.822994232178,0.804437756538,0.00584099022672,0.664645493031,0.887543737888,0.860285937786,0.0149708492681,0.724769473076,0.256765514612,0.0302822235972,0.398292839527,0.912840008736,0.811470925808,0.858931005001,0.99835062027,0.497925102711,0.645267605782,0.970730900764,0.950969874859,0.548168241978,0.946847856045,0.00755135715008,0.957117795944,0.999464929104,0.0108014848083,0.627805829048,0.441094994545,0.94935208559,0.489788293839,0.011420336552,0.650565862656,0.0967160016298,0.00793230719864,0.675445079803,0.030096180737,0.892554283142,0.674971818924,0.542507827282,0.806008994579,0.0131665030494,0.76477265358,0.751272916794,0.0438033528626,0.24021025002,0.757547199726,0.0729613676667,0.786966919899,0.851691007614,0.886773884296,0.308892518282,0.602837920189,0.642692923546,0.149689331651,0.124925240874,0.717875659466,0.0492435880005,0.0206982418895,0.741331756115,0.146079793572,0.0463509969413,0.0720702260733,0.784183144569,0.77111697197,0.1265630126,0.745392918587,0.0244822055101,0.0184162054211,0.490051656961,0.717569351196,0.253978520632,0.467314213514,0.0356940999627,0.402270197868,0.237266406417,0.775512754917,0.954167366028,0.505943357944,0.797538638115,0.914729177952,0.909250915051,0.768753409386,0.954968214035,0.014689299278,0.103661246598,0.93070346117,0.474373191595,0.167665466666,0.183348312974,0.959206461906,0.153986304998,0.335888147354,0.669380307198,0.942963302135,0.103844814003,0.588941156864,0.06219766289,0.138033688068,0.551913261414,0.935630023479,0.610279619694,0.17212857306,0.00797515362501,0.842774808407,0.847635924816,0.428578495979,0.171641245484,0.142254248261,0.899568557739,0.152430579066,0.00560719845816,0.24088691175,0.0601897351444,0.0759357213974,0.895349860191,0.800189554691,0.00696496898308,0.184162080288,0.954607129097,0.922646224499,0.463599681854,0.0247139427811,0.94662219286,0.00767834484577,0.132635742426,0.0453405119479,0.829710066319,0.130919128656,0.0835454985499,0.526737034321,0.00521857803687,0.877415657043,0.723366498947,0.165425792336,0.0585316680372,0.370468646288,0.785042524338,0.658387303352,0.0734954550862,0.763762831688,0.263616770506,0.0300576500595,0.0180834699422,0.0772385150194,0.321033120155,0.758777737617,0.285552054644,0.812518715858,0.0213786866516,0.130591452122,0.970968663692,0.812742054462,0.224111303687,0.177909046412,0.844375431538,0.980191588402,0.036737754941,0.616476297379,0.94332331419,0.859027266502,0.0851659476757,0.569850027561,0.134901881218,0.391195982695,0.962189972401'"
      ]
     },
     "execution_count": 39,
     "metadata": {},
     "output_type": "execute_result"
    }
   ],
   "source": [
    "xgb_predictor.predict(split_array[0]).decode('utf-8')"
   ]
  },
  {
   "cell_type": "code",
   "execution_count": 40,
   "metadata": {},
   "outputs": [],
   "source": [
    "# We split the data into chunks and send each chunk seperately, accumulating the results.\n",
    "\n",
    "def predict(data, rows=512):\n",
    "    split_array = np.array_split(data, int(data.shape[0] / float(rows) + 1))\n",
    "    predictions = ''\n",
    "    for array in split_array:\n",
    "        predictions = ','.join([predictions, xgb_predictor.predict(array).decode('utf-8')])\n",
    "    \n",
    "    return np.fromstring(predictions[1:], sep=',')"
   ]
  },
  {
   "cell_type": "code",
   "execution_count": 41,
   "metadata": {},
   "outputs": [],
   "source": [
    "predictions = predict(test_X)\n",
    "predictions = [round(num) for num in predictions]"
   ]
  },
  {
   "cell_type": "markdown",
   "metadata": {},
   "source": [
    "Lastly, we check to see what the accuracy of our model is."
   ]
  },
  {
   "cell_type": "code",
   "execution_count": 42,
   "metadata": {},
   "outputs": [
    {
     "data": {
      "text/plain": [
       "0.86044"
      ]
     },
     "execution_count": 42,
     "metadata": {},
     "output_type": "execute_result"
    }
   ],
   "source": [
    "from sklearn.metrics import accuracy_score\n",
    "accuracy_score(test_y, predictions)"
   ]
  },
  {
   "cell_type": "markdown",
   "metadata": {},
   "source": [
    "And the results here should agree with the model testing that we did earlier using the batch transform job.\n",
    "\n",
    "### Cleaning up\n",
    "\n",
    "Now that we've determined that deploying our model works as expected, we are going to shut it down. Remember that the longer the endpoint is left running, the greater the cost and since we have a bit more work to do before we are able to use our endpoint with our simple web app, we should shut everything down."
   ]
  },
  {
   "cell_type": "code",
   "execution_count": 43,
   "metadata": {},
   "outputs": [],
   "source": [
    "xgb_predictor.delete_endpoint()"
   ]
  },
  {
   "cell_type": "markdown",
   "metadata": {},
   "source": [
    "## Step 7: Putting our model to work\n",
    "\n",
    "As we've mentioned a few times now, our goal is to have our model deployed and then access it using a very simple web app. The intent is for this web app to take some user submitted data (a review), send it off to our endpoint (the model) and then display the result.\n",
    "\n",
    "However, there is a small catch. Currently the only way we can access the endpoint to send it data is using the SageMaker API. We can, if we wish, expose the actual URL that our model's endpoint is receiving data from, however, if we just send it data ourselves we will not get anything in return. This is because the endpoint created by SageMaker requires the entity accessing it have the correct permissions. So, we would need to somehow authenticate our web app with AWS.\n",
    "\n",
    "Having a website that authenticates to AWS seems a bit beyond the scope of this lesson so we will opt for an alternative approach. Namely, we will create a new endpoint which does not require authentication and which acts as a proxy for the SageMaker endpoint.\n",
    "\n",
    "As an additional constraint, we will try to avoid doing any data processing in the web app itself. Remember that when we constructed and tested our model we started with a movie review, then we simplified it by removing any html formatting and punctuation, then we constructed a bag of words embedding and the resulting vector is what we sent to our model. All of this needs to be done to our user input as well.\n",
    "\n",
    "Fortunately we can do all of this data processing in the backend, using Amazon's Lambda service.\n",
    "\n",
    "<img src=\"Web App Diagram.svg\">\n",
    "\n",
    "The diagram above gives an overview of how the various services will work together. On the far right is the model which we trained above and which will be deployed using SageMaker. On the far left is our web app that collects a user's movie review, sends it off and expects a positive or negative sentiment in return.\n",
    "\n",
    "In the middle is where some of the magic happens. We will construct a Lambda function, which you can think of as a straightforward Python function that can be executed whenever a specified event occurs. This Python function will do the data processing we need to perform on a user submitted review. In addition, we will give this function permission to send and recieve data from a SageMaker endpoint.\n",
    "\n",
    "Lastly, the method we will use to execute the Lambda function is a new endpoint that we will create using API Gateway. This endpoint will be a url that listens for data to be sent to it. Once it gets some data it will pass that data on to the Lambda function and then return whatever the Lambda function returns. Essentially it will act as an interface that lets our web app communicate with the Lambda function.\n",
    "\n",
    "### Processing a single review\n",
    "\n",
    "For now, suppose we are given a movie review by our user in the form of a string, like so:"
   ]
  },
  {
   "cell_type": "code",
   "execution_count": 44,
   "metadata": {},
   "outputs": [],
   "source": [
    "test_review = \"Nothing but a disgusting materialistic pageant of glistening abed remote control greed zombies, totally devoid of any heart or heat. A romantic comedy that has zero romantic chemestry and zero laughs!\""
   ]
  },
  {
   "cell_type": "markdown",
   "metadata": {},
   "source": [
    "How do we go from this string to the bag of words feature vector that is expected by our model?\n",
    "\n",
    "If we recall at the beginning of this notebook, the first step is to remove any unnecessary characters using the `review_to_words` method. Remember that we intentionally did this in a very simplistic way. This is because we are going to have to copy this method to our (eventual) Lambda function (we will go into more detail later) and this means it needs to be rather simplistic."
   ]
  },
  {
   "cell_type": "code",
   "execution_count": 45,
   "metadata": {},
   "outputs": [
    {
     "name": "stdout",
     "output_type": "stream",
     "text": [
      "nothing but a disgusting materialistic pageant of glistening abed remote control greed zombies totally devoid of any heart or heat a romantic comedy that has zero romantic chemestry and zero laughs\n"
     ]
    }
   ],
   "source": [
    "test_words = review_to_words(test_review)\n",
    "print(test_words)"
   ]
  },
  {
   "cell_type": "markdown",
   "metadata": {},
   "source": [
    "Next, we need to construct a bag of words embedding of the `test_words` string. To do this, remember that a bag of words embedding uses a `vocabulary` consisting of the most frequently appearing words in a set of documents. Then, for each word in the vocabulary we record the number of times that word appears in `test_words`. We constructed the `vocabulary` earlier using the training set for our problem so encoding `test_words` is relatively straightforward."
   ]
  },
  {
   "cell_type": "code",
   "execution_count": 46,
   "metadata": {},
   "outputs": [],
   "source": [
    "def bow_encoding(words, vocabulary):\n",
    "    bow = [0] * len(vocabulary) # Start by setting the count for each word in the vocabulary to zero.\n",
    "    for word in words.split():  # For each word in the string\n",
    "        if word in vocabulary:  # If the word is one that occurs in the vocabulary, increase its count.\n",
    "            bow[vocabulary[word]] += 1\n",
    "    return bow"
   ]
  },
  {
   "cell_type": "code",
   "execution_count": 47,
   "metadata": {},
   "outputs": [],
   "source": [
    "test_bow = bow_encoding(test_words, vocabulary)"
   ]
  },
  {
   "cell_type": "code",
   "execution_count": 48,
   "metadata": {},
   "outputs": [
    {
     "data": {
      "text/plain": [
       "5000"
      ]
     },
     "execution_count": 48,
     "metadata": {},
     "output_type": "execute_result"
    }
   ],
   "source": [
    "len(test_bow)"
   ]
  },
  {
   "cell_type": "markdown",
   "metadata": {},
   "source": [
    "So now we know how to construct a bag of words encoding of a user provided review, how to we send it to our endpoint? First, we need to start the endpoint back up."
   ]
  },
  {
   "cell_type": "code",
   "execution_count": 49,
   "metadata": {},
   "outputs": [
    {
     "name": "stderr",
     "output_type": "stream",
     "text": [
      "WARNING:sagemaker:Parameter image will be renamed to image_uri in SageMaker Python SDK v2.\n",
      "WARNING:sagemaker:Using already existing model: xgboost-2020-07-16-03-14-38-404\n"
     ]
    },
    {
     "name": "stdout",
     "output_type": "stream",
     "text": [
      "-------------!"
     ]
    }
   ],
   "source": [
    "xgb_predictor = xgb.deploy(initial_instance_count = 1, instance_type = 'ml.m4.xlarge')"
   ]
  },
  {
   "cell_type": "markdown",
   "metadata": {},
   "source": [
    "At this point we could just do the same thing that we did earlier when we tested our deployed model and send `test_bow` to our endpoint using the `xgb_predictor` object. However, when we eventually construct our Lambda function we won't have access to this object, so how do we call a SageMaker endpoint?\n",
    "\n",
    "It turns out that Python functions that are used in Lambda have access to another Amazon library called `boto3`. This library provides an API for working with Amazon services, including SageMaker. To start with, we need to get a handle to the SageMaker runtime."
   ]
  },
  {
   "cell_type": "code",
   "execution_count": 50,
   "metadata": {},
   "outputs": [],
   "source": [
    "import boto3\n",
    "\n",
    "runtime = boto3.Session().client('sagemaker-runtime')"
   ]
  },
  {
   "cell_type": "markdown",
   "metadata": {},
   "source": [
    "And now that we have access to the SageMaker runtime, we can ask it to make use of (invoke) an endpoint that has already been created. However, we need to provide SageMaker with the name of the deployed endpoint. To find this out we can print it out using the `xgb_predictor` object."
   ]
  },
  {
   "cell_type": "code",
   "execution_count": 51,
   "metadata": {},
   "outputs": [
    {
     "data": {
      "text/plain": [
       "'xgboost-2020-07-16-03-14-38-404'"
      ]
     },
     "execution_count": 51,
     "metadata": {},
     "output_type": "execute_result"
    }
   ],
   "source": [
    "xgb_predictor.endpoint"
   ]
  },
  {
   "cell_type": "markdown",
   "metadata": {},
   "source": [
    "Using the SageMaker runtime and the name of our endpoint, we can invoke the endpoint and send it the `test_bow` data."
   ]
  },
  {
   "cell_type": "markdown",
   "metadata": {},
   "source": [
    "```\n",
    "response = runtime.invoke_endpoint(EndpointName = xgb_predictor.endpoint, # The name of the endpoint we created\n",
    "                                   ContentType = 'text/csv',              # The data format that is expected\n",
    "                                   Body = test_bow)\n",
    "```"
   ]
  },
  {
   "cell_type": "markdown",
   "metadata": {},
   "source": [
    "So why did we get an error?\n",
    "\n",
    "Because we tried to send the endpoint a list of integers but it expected us to send data of type `text/csv`. So, we need to convert it."
   ]
  },
  {
   "cell_type": "code",
   "execution_count": 52,
   "metadata": {},
   "outputs": [
    {
     "data": {
      "text/plain": [
       "[0,\n",
       " 0,\n",
       " 0,\n",
       " 0,\n",
       " 0,\n",
       " 0,\n",
       " 0,\n",
       " 0,\n",
       " 0,\n",
       " 0,\n",
       " 0,\n",
       " 0,\n",
       " 0,\n",
       " 0,\n",
       " 0,\n",
       " 0,\n",
       " 0,\n",
       " 0,\n",
       " 0,\n",
       " 0,\n",
       " 0,\n",
       " 0,\n",
       " 0,\n",
       " 0,\n",
       " 0,\n",
       " 0,\n",
       " 0,\n",
       " 0,\n",
       " 0,\n",
       " 0,\n",
       " 0,\n",
       " 0,\n",
       " 0,\n",
       " 0,\n",
       " 0,\n",
       " 0,\n",
       " 0,\n",
       " 0,\n",
       " 0,\n",
       " 0,\n",
       " 0,\n",
       " 0,\n",
       " 0,\n",
       " 0,\n",
       " 0,\n",
       " 0,\n",
       " 0,\n",
       " 0,\n",
       " 0,\n",
       " 0,\n",
       " 0,\n",
       " 0,\n",
       " 0,\n",
       " 0,\n",
       " 0,\n",
       " 0,\n",
       " 0,\n",
       " 0,\n",
       " 0,\n",
       " 0,\n",
       " 0,\n",
       " 0,\n",
       " 0,\n",
       " 0,\n",
       " 0,\n",
       " 0,\n",
       " 0,\n",
       " 0,\n",
       " 0,\n",
       " 0,\n",
       " 0,\n",
       " 0,\n",
       " 0,\n",
       " 0,\n",
       " 0,\n",
       " 0,\n",
       " 0,\n",
       " 0,\n",
       " 0,\n",
       " 0,\n",
       " 0,\n",
       " 0,\n",
       " 0,\n",
       " 0,\n",
       " 0,\n",
       " 0,\n",
       " 0,\n",
       " 0,\n",
       " 0,\n",
       " 0,\n",
       " 0,\n",
       " 0,\n",
       " 0,\n",
       " 0,\n",
       " 0,\n",
       " 0,\n",
       " 0,\n",
       " 0,\n",
       " 0,\n",
       " 0,\n",
       " 0,\n",
       " 0,\n",
       " 0,\n",
       " 0,\n",
       " 0,\n",
       " 0,\n",
       " 0,\n",
       " 0,\n",
       " 0,\n",
       " 0,\n",
       " 0,\n",
       " 0,\n",
       " 0,\n",
       " 0,\n",
       " 0,\n",
       " 0,\n",
       " 0,\n",
       " 0,\n",
       " 0,\n",
       " 0,\n",
       " 0,\n",
       " 0,\n",
       " 0,\n",
       " 0,\n",
       " 0,\n",
       " 0,\n",
       " 0,\n",
       " 0,\n",
       " 0,\n",
       " 0,\n",
       " 0,\n",
       " 0,\n",
       " 0,\n",
       " 0,\n",
       " 0,\n",
       " 0,\n",
       " 0,\n",
       " 0,\n",
       " 0,\n",
       " 0,\n",
       " 0,\n",
       " 0,\n",
       " 0,\n",
       " 0,\n",
       " 0,\n",
       " 0,\n",
       " 0,\n",
       " 0,\n",
       " 0,\n",
       " 0,\n",
       " 0,\n",
       " 0,\n",
       " 0,\n",
       " 0,\n",
       " 0,\n",
       " 0,\n",
       " 0,\n",
       " 0,\n",
       " 0,\n",
       " 0,\n",
       " 0,\n",
       " 0,\n",
       " 0,\n",
       " 0,\n",
       " 0,\n",
       " 0,\n",
       " 0,\n",
       " 0,\n",
       " 0,\n",
       " 0,\n",
       " 0,\n",
       " 0,\n",
       " 0,\n",
       " 0,\n",
       " 0,\n",
       " 0,\n",
       " 0,\n",
       " 0,\n",
       " 0,\n",
       " 0,\n",
       " 0,\n",
       " 0,\n",
       " 0,\n",
       " 0,\n",
       " 0,\n",
       " 0,\n",
       " 0,\n",
       " 0,\n",
       " 0,\n",
       " 0,\n",
       " 0,\n",
       " 0,\n",
       " 0,\n",
       " 0,\n",
       " 0,\n",
       " 0,\n",
       " 0,\n",
       " 0,\n",
       " 0,\n",
       " 0,\n",
       " 0,\n",
       " 0,\n",
       " 0,\n",
       " 0,\n",
       " 0,\n",
       " 0,\n",
       " 0,\n",
       " 0,\n",
       " 0,\n",
       " 0,\n",
       " 0,\n",
       " 0,\n",
       " 0,\n",
       " 0,\n",
       " 0,\n",
       " 0,\n",
       " 0,\n",
       " 0,\n",
       " 0,\n",
       " 0,\n",
       " 0,\n",
       " 0,\n",
       " 0,\n",
       " 0,\n",
       " 0,\n",
       " 0,\n",
       " 1,\n",
       " 0,\n",
       " 0,\n",
       " 0,\n",
       " 0,\n",
       " 0,\n",
       " 0,\n",
       " 0,\n",
       " 0,\n",
       " 0,\n",
       " 0,\n",
       " 0,\n",
       " 0,\n",
       " 0,\n",
       " 0,\n",
       " 0,\n",
       " 0,\n",
       " 0,\n",
       " 0,\n",
       " 0,\n",
       " 0,\n",
       " 0,\n",
       " 0,\n",
       " 0,\n",
       " 0,\n",
       " 0,\n",
       " 0,\n",
       " 0,\n",
       " 0,\n",
       " 0,\n",
       " 1,\n",
       " 0,\n",
       " 0,\n",
       " 0,\n",
       " 0,\n",
       " 0,\n",
       " 0,\n",
       " 0,\n",
       " 0,\n",
       " 0,\n",
       " 0,\n",
       " 0,\n",
       " 0,\n",
       " 0,\n",
       " 0,\n",
       " 0,\n",
       " 0,\n",
       " 0,\n",
       " 0,\n",
       " 0,\n",
       " 0,\n",
       " 0,\n",
       " 0,\n",
       " 0,\n",
       " 0,\n",
       " 0,\n",
       " 0,\n",
       " 0,\n",
       " 0,\n",
       " 0,\n",
       " 0,\n",
       " 0,\n",
       " 0,\n",
       " 0,\n",
       " 0,\n",
       " 0,\n",
       " 0,\n",
       " 0,\n",
       " 0,\n",
       " 0,\n",
       " 0,\n",
       " 0,\n",
       " 0,\n",
       " 0,\n",
       " 0,\n",
       " 0,\n",
       " 0,\n",
       " 0,\n",
       " 0,\n",
       " 0,\n",
       " 0,\n",
       " 0,\n",
       " 0,\n",
       " 0,\n",
       " 0,\n",
       " 0,\n",
       " 0,\n",
       " 0,\n",
       " 0,\n",
       " 0,\n",
       " 0,\n",
       " 0,\n",
       " 0,\n",
       " 0,\n",
       " 0,\n",
       " 0,\n",
       " 0,\n",
       " 0,\n",
       " 0,\n",
       " 0,\n",
       " 0,\n",
       " 0,\n",
       " 0,\n",
       " 0,\n",
       " 0,\n",
       " 0,\n",
       " 0,\n",
       " 0,\n",
       " 0,\n",
       " 0,\n",
       " 0,\n",
       " 0,\n",
       " 0,\n",
       " 0,\n",
       " 0,\n",
       " 0,\n",
       " 0,\n",
       " 0,\n",
       " 0,\n",
       " 0,\n",
       " 0,\n",
       " 0,\n",
       " 0,\n",
       " 0,\n",
       " 0,\n",
       " 0,\n",
       " 0,\n",
       " 0,\n",
       " 0,\n",
       " 0,\n",
       " 0,\n",
       " 0,\n",
       " 0,\n",
       " 0,\n",
       " 0,\n",
       " 0,\n",
       " 0,\n",
       " 0,\n",
       " 0,\n",
       " 0,\n",
       " 0,\n",
       " 0,\n",
       " 0,\n",
       " 0,\n",
       " 0,\n",
       " 0,\n",
       " 0,\n",
       " 0,\n",
       " 0,\n",
       " 0,\n",
       " 0,\n",
       " 0,\n",
       " 0,\n",
       " 0,\n",
       " 0,\n",
       " 0,\n",
       " 0,\n",
       " 0,\n",
       " 0,\n",
       " 0,\n",
       " 0,\n",
       " 0,\n",
       " 0,\n",
       " 0,\n",
       " 0,\n",
       " 0,\n",
       " 0,\n",
       " 0,\n",
       " 0,\n",
       " 0,\n",
       " 0,\n",
       " 0,\n",
       " 0,\n",
       " 0,\n",
       " 0,\n",
       " 0,\n",
       " 0,\n",
       " 0,\n",
       " 0,\n",
       " 0,\n",
       " 0,\n",
       " 0,\n",
       " 0,\n",
       " 0,\n",
       " 0,\n",
       " 0,\n",
       " 0,\n",
       " 0,\n",
       " 0,\n",
       " 0,\n",
       " 0,\n",
       " 0,\n",
       " 0,\n",
       " 0,\n",
       " 0,\n",
       " 0,\n",
       " 0,\n",
       " 0,\n",
       " 0,\n",
       " 0,\n",
       " 0,\n",
       " 0,\n",
       " 0,\n",
       " 0,\n",
       " 0,\n",
       " 0,\n",
       " 0,\n",
       " 0,\n",
       " 0,\n",
       " 0,\n",
       " 0,\n",
       " 0,\n",
       " 0,\n",
       " 0,\n",
       " 0,\n",
       " 0,\n",
       " 0,\n",
       " 0,\n",
       " 0,\n",
       " 0,\n",
       " 0,\n",
       " 0,\n",
       " 0,\n",
       " 0,\n",
       " 0,\n",
       " 0,\n",
       " 0,\n",
       " 0,\n",
       " 0,\n",
       " 0,\n",
       " 0,\n",
       " 0,\n",
       " 0,\n",
       " 0,\n",
       " 0,\n",
       " 0,\n",
       " 0,\n",
       " 0,\n",
       " 0,\n",
       " 0,\n",
       " 0,\n",
       " 0,\n",
       " 0,\n",
       " 0,\n",
       " 0,\n",
       " 0,\n",
       " 0,\n",
       " 0,\n",
       " 0,\n",
       " 0,\n",
       " 0,\n",
       " 0,\n",
       " 0,\n",
       " 0,\n",
       " 0,\n",
       " 0,\n",
       " 0,\n",
       " 0,\n",
       " 0,\n",
       " 0,\n",
       " 0,\n",
       " 0,\n",
       " 0,\n",
       " 0,\n",
       " 0,\n",
       " 0,\n",
       " 0,\n",
       " 0,\n",
       " 0,\n",
       " 0,\n",
       " 0,\n",
       " 0,\n",
       " 0,\n",
       " 0,\n",
       " 0,\n",
       " 0,\n",
       " 0,\n",
       " 0,\n",
       " 0,\n",
       " 0,\n",
       " 0,\n",
       " 0,\n",
       " 0,\n",
       " 0,\n",
       " 0,\n",
       " 0,\n",
       " 0,\n",
       " 0,\n",
       " 0,\n",
       " 0,\n",
       " 0,\n",
       " 0,\n",
       " 0,\n",
       " 0,\n",
       " 0,\n",
       " 0,\n",
       " 0,\n",
       " 0,\n",
       " 0,\n",
       " 0,\n",
       " 0,\n",
       " 0,\n",
       " 0,\n",
       " 0,\n",
       " 0,\n",
       " 0,\n",
       " 0,\n",
       " 0,\n",
       " 0,\n",
       " 0,\n",
       " 0,\n",
       " 0,\n",
       " 0,\n",
       " 0,\n",
       " 0,\n",
       " 0,\n",
       " 0,\n",
       " 0,\n",
       " 0,\n",
       " 0,\n",
       " 0,\n",
       " 0,\n",
       " 0,\n",
       " 0,\n",
       " 0,\n",
       " 0,\n",
       " 0,\n",
       " 0,\n",
       " 0,\n",
       " 0,\n",
       " 0,\n",
       " 0,\n",
       " 0,\n",
       " 0,\n",
       " 0,\n",
       " 0,\n",
       " 0,\n",
       " 0,\n",
       " 0,\n",
       " 0,\n",
       " 0,\n",
       " 0,\n",
       " 0,\n",
       " 0,\n",
       " 0,\n",
       " 0,\n",
       " 0,\n",
       " 0,\n",
       " 0,\n",
       " 0,\n",
       " 0,\n",
       " 0,\n",
       " 0,\n",
       " 0,\n",
       " 0,\n",
       " 0,\n",
       " 0,\n",
       " 0,\n",
       " 0,\n",
       " 0,\n",
       " 0,\n",
       " 0,\n",
       " 0,\n",
       " 0,\n",
       " 0,\n",
       " 0,\n",
       " 0,\n",
       " 0,\n",
       " 0,\n",
       " 0,\n",
       " 0,\n",
       " 0,\n",
       " 0,\n",
       " 0,\n",
       " 0,\n",
       " 0,\n",
       " 0,\n",
       " 0,\n",
       " 0,\n",
       " 0,\n",
       " 0,\n",
       " 0,\n",
       " 0,\n",
       " 0,\n",
       " 0,\n",
       " 0,\n",
       " 0,\n",
       " 0,\n",
       " 0,\n",
       " 0,\n",
       " 0,\n",
       " 0,\n",
       " 0,\n",
       " 0,\n",
       " 0,\n",
       " 0,\n",
       " 0,\n",
       " 0,\n",
       " 0,\n",
       " 0,\n",
       " 0,\n",
       " 0,\n",
       " 0,\n",
       " 0,\n",
       " 0,\n",
       " 0,\n",
       " 0,\n",
       " 0,\n",
       " 0,\n",
       " 0,\n",
       " 1,\n",
       " 0,\n",
       " 0,\n",
       " 0,\n",
       " 0,\n",
       " 0,\n",
       " 0,\n",
       " 0,\n",
       " 0,\n",
       " 0,\n",
       " 0,\n",
       " 0,\n",
       " 0,\n",
       " 0,\n",
       " 0,\n",
       " 0,\n",
       " 0,\n",
       " 0,\n",
       " 0,\n",
       " 0,\n",
       " 0,\n",
       " 0,\n",
       " 0,\n",
       " 0,\n",
       " 0,\n",
       " 0,\n",
       " 0,\n",
       " 0,\n",
       " 0,\n",
       " 0,\n",
       " 0,\n",
       " 0,\n",
       " 0,\n",
       " 0,\n",
       " 0,\n",
       " 0,\n",
       " 0,\n",
       " 0,\n",
       " 0,\n",
       " 0,\n",
       " 0,\n",
       " 0,\n",
       " 0,\n",
       " 0,\n",
       " 0,\n",
       " 0,\n",
       " 0,\n",
       " 0,\n",
       " 0,\n",
       " 0,\n",
       " 0,\n",
       " 0,\n",
       " 0,\n",
       " 0,\n",
       " 0,\n",
       " 0,\n",
       " 0,\n",
       " 0,\n",
       " 0,\n",
       " 0,\n",
       " 0,\n",
       " 0,\n",
       " 0,\n",
       " 0,\n",
       " 0,\n",
       " 0,\n",
       " 0,\n",
       " 0,\n",
       " 0,\n",
       " 0,\n",
       " 0,\n",
       " 0,\n",
       " 0,\n",
       " 0,\n",
       " 0,\n",
       " 0,\n",
       " 0,\n",
       " 0,\n",
       " 0,\n",
       " 0,\n",
       " 0,\n",
       " 0,\n",
       " 0,\n",
       " 0,\n",
       " 0,\n",
       " 0,\n",
       " 0,\n",
       " 0,\n",
       " 0,\n",
       " 0,\n",
       " 0,\n",
       " 0,\n",
       " 0,\n",
       " 0,\n",
       " 0,\n",
       " 0,\n",
       " 0,\n",
       " 0,\n",
       " 0,\n",
       " 0,\n",
       " 0,\n",
       " 0,\n",
       " 0,\n",
       " 0,\n",
       " 0,\n",
       " 0,\n",
       " 0,\n",
       " 0,\n",
       " 0,\n",
       " 0,\n",
       " 0,\n",
       " 0,\n",
       " 0,\n",
       " 0,\n",
       " 0,\n",
       " 0,\n",
       " 0,\n",
       " 0,\n",
       " 0,\n",
       " 0,\n",
       " 0,\n",
       " 0,\n",
       " 0,\n",
       " 0,\n",
       " 0,\n",
       " 0,\n",
       " 0,\n",
       " 0,\n",
       " 0,\n",
       " 0,\n",
       " 0,\n",
       " 0,\n",
       " 0,\n",
       " 0,\n",
       " 0,\n",
       " 0,\n",
       " 0,\n",
       " 0,\n",
       " 0,\n",
       " 0,\n",
       " 0,\n",
       " 0,\n",
       " 0,\n",
       " 0,\n",
       " 0,\n",
       " 0,\n",
       " 0,\n",
       " 0,\n",
       " 0,\n",
       " 0,\n",
       " 0,\n",
       " 0,\n",
       " 0,\n",
       " 0,\n",
       " 0,\n",
       " 0,\n",
       " 0,\n",
       " 0,\n",
       " 0,\n",
       " 0,\n",
       " 0,\n",
       " 0,\n",
       " 0,\n",
       " 0,\n",
       " 0,\n",
       " 0,\n",
       " 0,\n",
       " 0,\n",
       " 0,\n",
       " 0,\n",
       " 0,\n",
       " 0,\n",
       " 0,\n",
       " 0,\n",
       " 0,\n",
       " 0,\n",
       " 0,\n",
       " 0,\n",
       " 0,\n",
       " 0,\n",
       " 0,\n",
       " 0,\n",
       " 0,\n",
       " 0,\n",
       " 0,\n",
       " 0,\n",
       " 0,\n",
       " 0,\n",
       " 0,\n",
       " 0,\n",
       " 0,\n",
       " 0,\n",
       " 0,\n",
       " 0,\n",
       " 0,\n",
       " 0,\n",
       " 0,\n",
       " 0,\n",
       " 0,\n",
       " 0,\n",
       " 0,\n",
       " 0,\n",
       " 0,\n",
       " 0,\n",
       " 0,\n",
       " 0,\n",
       " 0,\n",
       " 0,\n",
       " 0,\n",
       " 0,\n",
       " 0,\n",
       " 0,\n",
       " 0,\n",
       " 0,\n",
       " 0,\n",
       " 0,\n",
       " 0,\n",
       " 0,\n",
       " 0,\n",
       " 0,\n",
       " 0,\n",
       " 0,\n",
       " 0,\n",
       " 0,\n",
       " 0,\n",
       " 0,\n",
       " 0,\n",
       " 0,\n",
       " 0,\n",
       " 0,\n",
       " 0,\n",
       " 0,\n",
       " 0,\n",
       " 0,\n",
       " 0,\n",
       " 0,\n",
       " 0,\n",
       " 0,\n",
       " 0,\n",
       " 0,\n",
       " 0,\n",
       " 0,\n",
       " 0,\n",
       " 0,\n",
       " 0,\n",
       " 0,\n",
       " 0,\n",
       " 0,\n",
       " 0,\n",
       " 0,\n",
       " 0,\n",
       " 0,\n",
       " 0,\n",
       " 0,\n",
       " 1,\n",
       " 0,\n",
       " 0,\n",
       " 0,\n",
       " 0,\n",
       " 0,\n",
       " 0,\n",
       " 0,\n",
       " 0,\n",
       " 0,\n",
       " 0,\n",
       " 0,\n",
       " 0,\n",
       " 0,\n",
       " 0,\n",
       " 0,\n",
       " 0,\n",
       " 0,\n",
       " 0,\n",
       " 0,\n",
       " 0,\n",
       " 0,\n",
       " 0,\n",
       " 0,\n",
       " 0,\n",
       " 0,\n",
       " 0,\n",
       " 0,\n",
       " 0,\n",
       " 0,\n",
       " 0,\n",
       " 0,\n",
       " 0,\n",
       " 0,\n",
       " 0,\n",
       " 0,\n",
       " 0,\n",
       " 0,\n",
       " 0,\n",
       " 0,\n",
       " 0,\n",
       " 0,\n",
       " 0,\n",
       " 0,\n",
       " 0,\n",
       " 0,\n",
       " 0,\n",
       " 0,\n",
       " 0,\n",
       " 0,\n",
       " 0,\n",
       " 0,\n",
       " 0,\n",
       " 0,\n",
       " 0,\n",
       " 0,\n",
       " 0,\n",
       " 0,\n",
       " 0,\n",
       " 0,\n",
       " 0,\n",
       " 0,\n",
       " 0,\n",
       " 0,\n",
       " 0,\n",
       " 0,\n",
       " 0,\n",
       " 0,\n",
       " 0,\n",
       " 0,\n",
       " 0,\n",
       " 0,\n",
       " 0,\n",
       " 0,\n",
       " 0,\n",
       " 0,\n",
       " 0,\n",
       " 0,\n",
       " 0,\n",
       " 0,\n",
       " 0,\n",
       " 0,\n",
       " 0,\n",
       " 0,\n",
       " 0,\n",
       " 0,\n",
       " 0,\n",
       " 1,\n",
       " 0,\n",
       " 0,\n",
       " 0,\n",
       " 0,\n",
       " 0,\n",
       " 0,\n",
       " 0,\n",
       " 0,\n",
       " 0,\n",
       " 0,\n",
       " 0,\n",
       " 0,\n",
       " 0,\n",
       " 0,\n",
       " 0,\n",
       " 0,\n",
       " 0,\n",
       " 0,\n",
       " 0,\n",
       " 0,\n",
       " 0,\n",
       " 0,\n",
       " ...]"
      ]
     },
     "execution_count": 52,
     "metadata": {},
     "output_type": "execute_result"
    }
   ],
   "source": [
    "test_bow"
   ]
  },
  {
   "cell_type": "code",
   "execution_count": 53,
   "metadata": {},
   "outputs": [
    {
     "data": {
      "text/plain": [
       "b'0,0,0,0,0,0,0,0,0,0,0,0,0,0,0,0,0,0,0,0,0,0,0,0,0,0,0,0,0,0,0,0,0,0,0,0,0,0,0,0,0,0,0,0,0,0,0,0,0,0,0,0,0,0,0,0,0,0,0,0,0,0,0,0,0,0,0,0,0,0,0,0,0,0,0,0,0,0,0,0,0,0,0,0,0,0,0,0,0,0,0,0,0,0,0,0,0,0,0,0,0,0,0,0,0,0,0,0,0,0,0,0,0,0,0,0,0,0,0,0,0,0,0,0,0,0,0,0,0,0,0,0,0,0,0,0,0,0,0,0,0,0,0,0,0,0,0,0,0,0,0,0,0,0,0,0,0,0,0,0,0,0,0,0,0,0,0,0,0,0,0,0,0,0,0,0,0,0,0,0,0,0,0,0,0,0,0,0,0,0,0,0,0,0,0,0,0,0,0,0,0,0,0,0,0,0,0,0,0,0,0,0,0,0,0,0,0,0,0,0,0,0,0,0,0,0,1,0,0,0,0,0,0,0,0,0,0,0,0,0,0,0,0,0,0,0,0,0,0,0,0,0,0,0,0,0,1,0,0,0,0,0,0,0,0,0,0,0,0,0,0,0,0,0,0,0,0,0,0,0,0,0,0,0,0,0,0,0,0,0,0,0,0,0,0,0,0,0,0,0,0,0,0,0,0,0,0,0,0,0,0,0,0,0,0,0,0,0,0,0,0,0,0,0,0,0,0,0,0,0,0,0,0,0,0,0,0,0,0,0,0,0,0,0,0,0,0,0,0,0,0,0,0,0,0,0,0,0,0,0,0,0,0,0,0,0,0,0,0,0,0,0,0,0,0,0,0,0,0,0,0,0,0,0,0,0,0,0,0,0,0,0,0,0,0,0,0,0,0,0,0,0,0,0,0,0,0,0,0,0,0,0,0,0,0,0,0,0,0,0,0,0,0,0,0,0,0,0,0,0,0,0,0,0,0,0,0,0,0,0,0,0,0,0,0,0,0,0,0,0,0,0,0,0,0,0,0,0,0,0,0,0,0,0,0,0,0,0,0,0,0,0,0,0,0,0,0,0,0,0,0,0,0,0,0,0,0,0,0,0,0,0,0,0,0,0,0,0,0,0,0,0,0,0,0,0,0,0,0,0,0,0,0,0,0,0,0,0,0,0,0,0,0,0,0,0,0,0,0,0,0,0,0,0,0,0,0,0,0,0,0,0,0,0,0,0,0,0,0,0,0,0,0,0,0,0,0,0,0,0,0,0,0,0,0,0,0,0,0,0,0,0,0,0,0,0,0,0,0,0,0,0,0,0,0,0,0,0,0,0,0,0,0,0,0,0,0,0,0,0,0,0,0,0,0,0,0,0,0,0,0,0,0,0,0,0,0,0,0,0,0,0,0,0,0,0,0,0,0,0,0,0,0,0,0,0,1,0,0,0,0,0,0,0,0,0,0,0,0,0,0,0,0,0,0,0,0,0,0,0,0,0,0,0,0,0,0,0,0,0,0,0,0,0,0,0,0,0,0,0,0,0,0,0,0,0,0,0,0,0,0,0,0,0,0,0,0,0,0,0,0,0,0,0,0,0,0,0,0,0,0,0,0,0,0,0,0,0,0,0,0,0,0,0,0,0,0,0,0,0,0,0,0,0,0,0,0,0,0,0,0,0,0,0,0,0,0,0,0,0,0,0,0,0,0,0,0,0,0,0,0,0,0,0,0,0,0,0,0,0,0,0,0,0,0,0,0,0,0,0,0,0,0,0,0,0,0,0,0,0,0,0,0,0,0,0,0,0,0,0,0,0,0,0,0,0,0,0,0,0,0,0,0,0,0,0,0,0,0,0,0,0,0,0,0,0,0,0,0,0,0,0,0,0,0,0,0,0,0,0,0,0,0,0,0,0,0,0,0,0,0,0,0,0,0,0,0,0,0,0,0,0,0,0,0,0,0,0,0,0,0,0,0,0,0,0,0,0,0,0,0,0,0,0,0,0,0,0,0,0,1,0,0,0,0,0,0,0,0,0,0,0,0,0,0,0,0,0,0,0,0,0,0,0,0,0,0,0,0,0,0,0,0,0,0,0,0,0,0,0,0,0,0,0,0,0,0,0,0,0,0,0,0,0,0,0,0,0,0,0,0,0,0,0,0,0,0,0,0,0,0,0,0,0,0,0,0,0,0,0,0,0,0,0,0,0,0,1,0,0,0,0,0,0,0,0,0,0,0,0,0,0,0,0,0,0,0,0,0,0,0,0,0,0,0,0,0,0,0,0,0,0,0,0,0,0,0,0,0,0,0,0,0,0,0,0,0,0,0,0,0,0,0,0,0,0,0,0,0,0,0,0,0,0,0,0,0,0,0,0,0,0,0,0,0,0,0,0,0,0,0,0,0,0,0,0,0,0,0,0,0,0,0,0,0,0,0,0,0,0,0,0,0,0,0,0,0,0,0,0,0,0,0,0,0,0,0,0,0,0,0,0,0,0,0,0,0,0,0,0,0,0,0,0,0,0,0,0,0,0,0,0,0,0,0,0,0,0,0,0,0,0,0,0,0,0,0,0,0,0,0,0,0,0,0,0,0,0,0,0,0,0,0,0,0,0,0,0,0,0,0,0,0,0,0,0,0,0,0,0,0,0,0,0,0,0,0,0,0,0,0,0,0,0,0,0,0,0,0,0,0,0,0,0,0,0,0,0,0,0,0,0,0,0,0,0,0,0,0,0,0,0,0,0,0,0,0,0,0,0,0,0,0,0,0,0,0,0,0,0,1,0,0,0,0,0,0,0,0,0,0,0,0,0,0,0,0,0,0,0,0,0,0,0,0,0,0,0,0,0,0,0,0,0,0,0,0,0,0,0,0,0,0,0,0,0,0,0,0,0,0,0,0,0,0,0,1,0,0,0,0,0,0,0,0,0,0,0,0,0,0,0,0,0,0,0,0,0,0,0,0,0,0,0,0,0,0,0,0,0,0,0,0,0,0,0,0,0,0,0,0,0,0,0,0,0,0,0,0,0,0,0,0,0,0,0,0,0,0,0,0,0,0,0,0,0,0,0,0,0,0,0,0,0,0,0,0,0,0,0,0,0,0,0,0,0,0,0,0,0,0,0,0,0,0,0,0,0,0,0,0,0,0,0,0,0,0,0,0,0,0,0,0,0,0,0,0,0,0,0,0,0,0,0,0,0,0,0,0,0,0,0,0,0,0,0,0,0,0,0,0,0,0,0,0,0,0,0,0,0,0,0,0,0,0,0,0,0,0,0,0,0,0,0,0,0,0,0,0,0,0,0,0,0,0,0,0,0,0,0,0,0,0,0,0,0,0,0,0,0,0,0,0,0,0,0,0,0,0,0,0,0,0,0,0,0,0,0,0,0,0,0,0,0,0,0,0,0,0,0,0,0,0,0,0,0,0,0,0,0,0,0,0,0,0,0,0,0,0,0,0,0,0,0,0,0,0,0,0,0,0,0,0,0,0,0,0,0,0,0,0,0,0,0,0,0,0,0,0,0,0,0,0,0,0,0,0,0,0,0,0,0,0,0,0,0,0,0,0,0,0,0,0,0,0,0,0,0,0,0,0,0,0,0,0,0,0,0,0,0,0,0,0,0,0,0,0,0,0,0,0,0,0,0,0,0,0,0,0,0,0,0,0,0,0,0,0,0,0,0,0,0,0,0,0,0,0,0,0,0,0,0,0,0,0,0,0,0,0,0,0,0,0,0,0,0,0,0,0,0,0,0,0,0,0,0,0,0,0,0,0,0,0,0,0,0,0,0,0,0,0,0,0,0,0,0,0,0,0,0,0,0,0,0,0,0,0,0,0,0,0,0,0,0,0,0,0,0,0,0,0,0,0,0,0,0,0,0,0,0,0,0,0,0,0,0,0,0,0,0,0,0,0,0,0,0,0,0,0,0,0,0,0,0,0,0,0,0,0,0,0,0,0,0,0,0,0,0,0,0,0,0,0,0,0,0,0,0,0,0,0,0,0,0,0,0,0,0,0,0,0,0,0,0,0,0,0,0,0,0,0,0,0,0,0,0,0,0,0,0,0,0,0,0,0,0,0,0,0,0,0,0,0,0,0,0,0,0,0,0,0,0,0,0,0,0,0,0,0,0,0,0,0,0,0,0,0,0,0,0,0,0,0,0,0,0,0,0,0,0,0,0,0,0,0,0,0,0,0,0,0,0,0,0,0,0,0,0,0,0,0,0,0,0,0,0,0,0,0,0,0,0,0,0,0,0,0,0,0,0,0,0,0,0,0,0,0,0,0,0,0,0,0,0,0,0,0,0,0,0,0,0,0,0,0,0,0,0,0,0,0,0,0,0,0,0,0,0,0,0,0,0,0,0,0,0,0,0,0,0,0,0,0,0,0,0,0,0,0,0,0,0,0,0,0,0,0,0,0,0,0,0,0,0,0,0,0,0,1,0,0,0,0,0,0,0,0,0,0,0,0,0,0,0,0,0,0,0,0,0,0,0,0,0,0,0,0,0,0,0,0,0,0,0,0,0,0,0,0,0,0,0,0,0,0,0,0,0,0,0,0,0,0,0,0,0,0,0,0,0,0,0,0,0,0,0,0,0,0,0,0,0,0,1,0,0,0,0,0,0,0,0,0,0,0,0,0,0,0,0,0,0,0,0,1,0,0,1,0,0,0,0,0,0,0,0,0,0,0,0,0,0,0,0,0,0,0,0,0,0,0,0,0,0,0,0,0,0,0,0,0,0,0,0,0,0,0,0,0,0,0,0,0,0,0,0,0,0,0,0,0,0,0,0,0,0,0,0,0,0,0,0,0,0,0,0,0,0,0,0,0,0,0,0,0,0,0,0,0,0,0,0,0,0,0,0,0,0,0,0,0,0,0,0,0,0,0,0,0,0,0,0,0,0,0,0,0,0,0,0,0,0,0,0,0,0,0,0,0,0,0,0,0,0,0,0,0,0,0,0,0,0,0,0,0,0,0,0,0,0,0,0,0,0,0,0,0,0,0,0,0,0,0,0,0,0,0,0,0,0,0,0,0,0,0,0,0,0,0,0,0,0,0,0,0,0,0,0,0,0,0,0,0,0,0,0,0,0,0,0,0,0,0,0,0,0,0,0,0,0,0,0,0,0,0,0,0,0,0,0,0,0,0,0,0,0,0,0,0,0,0,0,0,0,0,0,0,0,0,0,0,0,0,0,0,0,0,0,0,0,0,0,0,0,0,0,0,0,0,0,0,0,0,0,0,0,0,0,0,0,0,0,0,0,0,0,0,0,0,0,0,0,0,0,0,0,0,0,0,0,0,0,0,0,0,0,0,0,0,0,0,0,0,0,0,0,0,0,0,0,0,0,0,0,0,0,0,0,0,0,0,0,0,0,0,0,0,0,0,0,0,0,0,0,0,0,0,0,0,0,0,0,0,0,0,0,0,0,0,0,0,0,0,0,0,0,0,0,0,0,0,0,0,0,0,0,0,0,0,0,0,0,0,0,0,0,0,0,0,0,0,0,0,0,0,0,0,0,0,0,0,0,0,0,0,0,0,0,0,0,0,0,0,0,0,0,0,0,0,0,0,0,0,0,0,0,0,0,0,0,0,0,0,0,0,0,0,0,0,0,0,0,0,0,0,0,0,0,0,0,0,0,0,0,0,0,0,0,0,0,0,0,0,0,0,0,0,0,0,0,0,0,0,0,0,0,0,0,0,0,0,0,0,0,1,0,0,0,0,0,0,0,0,0,0,0,0,0,0,0,0,0,0,0,0,0,0,0,0,0,0,0,0,0,0,0,0,0,0,0,0,0,0,0,0,0,0,0,0,0,0,0,0,0,0,0,0,0,0,0,0,0,0,0,0,0,0,0,0,0,0,0,0,0,0,0,0,0,0,0,0,0,0,0,0,0,0,0,0,0,0,0,0,0,0,0,0,0,0,0,0,0,0,0,0,0,0,0,0,0,0,0,0,0,0,0,0,0,0,0,0,0,0,0,0,0,0,0,0,0,0,0,0,0,0,0,0,0,0,0,0,0,0,0,0,0,0,0,0,0,0,0,0,0,0,0,0,0,0,0,0,0,0,0,0,0,0,0,0,0,0,0,0,0,0,0,0,0,0,0,0,0,0,0,0,0,0,0,0,0,0,0,0,0,0,0,0,0,0,0,0,0,0,0,0,0,0,0,0,0,0,0,0,0,0,0,0,0,0,0,0,0,0,0,0,0,0,0,0,0,0,0,0,0,0,0,0,0,0,0,0,0,0,0,0,0,0,0,0,0,0,0,0,0,0,0,0,0,0,0,0,0,0,0,0,0,0,0,0,0,0,0,0,0,0,0,0,0,0,0,0,0,0,0,0,0,0,0,0,0,0,0,0,0,0,0,0,0,0,0,0,0,0,0,0,0,0,0,0,0,0,0,0,0,0,0,0,0,0,0,0,0,0,0,0,0,0,0,0,0,0,0,0,0,0,0,0,0,0,0,0,0,0,0,0,0,0,0,0,0,0,0,0,0,0,0,0,0,0,0,0,0,0,0,0,0,0,0,0,0,0,0,0,0,0,0,0,0,0,0,0,0,0,0,0,0,0,0,0,0,0,0,0,0,0,0,0,0,0,0,0,0,0,0,0,0,0,0,0,0,0,0,0,0,0,0,0,0,0,0,0,0,0,0,0,0,0,0,0,0,0,0,0,0,0,0,0,0,0,0,0,0,0,0,0,0,0,0,0,0,0,0,0,0,0,0,0,0,0,0,0,0,0,0,0,0,0,0,0,0,0,0,0,0,0,0,0,0,0,0,0,0,0,0,0,0,0,0,0,0,0,0,0,0,0,0,0,0,0,0,0,0,0,0,0,0,0,0,0,0,0,0,0,0,0,0,0,1,0,0,0,0,0,0,0,0,0,0,0,0,0,0,0,0,0,0,0,0,0,0,0,0,0,0,0,0,0,0,0,0,0,0,0,2,0,0,0,0,0,0,0,0,0,0,0,0,0,0,0,0,0,0,0,0,0,0,0,0,0,0,0,0,0,0,0,0,0,0,0,0,0,0,0,0,1,0,0,0,0,0,0,0,0,0,0,0,0,0,0,0,0,0,0,0,0,0,0,0,0,0,0,0,0,0,0,0,0,0,0,0,0,0,0,0,0,0,0,0,0,0,0,0,0,0,0,0,0,0,0,0,0,0,0,0,0,0,0,0,0,0,0,0,0,0,0,0,0,0,0,0,0,0,0,0,0,0,0,0,0,0,0,0,0,0,0,0,0,0,0,0,0,0,0,0,0,0,0,0,0,0,0,0,0,0,0,0,0,0,0,0,0,0,0,0,0,0,0,0,0,0,0,0,0,0,0,0,0,0,0,0,0,0,0,0,0,0,0,0,0,0,0,0,0,0,0,0,0,0,0,0,0,0,0,0,0,0,0,0,0,0,0,0,0,0,0,0,0,0,0,0,0,0,0,0,0,0,0,0,0,0,0,0,0,0,0,0,0,0,0,0,0,0,0,0,0,0,0,0,0,0,0,0,0,0,0,0,0,0,0,0,0,0,0,0,0,0,0,0,0,0,0,0,0,0,0,0,0,0,0,0,0,0,0,0,0,0,0,0,0,0,0,0,0,0,0,0,0,0,0,0,0,0,0,0,0,0,0,0,0,0,0,0,0,0,0,0,0,0,0,0,0,0,0,0,0,0,0,0,0,0,0,0,0,0,0,0,0,0,0,0,0,0,0,0,0,0,0,0,0,0,0,0,0,0,0,0,0,0,0,0,0,0,0,0,0,0,0,0,0,0,0,0,0,0,0,0,0,0,0,0,0,0,0,0,0,0,0,0,0,0,0,0,0,0,0,0,0,0,0,0,0,0,0,0,0,0,0,0,0,0,0,0,0,0,0,0,0,0,0,0,0,0,0,0,0,0,0,0,0,0,0,0,0,0,0,0,0,0,0,0,0,0,0,0,0,0,0,0,0,0,0,0,0,0,0,0,0,0,0,0,0,0,0,0,0,0,0,0,0,0,0,0,0,0,0,0,0,0,0,0,0,0,0,0,0,0,0,0,0,0,0,0,0,0,0,0,0,0,0,0,0,0,0,0,0,0,0,0,0,0,0,0,0,0,0,0,0,0,0,0,0,0,0,0,0,0,0,0,0,0,0,0,0,0,0,0,0,0,0,0,0,0,1,0,0,0,0,0,0,0,0,0,0,0,0,0,0,0,0,0,0,0,0,0,0,0,0,0,0,0,0,0,0,0,0,0,0,0,0,0,0,0,0,0,0,0,0,0,0,0,0,0,0,0,0,0,0,0,0,0,0,0,0,0,0,0,0,0,0,0,0,0,0,0,0,0,0,0,0,0,0,0,0,0,0,0,0,0,0,0,0,0,0,0,0,0,0,0,0,0,0,0,0,0,0,0,0,0,0,0,0,0,0,2,0,0,0,0,0,0,0,0,0,0,0,0,0,0,0,0,0,0,0,0,0,0,0,0,0,0,0,0,0,0,0,0,0,0,0,0,0,0,0,0,0,0,0,0,0,0,0,0,0,0,0,0,0,0,0,0,0,0,0,0,0,0,0,0,0,0,0,0,0,0,0,0,0,0,0,0,0,0,0,0,0,0,0,0,0,0,0,0,0,0,0,0,0,0,0,0,0,0,0,0,0,0,0,0,0,0,0,0,0,0,0,0,0,0,0,0,0,0,0,0,0,0,0,0,0,0,0,0,0,0,0,0,0,0,0,0,0,0,0,0,0,0,0,0,0,0,0,0,0,0,0,0,0,0,0,0,0,0,0,0,0,0,0,0,0,0,0,0,0,0,0,0,0,0,0,0,0,0,0,0,0,0,0,0,0,0,0,0,0,0,0,0,0,0,0,0,0,0,0,0,0,0,0,0,0,0,0,0,0,0,0,0,0,0,0,0,0,0,0,0,0,0,0,0,0,0,0,0,0,0,0,0,0,0,0,0,0,0,0,0,0,0,0,0,0,0,0,0,0,0,0,0,0,0,0,0,0,0,0,0,0,0,0,0,0,0,0,0,0,0,0,0,0,0,0,0,0,0,0,0,0,0,0,0,0,0,0,0,0,0,0,0,0,0,0,0,0,0,0,0,0,0,0,0,0,0,0,0,0,0,0,0,0,0,0,0,0,0,0,0,0,0,0,0,0,0,0,0,0,0,0,0,0,0,0,0,0,0,0,0,0,0,0,0,0,0,0,0,0,0,0,0,0,0,0,0,0,0,0,0,0,0,0,0,0,0,0,0,0,0,0,0,0,0,0,0,0,0,0,0,0,0,0,0,0,0,0,0,0,0,0,0,0,0,0,0,0,0,0,0,0,0,0,0,0,0,0,0,0,0,0,0,0,0,0,0,0,0,0,0,0,0,0,0,0,0,0,0,0,0,0,0,0,0,0,0,0,0,0,0,0,0,0,0,0,0,0,0,0,0,0,0,0,0,0,0,0,0,0,0,0,0,0,0,0,0,0,0,0,0,0,0,0,0,0,0,0,0,0,0,0,0,0,0,0,0,0,0,0,0,0,0,0,0,0,0,0,0,0,0,0,0,0,0,0,0,0,0,0,0,0,0,0,0,0,0,0,0,0,0,0,0,0,0,0,0,0,0,0,0,0,0,0,0,0,0,0,0,0,0,0,0,0,0,0,0,0,0,0,0,0,0,0,0,0,0,0,0,0,0,0,0,0,0,0,0,0,0,0,0,0,0,0,0,0,0,0,0,0,0,0,0,0,0,0,0,0,0,0,0,0,0,0,0,0,0,0,0,0,0,0,0,0,0,0,0,0,0,0,0,0,0,0,0,0,0,0,0,0,0,0,0,0,0,0,0,0,0,0,0,0,0,0,0,0,0,0,0,0,0,0,0,0,0,0,0,0,0,0,0,0,0,0,0,0,0,0,0,0,0,0,0,0,0,0,0,0,0,0,0,0,0,0,0,0,0,0,0,0,0,0,0,0,0,0,0,0,0,0,0,1,0,0,0,0,0,0,0,0,0,0,0,0,0,0,0,0,0,0,0,0,0,0,0,0,0,0,0,0,0,0,0,0,0,0,0,0,0,0,0,0,0,0,0,0,0,0,0,0,0,0,0,0,0,0,0,0,0,0,0,0,0,0,0,0,0,0,0,0,0,0,0,0,0,0,0,0,0,0,0,0,0,0,0,0,0,0,0,0,0,0,0,0,0,0,0,0,0,0,0,0,0,0,0,0,0,0,0,1,0,0,0,0,0,0,0,0,0,0,0,0,0,0,0,0,0,0,0,0,0,0,0,0,0,0,0,0,0,0,0,0,0,0,0,0,0,0,0,0,0,0,0,0,0,0,0,0,0,0,0,0,0,0,0,0,0,0,0,0,0,0,0,0,0,0,0,0,0,0,0,0,0,0,0,0,0,0,0,0,0,0,0,0,0,0,0,0,0,0,0,0,0,0,0,0,0,0,0,0,0,0,0,0,0,0,0,0,0,0,0,0,0,0,0,0,0,0,0,0,0,0,0,0,0,0,0,0,0,0,0,0,0,0,0,0,0,0,0,0,0,0,0,0,0,0,0,0,0,0,0,0,0,0,0,0,0,0,0,0,0,0,0,0,0,0,0,0,0,0,0,0,0,0,0,0,0,0,0,0,0,0,0,0,0,0,0,0,0,0,0,0,0,0,0,0,0,0,0,0,0,0,0,0,0,0,0,0,0,0,0,0,0,0,0,0,0,0,0,0,0,0,0,0,0,0,0,0,0,0,0,0,0,0,0,0,0,0,0,0,0,0,0,0,0,0,0,0,0,0,0,0,0,0,0,0,0,0,0,0,0,0,0,0,0,0,0,0,0,0,0,0,0,0,0,0,0,0,0,0,0,0,0,0,0,0,0,0,0,0,0,0,0,0,0,0,0,0,0,0,0,0,0,0,0,0,0,0,0,0,0,0,0,0,0,0,0,0,0,0,0,0,0,0,0,0,0,0,0,0,0,0,0,0,0,0,0,0,0,0,0,0,0,0,0,0,0,0,0,0,0,0,0,0,0,0,0,0,0,0,0,0,0,0,0,0,0,0,0,0,0,0,0,0,0,0,0,0,0,0,0,0,0,0,0,0,0,0,0,0,0,0,0,0,0,0,0,0,0,0,0,0,0,0,0,0,0,0,0,0,0,0,0,0,0,0,0,0,0,0,0,0,0,0,0,0,0,0,0,0,0,0,0,0,0,0,0,0,0,0,0,0,0,0,0,0,0,0,0,0,0,0,0,0,0,0,0,0,0,0,0,0,0,2,0,1,0'"
      ]
     },
     "execution_count": 53,
     "metadata": {},
     "output_type": "execute_result"
    }
   ],
   "source": [
    "','.join([str(val) for val in test_bow]).encode('utf-8')"
   ]
  },
  {
   "cell_type": "code",
   "execution_count": 54,
   "metadata": {},
   "outputs": [],
   "source": [
    "response = runtime.invoke_endpoint(EndpointName = xgb_predictor.endpoint, # The name of the endpoint we created\n",
    "                                   ContentType = 'text/csv',              # The data format that is expected\n",
    "                                   Body = ','.join([str(val) for val in test_bow]).encode('utf-8'))"
   ]
  },
  {
   "cell_type": "code",
   "execution_count": 55,
   "metadata": {},
   "outputs": [
    {
     "name": "stdout",
     "output_type": "stream",
     "text": [
      "{'ResponseMetadata': {'RequestId': '38d40b29-288b-44aa-bc41-b5fb07e18b83', 'HTTPStatusCode': 200, 'HTTPHeaders': {'x-amzn-requestid': '38d40b29-288b-44aa-bc41-b5fb07e18b83', 'x-amzn-invoked-production-variant': 'AllTraffic', 'date': 'Thu, 16 Jul 2020 03:48:59 GMT', 'content-type': 'text/csv; charset=utf-8', 'content-length': '13'}, 'RetryAttempts': 0}, 'ContentType': 'text/csv; charset=utf-8', 'InvokedProductionVariant': 'AllTraffic', 'Body': <botocore.response.StreamingBody object at 0x7f10927bb908>}\n"
     ]
    }
   ],
   "source": [
    "print(response)"
   ]
  },
  {
   "cell_type": "markdown",
   "metadata": {},
   "source": [
    "As we can see, the response from our model is a somewhat complicated looking dict that contains a bunch of information. The bit that we are most interested in is `'Body'` object which is a streaming object that we need to `read` in order to make use of."
   ]
  },
  {
   "cell_type": "code",
   "execution_count": 56,
   "metadata": {},
   "outputs": [
    {
     "name": "stdout",
     "output_type": "stream",
     "text": [
      "0.34720030427\n"
     ]
    }
   ],
   "source": [
    "response = response['Body'].read().decode('utf-8')\n",
    "print(response)"
   ]
  },
  {
   "cell_type": "markdown",
   "metadata": {},
   "source": [
    "Now that we know how to process the incoming user data we can start setting up the infrastructure to make our simple web app work. To do this we will make use of two different services. Amazon's Lambda and API Gateway services.\n",
    "\n",
    "Lambda is a service which allows someone to write some relatively simple code and have it executed whenever a chosen trigger occurs. For example, you may want to update a database whenever new data is uploaded to a folder stored on S3.\n",
    "\n",
    "API Gateway is a service that allows you to create HTTP endpoints (url addresses) which are connected to other AWS services. One of the benefits to this is that you get to decide what credentials, if any, are required to access these endpoints.\n",
    "\n",
    "In our case we are going to set up an HTTP endpoint through API Gateway which is open to the public. Then, whenever anyone sends data to our public endpoint we will trigger a Lambda function which will send the input (in our case a review) to our model's endpoint and then return the result."
   ]
  },
  {
   "cell_type": "markdown",
   "metadata": {},
   "source": [
    "### Setting up a Lambda function\n",
    "\n",
    "The first thing we are going to do is set up a Lambda function. This Lambda function will be executed whenever our public API has data sent to it. When it is executed it will receive the data, perform any sort of processing that is required, send the data (the review) to the SageMaker endpoint we've created and then return the result.\n",
    "\n",
    "#### Part A: Create an IAM Role for the Lambda function\n",
    "\n",
    "Since we want the Lambda function to call a SageMaker endpoint, we need to make sure that it has permission to do so. To do this, we will construct a role that we can later give the Lambda function.\n",
    "\n",
    "Using the AWS Console, navigate to the **IAM** page and click on **Roles**. Then, click on **Create role**. Make sure that the **AWS service** is the type of trusted entity selected and choose **Lambda** as the service that will use this role, then click **Next: Permissions**.\n",
    "\n",
    "In the search box type `sagemaker` and select the check box next to the **AmazonSageMakerFullAccess** policy. Then, click on **Next: Review**.\n",
    "\n",
    "Lastly, give this role a name. Make sure you use a name that you will remember later on, for example `LambdaSageMakerRole`. Then, click on **Create role**."
   ]
  },
  {
   "cell_type": "markdown",
   "metadata": {},
   "source": [
    "#### Part B: Create a Lambda function\n",
    "\n",
    "Now it is time to actually create the Lambda function. Remember from earlier that in order to process the user provided input and send it to our endpoint we need to gather two pieces of information:\n",
    "\n",
    " - The name of the endpoint, and\n",
    " - the vocabulary object.\n",
    "\n",
    "We will copy these pieces of information to our Lambda function after we create it.\n",
    "\n",
    "To start, using the AWS Console, navigate to the AWS Lambda page and click on **Create a function**. When you get to the next page, make sure that **Author from scratch** is selected. Now, name your Lambda function, using a name that you will remember later on, for example `sentiment_analysis_xgboost_func`. Make sure that the **Python 3.6** runtime is selected and then choose the role that you created in the previous part. Then, click on **Create Function**.\n",
    "\n",
    "On the next page you will see some information about the Lambda function you've just created. If you scroll down you should see an editor in which you can write the code that will be executed when your Lambda function is triggered. Collecting the code we wrote above to process a single review and adding it to the provided example `lambda_handler` we arrive at the following.\n",
    "\n",
    "```python\n",
    "# We need to use the low-level library to interact with SageMaker since the SageMaker API\n",
    "# is not available natively through Lambda.\n",
    "import boto3\n",
    "\n",
    "# And we need the regular expression library to do some of the data processing\n",
    "import re\n",
    "\n",
    "REPLACE_NO_SPACE = re.compile(\"(\\.)|(\\;)|(\\:)|(\\!)|(\\')|(\\?)|(\\,)|(\\\")|(\\()|(\\))|(\\[)|(\\])\")\n",
    "REPLACE_WITH_SPACE = re.compile(\"(<br\\s*/><br\\s*/>)|(\\-)|(\\/)\")\n",
    "\n",
    "def review_to_words(review):\n",
    "    words = REPLACE_NO_SPACE.sub(\"\", review.lower())\n",
    "    words = REPLACE_WITH_SPACE.sub(\" \", words)\n",
    "    return words\n",
    "    \n",
    "def bow_encoding(words, vocabulary):\n",
    "    bow = [0] * len(vocabulary) # Start by setting the count for each word in the vocabulary to zero.\n",
    "    for word in words.split():  # For each word in the string\n",
    "        if word in vocabulary:  # If the word is one that occurs in the vocabulary, increase its count.\n",
    "            bow[vocabulary[word]] += 1\n",
    "    return bow\n",
    "\n",
    "\n",
    "def lambda_handler(event, context):\n",
    "    \n",
    "    vocab = \"*** ACTUAL VOCABULARY GOES HERE ***\"\n",
    "    \n",
    "    words = review_to_words(event['body'])\n",
    "    bow = bow_encoding(words, vocab)\n",
    "\n",
    "    # The SageMaker runtime is what allows us to invoke the endpoint that we've created.\n",
    "    runtime = boto3.Session().client('sagemaker-runtime')\n",
    "\n",
    "    # Now we use the SageMaker runtime to invoke our endpoint, sending the review we were given\n",
    "    response = runtime.invoke_endpoint(EndpointName = '***ENDPOINT NAME HERE***',# The name of the endpoint we created\n",
    "                                       ContentType = 'text/csv',                 # The data format that is expected\n",
    "                                       Body = ','.join([str(val) for val in bow]).encode('utf-8')) # The actual review\n",
    "\n",
    "    # The response is an HTTP response whose body contains the result of our inference\n",
    "    result = response['Body'].read().decode('utf-8')\n",
    "    \n",
    "    # Round the result so that our web app only gets '1' or '0' as a response.\n",
    "    result = round(float(result))\n",
    "\n",
    "    return {\n",
    "        'statusCode' : 200,\n",
    "        'headers' : { 'Content-Type' : 'text/plain', 'Access-Control-Allow-Origin' : '*' },\n",
    "        'body' : str(result)\n",
    "    }\n",
    "```"
   ]
  },
  {
   "cell_type": "markdown",
   "metadata": {},
   "source": [
    "Once you have copy and pasted the code above into the Lambda code editor, replace the `**ENDPOINT NAME HERE**` portion with the name of the endpoint that we deployed earlier. You can determine the name of the endpoint using the code cell below."
   ]
  },
  {
   "cell_type": "code",
   "execution_count": 57,
   "metadata": {},
   "outputs": [
    {
     "data": {
      "text/plain": [
       "'xgboost-2020-07-16-03-14-38-404'"
      ]
     },
     "execution_count": 57,
     "metadata": {},
     "output_type": "execute_result"
    }
   ],
   "source": [
    "xgb_predictor.endpoint"
   ]
  },
  {
   "cell_type": "markdown",
   "metadata": {},
   "source": [
    "In addition, you will need to copy the vocabulary dict to the appropriate place in the code at the beginning of the `lambda_handler` method. The cell below prints out the vocabulary dict in a way that is easy to copy and paste."
   ]
  },
  {
   "cell_type": "code",
   "execution_count": 58,
   "metadata": {},
   "outputs": [
    {
     "name": "stdout",
     "output_type": "stream",
     "text": [
      "{'predictable': 3367, 'poorly': 3329, 'written': 4972, 'such': 4268, 'cast': 710, 'would': 4957, 'not': 3040, 'be': 418, 'involved': 2346, 'unless': 4669, 'it': 2366, 'had': 2003, 'merit': 2816, 'guess': 1989, 'competition': 918, 'amongst': 218, 'actors': 104, 'is': 2360, 'so': 4046, 'intense': 2316, 'these': 4441, 'days': 1130, 'and': 226, 'will': 4886, 'only': 3110, 'get': 1899, 'worse': 4951, 'that': 4424, 'one': 3107, 'cannot': 670, 'pick': 3265, 'choose': 799, 'much': 2934, 'any': 256, 'more': 2904, 'early': 1400, 'on': 3105, 'we': 4823, 'were': 4848, 'given': 1913, 'an': 223, 'who': 4871, 'was': 4805, 'in': 2257, 'the': 4426, 'down': 1335, 'our': 3139, 'ever': 1538, 'since': 3990, 'movie': 2926, 'lacked': 2503, 'intrigue': 2333, 'giving': 1915, 'us': 4690, 'little': 2624, 'insight': 2298, 'into': 2332, 'victim': 4729, 'possible': 3350, 'for': 1784, 'murder': 2939, 'some': 4061, 'of': 3083, 'frankly': 1823, 'embarrassing': 1454, 'its': 2370, 'hard': 2033, 'to': 4507, 'believe': 454, 'anyone': 259, 'even': 1533, 'consider': 949, 'let': 2579, 'alone': 194, 'commit': 904, 'spending': 4106, 'millions': 2848, 'dollars': 1315, 'make': 2713, 'this': 4457, 'remember': 3616, 'film': 1716, 'from': 1840, 'many': 2732, 'years': 4979, 'ago': 154, 'certainly': 738, 'best': 469, 'subject': 4253, 'my': 2951, 'experience': 1580, 'fact': 1621, 'after': 143, 'long': 2644, 'time': 4495, 'impact': 2244, 'difficult': 1249, 'comment': 898, 'level': 2584, 'performances': 3229, 'because': 432, 'language': 2516, 'but': 636, 'they': 4442, 'nonetheless': 3029, 'very': 4723, 'powerful': 3360, 'continues': 971, 'with': 4911, 'passing': 3204, 'most': 2909, 'effectively': 1430, 'treated': 4573, 'here': 2086, 'proper': 3436, 'historical': 2119, 'perspective': 3245, 'wish': 4904, 'shown': 3959, 'tv': 4610, 'at': 331, 'least': 2554, 'once': 3106, 'or': 3124, 'available': 361, 'tape': 4365, 'dvd': 1391, 'art': 304, 'copy': 994, 'amateur': 206, 'shot': 3949, 'video': 4733, 'drama': 1346, 'as': 311, 'notes': 3046, 'have': 2052, 'seen': 3865, 'better': 472, 'stuff': 4243, 'students': 4239, 'story': 4207, 'unfolds': 4651, 'all': 187, 'taxi': 4371, 'ride': 3692, 'around': 297, 'could': 1007, 'been': 438, 'made': 2697, 'using': 4698, 'single': 3996, 'camera': 659, 'there': 4438, 'are': 285, 'few': 1700, 'where': 4864, 'two': 4620, 'cameras': 660, 'used': 4693, 'content': 966, 'together': 4511, 'later': 2525, 'editing': 1421, 'extremely': 1610, 'rough': 3741, 'final': 1722, 'probably': 3407, 'done': 1322, 'back': 378, 'forth': 1804, 'instead': 2307, 'editor': 1423, 'perhaps': 3235, 'did': 1241, 'too': 4522, 'english': 1483, 'subtitles': 4259, 'by': 642, 'someone': 4064, 'eg': 1434, 'you': 4986, 'go': 1924, 'now': 3054, 'say': 3799, 'production': 3419, 'quality': 3484, 'par': 3184, 'blair': 497, 'witch': 4909, 'generous': 1886, 'if': 2222, 'youre': 4992, 'scared': 3805, 'away': 369, 'yet': 4984, 'ambitious': 211, 'creative': 1041, 'lots': 2662, 'cool': 989, 'images': 2235, 'over': 3148, 'fair': 1630, 'expected': 1577, 'car': 680, 'chases': 771, 'really': 3556, 'apart': 264, 'great': 1964, 'which': 4867, 'am': 204, 'glad': 1916, 'own': 3158, 'big': 478, 'names': 2963, 'richard': 3686, 'radio': 3504, 'psychiatrist': 3455, 'villain': 4744, 'billy': 482, 'revelation': 3674, 'killer': 2470, 'rest': 3657, 'generally': 1881, 'give': 1912, 'good': 1937, 'especially': 1520, 'liked': 2600, 'how': 2181, 'gave': 1875, 'her': 2085, 'character': 758, 'bit': 488, 'guts': 1999, 'she': 3923, 'fully': 1847, 'seeks': 3860, 'out': 3141, 'help': 2079, 'hunter': 2199, 'james': 2378, 'im': 2232, 'afraid': 140, 'comes': 891, 'across': 96, 'rather': 3528, 'wooden': 4934, 'then': 4436, 'again': 146, 'he': 2056, 'plays': 3301, 'frank': 1821, 'isnt': 2362, 'well': 4843, 'save': 3794, 'his': 2118, 'former': 1800, 'officer': 3092, 'tone': 4517, 'menace': 2806, 'kept': 2456, 'up': 4683, 'superbly': 4297, 'throughout': 4478, 'atmosphere': 333, 'lonely': 2643, 'la': 2500, 'night': 3013, 'length': 2569, 'sinister': 3998, 'grey': 1973, 'excellent': 1555, 'way': 4820, 'building': 615, 'tension': 4404, 'music': 2946, 'composed': 926, 'dont': 1324, 'know': 2489, 'why': 4878, 'people': 3221, 'hate': 2046, 'different': 1248, 'folks': 1771, 'suppose': 4305, 'absolutely': 72, 'enjoyed': 1486, 'can': 665, 'strongly': 4231, 'recommend': 3571, 'couldnt': 1008, 'wait': 4770, 'hands': 2020, 'when': 4862, 'read': 3543, 'about': 67, 'fred': 1825, 'astaire': 330, 'george': 1893, 'burns': 628, 'allen': 188, 'script': 3834, 'pg': 3250, 'definitely': 1162, 'worth': 4953, 'seeing': 3857, 'lacks': 2505, 'ginger': 1908, 'movies': 2927, 'book': 535, 'humor': 2192, 'acting': 99, 'downright': 1337, 'painful': 3171, 'watch': 4811, 'notably': 3042, 'young': 4989, 'boy': 557, 'dance': 1103, 'than': 4420, 'never': 3001, 'knew': 2486, 'does': 1308, 'tried': 4584, 'remain': 3609, 'standing': 4146, 'those': 4460, 'imagine': 2238, 'high': 2100, 'keeps': 2451, 'wonderfully': 4929, 'adds': 119, 'greatly': 1967, 'overall': 3150, 'picture': 3269, 'several': 3905, 'nice': 3008, 'songs': 4072, 'particularly': 3195, 'fun': 1848, 'work': 4940, 'stiff': 4187, 'upper': 4685, 'recommended': 3572, 'fans': 1650, 're': 3535, 'soon': 4074, 'credits': 1050, 'rolled': 3729, 'like': 2599, 'brings': 587, '75': 57, 'million': 2847, 'makes': 2716, 'incredibly': 2270, 'sad': 3767, 'condition': 937, 'society': 4050, 'either': 1438, 'stupid': 4247, 'stay': 4166, 'trash': 4565, 'maybe': 2776, 'just': 2437, 'realizing': 3555, 'kind': 2476, 'no': 3020, 'effort': 1432, 'appeal': 271, 'hollywood': 2137, 'has': 2043, 'puts': 3481, 'see': 3855, 'anyways': 262, 'nothing': 3047, 'else': 1448, 'screen': 3829, 'walked': 4776, 'despite': 1211, 'getting': 1901, 'free': 1827, 'pass': 3201, 'dialogue': 1234, 'stunts': 4246, 'top': 4525, 'outrageous': 3145, 'bigger': 479, 'image': 2233, 'didnt': 1242, 'me': 2778, 'nor': 3032, 'theater': 4427, 'none': 3028, 'career': 686, 'ending': 1471, 'flick': 1754, 'except': 1556, 'burt': 629, 'reynolds': 3684, 'says': 3801, 'need': 2987, 'hear': 2061, 'jessica': 2398, 'simpson': 3987, 'laugh': 2529, 'wouldnt': 4958, 'desperate': 1208, 'public': 3460, 'enough': 1491, 'money': 2888, 'opening': 3114, 'day': 1129, 'equal': 1509, 'do': 1302, 'cost': 1003, 'through': 4477, 'marketing': 2741, 'being': 448, 'stupidity': 4248, 'ridiculous': 3693, 'looking': 2648, 'themselves': 4435, 'far': 1653, 'horror': 2168, 'elements': 1443, 'retarded': 3663, 'comedy': 890, 'thats': 4425, 'wont': 4932, 'find': 1726, 'funny': 1852, 'anymore': 258, '15': 7, 'minutes': 2859, 'kids': 2467, 'adults': 126, 'left': 2561, 'supposedly': 4307, 'smart': 4035, 'references': 3583, 'star': 4150, 'trek': 4578, 'known': 2492, 'scene': 3809, 'et': 1526, 'blatant': 502, 'statement': 4162, 'filmmakers': 1720, 'going': 1931, 'look': 2646, 'success': 4265, 'cardboard': 682, 'cut': 1089, 'clint': 850, 'eastwood': 1409, 'telling': 4396, 'what': 4858, 'western': 4853, 'exactly': 1551, 'last': 2521, 'totally': 4532, 'lost': 2660, 'oh': 3096, 'yes': 4982, 'waste': 4808, 'seems': 3864, 'bad': 382, 'thing': 4450, 'got': 1944, 'idea': 2213, 'sit': 4003, 'matter': 2769, 'dumb': 1385, 'manage': 2722, 'crack': 1027, 'smile': 4036, 'while': 4868, 'watching': 4815, 'youll': 4988, 'feel': 1684, 'yourself': 4993, 'having': 2054, 'films': 1721, 'finished': 1733, '10': 0, 'dead': 1132, 'husbands': 2205, 'somewhat': 4068, 'silly': 3976, 'bunch': 623, 'wives': 4918, 'off': 3084, 'each': 1395, 'others': 3136, 'means': 2783, 'comedies': 889, 'mention': 2810, 'potential': 3355, 'brothers': 599, 'directing': 1260, 'ben': 463, 'stiller': 4189, 'role': 3726, 'carter': 703, 'based': 404, 'jerry': 2396, 'curious': 1083, 'catch': 714, 'dr': 1340, 'show': 3953, 'other': 3135, 'keep': 2449, 'talking': 4360, 'disappointing': 1274, 'started': 4157, 'went': 4847, 'every': 1539, 'opportunity': 3121, 'fell': 1690, 'flat': 1748, 'maria': 2736, 'dreadful': 1353, 'mean': 2779, 'knowing': 2490, 'until': 4680, 'showed': 3956, 'genuine': 1891, 'emotion': 1458, 'beloved': 461, 'mothers': 2912, 'lena': 2568, 'seemed': 3862, 'interest': 2323, 'real': 3547, 'relationship': 3597, 'between': 475, 'mother': 2911, 'wedding': 4836, 'supposed': 4306, 'parallel': 3185, 'mixed': 2877, 'romance': 3732, 'father': 1666, 'cliché': 844, 'come': 886, 'failed': 1626, 'miserably': 2864, 'anyway': 261, 'completely': 922, 'unconvincing': 4638, 'finish': 1732, 'climax': 849, 'influence': 2286, 'outcome': 3142, 'surely': 4309, 'complexity': 924, 'feeling': 1685, 'haunted': 2050, 'characters': 760, 'depth': 1190, 'care': 684, 'them': 4432, 'ruth': 3763, 'everything': 1544, 'him': 2110, 'phone': 3255, 'hotel': 2175, 'context': 968, 'explanation': 1590, 'whatever': 4859, 'reference': 3582, 'removed': 3624, 'noticed': 3049, 'simple': 3983, 'confusing': 942, 'poor': 3328, 'development': 1225, 'whose': 4877, 'weak': 4824, 'everyone': 1542, 'almost': 193, 'quiet': 3492, 'set': 3898, 'thinking': 4453, 'worthy': 4956, 'dropped': 1370, 'cold': 872, 'terrible': 4407, 'meant': 2784, 'doing': 1312, 'drugs': 1374, 'fails': 1628, 'ready': 3546, 'start': 4156, 'waiting': 4772, 'something': 4066, 'happen': 2026, 'neither': 2996, 'paranoia': 3186, 'may': 2775, 'win': 4892, 'award': 366, 'word': 4937, 'times': 4497, 'stated': 4161, 'felt': 1692, 'making': 2718, 'girl': 1909, 'hopeless': 2158, 'sense': 3877, 'showing': 3958, 'annoying': 249, 'stuck': 4237, 'house': 2178, 'middle': 2833, 'nowhere': 3056, 'head': 2057, 'decided': 1149, 'rating': 3529, 'should': 3951, 'lower': 2677, 'average': 362, 'blows': 517, 'mind': 2849, 'watched': 4813, 'worked': 4941, 'home': 2142, 'writing': 4971, 'hoped': 2156, 'revenge': 3675, 'part': 3193, 'needless': 2989, 'forced': 1787, 'plot': 3309, 'twists': 4619, 'during': 1387, 'sure': 4308, 'happened': 2027, 'end': 1468, 'fbi': 1675, 'worst': 4952, 'trial': 4580, 'possibly': 3351, 'leading': 2547, 'man': 2721, 'third': 4455, 'eye': 1611, 'blind': 506, 'looked': 2647, 'imdb': 2240, 'obvious': 3071, 'hasnt': 2044, 'hope': 2155, 'singer': 3993, 'below': 462, 'surface': 4310, 'lies': 2591, 'simply': 3986, 'awful': 372, 'viewers': 4739, 'commented': 900, 'storm': 4206, 'sequences': 3888, 'plain': 3286, 'already': 197, 'rain': 3506, 'sexual': 3908, 'dull': 1384, 'contrived': 976, 'overly': 3155, 'want': 4788, 'thank': 4421, 'god': 1926, 'shower': 3957, 'think': 4452, 'producers': 3416, 'mess': 2818, 'put': 3480, 'half': 2007, 'worthwhile': 4955, 'becomes': 434, 'another': 250, 'miss': 2866, 'period': 3236, 'covered': 1023, 'television': 4394, 'media': 2789, 'general': 1880, '1960s': 15, 'trip': 4588, 'must': 2950, 'shallow': 3917, '60s': 54, 'co': 867, 'writers': 4969, 'bill': 481, 'robert': 3713, 'ultimately': 4628, 'involvement': 2347, 'superb': 4296, 'hbo': 2055, 'dear': 1140, 'america': 212, 'letters': 2582, 'vietnam': 4735, 'original': 3129, 'footage': 1782, 'letting': 2583, 'sounds': 4084, 'speak': 4094, 'presentation': 3375, 'dramatic': 1348, 'doesnt': 1309, 'trying': 4601, 'point': 3316, 'view': 4736, 'family': 1645, 'children': 792, 'seem': 3861, 'major': 2711, 'event': 1535, 'amazing': 209, 'rolling': 3730, 'stones': 4198, 'less': 2575, 'cliff': 847, 'version': 4720, 'decade': 1144, 'makers': 2715, 'rush': 3759, 'theres': 4440, 'stick': 4185, 'figures': 1713, 'called': 652, 'protagonists': 3442, 'ages': 152, 'childrens': 793, 'clichéd': 845, 'theyre': 4445, 'teach': 4374, 'properly': 3437, 'jeremy': 2394, 'julia': 2427, 'charles': 764, 'their': 4431, 'material': 2766, 'old': 3100, 'college': 875, 'try': 4600, 'wasted': 4809, 'latter': 2528, 'david': 1124, 'alan': 171, 'rare': 3523, 'straight': 4210, 'cameo': 657, 'always': 203, 'welcome': 4842, 'soundtrack': 4085, 'minimal': 2855, 'effect': 1428, 'american': 213, 'post': 3352, 'mentions': 2813, 'british': 589, 'invasion': 2340, 'tunes': 4603, 'album': 175, 'right': 3696, 'approach': 282, 'both': 547, 'place': 3282, 'happy': 2032, 'dreams': 1355, 'wonder': 4926, 'cant': 671, 'elsewhere': 1449, 'twist': 4617, 'slow': 4031, 'changed': 750, 'sometimes': 4067, 'background': 380, 'first': 1736, 'sleep': 4024, '20': 29, 'director': 1264, 'decides': 1150, 'bring': 585, 'birth': 486, 'spiritual': 4116, 'lovers': 2673, 'cutting': 1092, 'bodies': 526, 'disturbing': 1300, 'actually': 109, 'impression': 2252, 'blend': 504, 'modern': 2882, 'japanese': 2382, 'mystery': 2956, 'weird': 4841, 'enjoy': 1484, 'german': 1896, 'cinema': 816, 'pre': 3365, 'grandfather': 1954, 'student': 4238, 'empty': 1465, 'deal': 1135, 'devil': 1228, 'gives': 1914, 'gold': 1932, 'anything': 260, 'room': 3735, 'chooses': 800, 'reflection': 3585, 'mirror': 2861, 'walks': 4780, 'crimes': 1056, 'technically': 4382, 'state': 4160, 'effects': 1431, 'virtually': 4751, 'still': 4188, 'interesting': 2325, 'sake': 3775, 'crew': 1053, 'isolated': 2363, 'mansion': 2731, 'low': 2676, 'budget': 610, 'seven': 3903, 'mysterious': 2955, 'deaths': 1142, 'occurred': 3077, 'century': 736, 'pays': 3218, 'attention': 345, 'titled': 4505, 'use': 4692, 'red': 3576, 'raise': 3507, 'grave': 1962, 'boring': 543, 'midnight': 2834, 'feels': 1687, 'effective': 1429, 'decent': 1147, 'ideas': 2215, 'though': 4461, 'paul': 3214, 'direction': 1261, 'couple': 1016, 'eerie': 1427, 'moody': 2899, 'atmospheric': 334, 'pieces': 3273, 'whole': 4873, 'within': 4912, 'structure': 4233, 'takes': 4351, 'happens': 2029, 'bob': 524, 'shouldnt': 3952, 'play': 3296, 'things': 4451, '1972': 18, 'weve': 4856, 'older': 3101, 'however': 2183, 'found': 1811, 'inferior': 2285, 'wit': 4908, 'before': 440, 'ends': 1474, 'possibilities': 3348, 'cheap': 774, 'involving': 2349, 'limited': 2606, 'sets': 3899, 'matters': 2770, 'dreary': 1356, 'dark': 1115, 'appearance': 274, 'creepy': 1052, 'air': 164, 'mainly': 2708, 'john': 2409, 'carradine': 695, 'small': 4033, 'ireland': 2352, 'hot': 2174, 'headed': 2058, 'faith': 1633, 'actress': 105, 'demands': 1175, 'premise': 3370, 'ten': 4399, 'indians': 2275, 'your': 4991, 'usual': 4699, 'zombie': 4997, 'engaging': 1481, 'supernatural': 4302, 'edge': 1418, 'hell': 2077, 'throw': 4479, 'action': 100, 'finally': 1724, 'late': 2523, 'inspired': 2301, 'constantly': 958, 'drags': 1345, 'continuity': 972, 'scenes': 3811, 'non': 3027, 'existent': 1572, 'death': 1141, 'exciting': 1563, 'indeed': 2271, 'executed': 1565, 'appears': 278, 'generic': 1885, 'score': 3822, 'gothic': 1945, 'staged': 4140, 'lack': 2502, 'imagination': 2236, 'shoot': 3942, 'frame': 1815, 'job': 2405, 'wrap': 4963, 'disaster': 1276, 'grown': 1984, 'tell': 4395, 'insult': 2309, 'familiar': 1643, 'community': 908, 'culture': 1079, 'piece': 3272, 'fit': 1740, 'fictional': 1703, 'watches': 4814, 'knows': 2493, 'laughably': 2531, 'acts': 107, 'nobody': 3022, 'name': 2960, 'nature': 2975, 'clear': 839, 'clue': 864, 'shocking': 3940, 'lived': 2626, 'new': 3003, 'york': 4985, 'connection': 946, 'mediocre': 2791, 'stranger': 4213, 'among': 217, 'closer': 856, 'truth': 4599, 'reading': 3544, 'guys': 2001, 'scripts': 3836, 'grade': 1951, 'somehow': 4063, 'feature': 1678, 'stars': 4155, 'dolph': 1317, 'silent': 3975, 'deadly': 1133, 'series': 3890, 'three': 4469, 'title': 4504, 'christmas': 810, 'named': 2961, 'joe': 2407, 'sons': 4073, 'ring': 3698, 'bell': 458, 'derek': 1192, 'heard': 2062, 'knock': 2488, 'door': 1328, 'evening': 1534, 'opened': 3113, 'present': 3374, 'said': 3774, 'open': 3112, 'till': 4493, 'begins': 444, 'stopped': 4202, 'dad': 1095, 'sends': 3876, 'bed': 436, 'opens': 3115, 'gift': 1906, 'himself': 2111, 'inside': 2297, 'ball': 388, 'santa': 3783, 'arms': 294, 'proceeds': 3411, 'kill': 2468, 'course': 1019, 'incident': 2260, 'grow': 1982, 'stops': 4203, 'interested': 2324, 'toys': 4543, 'buying': 641, 'mom': 2885, 'store': 4204, 'guy': 2000, 'taking': 4352, 'promising': 3433, 'pay': 3216, 'cash': 709, 'next': 3007, 'presents': 3377, 'larry': 2520, 'toy': 4542, 'kid': 2464, 'gets': 1900, 'box': 555, 'arent': 288, 'pretty': 3384, 'eventually': 1537, 'whats': 4860, 'revealed': 3671, 'suffers': 4278, 'smooth': 4041, 'plastic': 3294, 'account': 89, 'evil': 1548, 'ways': 4822, 'identity': 2217, 'sorts': 4078, 'step': 4175, 'brian': 576, 'screaming': 3827, 'mad': 2696, 'special': 4097, 'hanging': 2023, 'howard': 2182, 'difference': 1246, 'system': 4345, 'brain': 562, 'disappointed': 1273, 'learn': 2550, 'recently': 3567, 'racist': 3503, 'fired': 1735, 'discovered': 1280, 'wasnt': 4807, 'learned': 2551, 'parts': 3199, 'thus': 4486, 'sensitive': 3879, 'racism': 3502, 'also': 199, 'country': 1014, 'born': 544, 'surprise': 4312, 'thought': 4462, 'wrote': 4974, 'huh': 2187, 'saw': 3798, 'peter': 3247, 'falk': 1636, 'appreciate': 279, 'fan': 1648, 'ive': 2372, 'natural': 2973, 'fly': 1763, 'wall': 4781, 'played': 3297, 'practically': 3362, 'enjoyment': 1488, 'hadnt': 2004, 'drinking': 1362, 'wanted': 4789, 'number': 3060, 'came': 656, 'lets': 2580, 'ended': 1470, 'loving': 2675, 'shows': 3960, 'charge': 761, 'whos': 4876, 'boss': 546, 'grew': 1972, 'forget': 1793, 'eating': 1413, 'aliens': 184, 'explained': 1587, 'recognize': 3569, 'alien': 183, 'eat': 1411, 'boyfriend': 558, 'body': 527, 'alex': 179, 'mexican': 2826, 'beauty': 430, 'reason': 3557, 'business': 633, 'daughter': 1121, 'drew': 1360, 'shed': 3924, 'hit': 2122, 'face': 1616, 'pan': 3180, 'jay': 2386, 'die': 1243, 'wonderful': 4928, 'fever': 1699, 'pitch': 3279, 'jimmy': 2403, 'sweet': 4336, 'light': 2595, 'stereotypical': 4180, 'girls': 1911, 'romantic': 3733, 'charm': 767, 'boys': 559, 'male': 2719, 'depiction': 1185, 'sports': 4130, 'wife': 4884, 'teenage': 4389, 'itself': 2371, 'pleasant': 3302, 'spend': 4105, 'hour': 2176, 'date': 1118, 'mindless': 2851, 'crap': 1031, 'full': 1846, 'opinion': 3118, 'question': 3487, 'list': 2617, 'banned': 395, 'locked': 2637, 'sea': 3838, 'please': 3304, 'ok': 3098, 'reviews': 3679, 'atlantis': 332, 'empire': 1464, 'direct': 1258, 'rip': 3700, 'secret': 3849, 'blue': 518, 'water': 4816, 'bear': 420, 'terms': 4406, 'created': 1037, 'source': 4086, 'life': 2592, 'doubt': 1332, 'dressed': 1358, 'alike': 185, 'against': 147, 'disney': 1289, 'wear': 4830, 'style': 4249, 'clothing': 861, 'adventure': 130, 'sci': 3815, 'fi': 1701, 'move': 2921, 'similar': 3978, 'anime': 243, 'agree': 155, 'degree': 1164, 'minor': 2857, 'details': 1219, 'design': 1202, 'ancient': 225, 'mask': 2752, 'princess': 3397, 'highly': 2105, 'quite': 3495, 'pull': 3461, 'without': 4913, 'captain': 674, 'main': 2707, 'under': 4639, 'jean': 2389, 'wearing': 4831, 'novel': 3052, 'lord': 2652, 'flies': 1756, 'wisdom': 4902, 'intelligence': 2313, 'stargate': 4151, 'dozen': 1338, 'intelligent': 2314, 'wide': 4880, 'resembles': 3646, 'required': 3641, 'element': 1442, 'city': 825, 'beneath': 464, 'waters': 4817, 'might': 2835, 'personalities': 3241, 'perfectly': 3226, 'rated': 3527, 'today': 4508, 'doubts': 1333, 'preview': 3386, 'confidence': 938, 'hopes': 2159, 'future': 1856, 'sound': 4081, 'plus': 3311, 'cheesy': 781, 'portray': 3340, 'normal': 3033, 'beginning': 443, 'wondering': 4930, 'blonde': 511, 'looks': 2649, 'draws': 1352, 'aka': 168, 'menacing': 2807, 'pathetic': 3210, 'matrix': 2767, 'angle': 236, 'asleep': 320, 'manager': 2724, 'decide': 1148, 'whether': 4866, 'side': 3965, 'boat': 523, 'rate': 3526, 'jumping': 2431, 'game': 1864, 'lose': 2654, 'reads': 3545, 'crush': 1072, 'bleak': 503, 'wrong': 4973, 'performance': 3228, 'amazed': 208, 'captures': 678, 'fighter': 1708, 'treatment': 4574, 'brother': 598, 'anger': 235, 'learning': 2552, 'hide': 2097, 'love': 2669, 'power': 3359, 'michelle': 2830, 'prior': 3400, 'talent': 4354, 'myself': 2953, 'escapes': 1519, 'mr': 2929, 'mouth': 2920, 'delivery': 1173, 'university': 4667, 'likable': 2598, 'current': 1084, 'political': 3324, 'obnoxious': 3067, 'unfortunately': 4654, 'call': 651, 'documentary': 1307, 'collection': 874, 'rebel': 3561, 'segment': 3867, 'movements': 2924, 'touches': 4535, 'narrative': 2966, 'speaking': 4095, 'strictly': 4223, 'amateurish': 207, 'audio': 354, 'questions': 3489, 'rarely': 3524, 'allowed': 190, 'reactions': 3542, 'audience': 352, 'quick': 3490, 'apparently': 270, 'pride': 3391, 'checking': 778, 'cd': 728, 'listen': 2619, 'mood': 2898, 'baseball': 403, 'hey': 2095, 'expecting': 1578, 'whom': 4875, 'spoiled': 4122, 'shes': 3930, 'places': 3284, 'uneven': 4649, 'considering': 952, 'tough': 4537, 'numbers': 3061, 'wanna': 4786, 'classic': 835, 'wild': 4885, 'wars': 4804, 'etc': 1527, 'beat': 423, 'street': 4216, 'whenever': 4863, 'ask': 316, 'pops': 3332, 'lowest': 2678, 'punch': 3466, 'points': 3319, 'spin': 4112, 'kinds': 2478, '1950s': 14, 'musicals': 2948, 'mgm': 2828, 'productions': 3420, 'league': 2549, 'famous': 1647, 'second': 3846, 'directors': 1266, 'belongs': 460, 'category': 718, 'tom': 4514, 'became': 431, 'share': 3920, 'bo': 521, 'pamela': 3179, 'thin': 4449, 'suspect': 4327, 'mostly': 2910, 'attempt': 340, 'sell': 3871, 'domino': 1319, 'rock': 3720, 'appear': 273, 'bother': 548, 'favourite': 1673, 'eddie': 1416, 'clark': 832, 'ex': 1549, 'loads': 2633, 'laughs': 2534, '80s': 59, 'stereotypes': 4179, 'upon': 4684, 'wants': 4791, 'leslie': 2574, 'wet': 4855, 'burn': 625, 'roger': 3724, 'exists': 1573, 'rich': 3685, 'vicious': 4728, 'rocket': 3721, 'pulls': 3464, 'lady': 2507, 'tim': 4494, 'via': 4726, 'finger': 1731, 'magic': 2703, 'check': 777, 'trick': 4582, 'extreme': 1609, 'emotional': 1459, 'situations': 4009, 'usually': 4700, 'violent': 4748, 'hes': 2093, 'dealing': 1136, 'womans': 4922, 'husband': 2204, 'son': 4070, 'dies': 1245, 'leads': 2548, 'woman': 4921, 'take': 4349, 'sexy': 3911, 'con': 928, 'motivation': 2914, 'challenging': 744, 'hand': 2015, 'fabulous': 1615, 'player': 3298, 'casting': 711, 'impressive': 2253, 'bland': 500, 'bar': 396, 'runs': 3757, 'black': 493, 'eyes': 1613, 'beautifully': 429, 'fine': 1729, 'repeat': 3630, 'de': 1131, 'intended': 2315, 'author': 359, 'altogether': 202, 'access': 83, 'advice': 133, 'key': 2458, 'note': 3044, 'believed': 455, 'complete': 921, 'experiences': 1582, 'land': 2511, 'vast': 4716, 'daily': 1097, 'adventures': 131, 'numerous': 3062, 'friends': 1837, 'dozens': 1339, 'miles': 2843, 'standard': 4144, 'portraying': 3343, 'harsh': 2040, 'nearly': 2981, 'pointless': 3318, 'bringing': 586, 'war': 4792, 'lousy': 2667, 'excuse': 1564, 'joy': 2422, 'landscape': 2513, 'devoid': 1230, 'broadcast': 591, 'bbc': 417, 'certain': 737, 'five': 1743, 'beautiful': 428, 'formulaic': 1803, 'added': 116, 'flashbacks': 1747, 'placed': 3283, 'captured': 677, 'outstanding': 3147, 'released': 3603, 'ill': 2228, 'buy': 640, 'child': 789, 'adult': 125, 'animation': 242, 'captivating': 675, 'studios': 4241, 'producing': 3417, 'shame': 3918, 'bought': 552, 'studio': 4240, 'dubbed': 1379, 'van': 4713, 'der': 1191, 'al': 170, 'ruined': 3751, 'took': 4523, 'teenagers': 4391, 'changes': 751, 'draw': 1349, 'process': 3412, 'childhood': 790, 'loved': 2670, 'lucky': 2683, 'dub': 1378, 'guard': 1988, 'hearing': 2063, 'seriously': 3892, 'negative': 2991, 'comments': 901, 'near': 2979, 'able': 66, 'although': 201, 'hilarious': 2106, 'bothered': 549, 'firstly': 1737, 'entire': 1502, 'nonsensical': 3031, 'lead': 2545, 'arthur': 305, 'stop': 4201, 'gay': 1876, 'marriage': 2743, 'killing': 2472, 'sight': 3969, 'christians': 809, 'mass': 2753, 'thrown': 4481, 'couples': 1017, 'force': 1786, 'provides': 3450, 'funniest': 1851, 'lines': 2612, 'brilliant': 583, 'atrocious': 335, 'personal': 3240, 'civil': 826, 'rights': 3697, 'lawyer': 2541, 'clearly': 840, 'convincing': 985, 'vaguely': 4706, 'attractive': 351, 'cartoon': 704, 'talented': 4355, 'filmed': 1717, 'holding': 2130, 'remotely': 3623, 'mistakes': 2873, 'kicks': 2463, 'fat': 1663, 'pair': 3176, 'id': 2212, 'highlight': 2103, 'priceless': 3390, 'moments': 2887, 'church': 813, 'fire': 1734, 'six': 4010, 'year': 4978, 'park': 3190, 'escape': 1517, 'relation': 3595, 'mentioned': 2811, 'dinner': 1254, 'anti': 254, 'cats': 721, 'warn': 4797, 'producer': 3415, 'naked': 2959, 'foul': 1810, 'basically': 407, 'unintentionally': 4659, 'comical': 894, 'literally': 2622, 'manages': 2725, 'joke': 2414, 'reviewer': 3677, 'fantasy': 1652, 'aspect': 321, 'travel': 4567, 'revolves': 3682, '14': 6, 'accidentally': 85, 'finds': 1728, 'apartment': 265, 'believes': 456, 'tries': 4585, 'explain': 1586, 'age': 148, 'run': 3755, 'reminds': 3620, 'chance': 747, 'aimed': 162, 'towards': 4540, '12': 3, 'nostalgic': 3039, 'youth': 4994, 'memories': 2803, 'problems': 3409, 'ingredients': 2289, 'friendship': 1838, 'summer': 4291, 'week': 4837, 'camp': 662, 'leader': 2546, 'meet': 2793, 'golden': 1934, 'careers': 687, 'understand': 4643, 'showcase': 3954, 'believable': 453, 'police': 3322, 'sean': 3840, 'suddenly': 4273, 'realizes': 3554, 'realistic': 3550, 'fast': 1661, 'writer': 4968, 'count': 1010, 'longer': 2645, 'fight': 1707, 'hed': 2072, 'bullets': 621, 'twice': 4613, 'goofy': 1939, 'charming': 768, 'shall': 3916, 'cry': 1073, 'san': 3780, 'terribly': 4408, 'appealing': 272, 'seemingly': 3863, 'devoted': 1231, 'easily': 1406, 'window': 4894, 'object': 3066, 'obsession': 3070, 'distant': 1295, 'transformation': 4560, 'compare': 911, 'versions': 4721, 'hamlet': 2013, 'shakespeare': 3915, 'class': 833, 'picked': 3266, 'deliver': 1169, 'directly': 1263, 'shots': 3950, 'medium': 2792, 'close': 853, 'scenery': 3810, 'ground': 1979, 'spring': 4134, 'break': 569, 'safe': 3771, 'vacation': 4704, 'stretch': 4221, 'expect': 1575, 'write': 4967, 'computer': 927, 'code': 869, 'exaggerated': 1552, 'honestly': 2147, 'confusion': 943, 'deep': 1154, 'blues': 519, 'purpose': 3474, 'tells': 4397, 'human': 2188, 'comic': 893, 'visually': 4758, 'viewer': 4738, 'brief': 579, 'dialogs': 1233, 'dynamic': 1394, 'storyline': 4208, 'drug': 1373, 'cuts': 1091, 'tiny': 4500, 'thanks': 4423, 'martin': 2748, 'wise': 4903, 'brutal': 603, 'assault': 324, 'ones': 3108, 'ears': 1402, 'lot': 2661, 'words': 4938, '1990': 24, 'surprisingly': 4316, 'included': 2262, 'jennifer': 2392, 'jason': 2383, 'lake': 2509, 'stephen': 4176, 'improved': 2255, 'playing': 3300, 'jackson': 2375, 'gods': 1928, 'opposite': 3123, 'trashy': 4566, 'person': 3238, 'falls': 1640, 'depressing': 1188, 'semi': 3874, 'liberal': 2588, 'critics': 1064, 'painted': 3174, 'paying': 3217, 'unbelievable': 4634, 'praise': 3364, 'garbage': 1870, 'trust': 4598, 'sick': 3963, 'era': 1513, 'abuse': 74, 'teen': 4388, 'hours': 2177, 'brad': 560, 'capable': 672, 'projects': 3428, 'proved': 3446, 'starring': 4154, 'same': 3778, 'iii': 2227, 'demented': 1176, 'uninteresting': 4660, 'un': 4630, 'pictures': 3270, 'davis': 1126, 'fresh': 1833, 'craft': 1028, 'clichés': 846, '70': 55, 'vote': 4766, 'type': 4621, 'shocked': 3939, 'troubled': 4593, 'influenced': 2287, 'sorry': 4076, 'richardson': 3688, 'fame': 1642, 'line': 2610, 'humour': 2194, 'lacking': 2504, 'enters': 1496, 'jewish': 2401, 'expressions': 1603, 'train': 4556, 'profound': 3423, 'aspects': 322, 'true': 4596, 'acted': 98, 'regret': 3591, 'calls': 654, 'lives': 2628, 'dying': 1393, 'strong': 4229, 'thankfully': 4422, 'notch': 3043, 'addition': 118, 'resemblance': 3645, 'younger': 4990, 'caliber': 649, 'buddy': 609, 'dialog': 1232, 'parent': 3187, 'add': 115, 'lee': 2559, 'quote': 3496, 'horses': 2171, 'otherwise': 3137, 'example': 1553, 'industry': 2280, 'diana': 1237, 'redeeming': 3577, 'channel': 753, 'chuck': 812, 'gone': 1935, 'typical': 4623, 'actor': 103, 'returns': 3668, 'audiences': 353, 'individuals': 2278, 'superficial': 4298, 'sub': 4252, 'claim': 828, '40': 48, 'followed': 1773, 'works': 4945, 'masters': 2761, 'specifically': 4100, 'expression': 1602, 'offers': 3090, 'soldier': 4053, 'todd': 4510, 'credible': 1048, 'kurt': 2499, 'russell': 3761, 'remote': 3622, 'planet': 3289, 'ruthless': 3764, 'arrogant': 303, 'colonel': 876, 'fellow': 1691, 'soldiers': 4054, 'replaced': 3634, 'advanced': 128, 'self': 3869, 'defend': 1158, 'arrive': 300, 'field': 1704, 'exercise': 1568, 'anderson': 227, 'working': 4944, 'peoples': 3222, 'depicts': 1186, 'chilling': 794, 'vision': 4754, 'pace': 3161, 'gritty': 1977, 'moving': 2928, 'humanity': 2189, 'struggle': 4234, 'touch': 4533, 'previously': 3388, 'feelings': 1686, 'genuinely': 1892, 'poignant': 3315, 'portrayal': 3341, 'saying': 3800, 'majority': 2712, 'facial': 1619, 'bang': 393, 'supporting': 4304, 'turns': 4609, 'scott': 3824, 'rival': 3706, 'caine': 647, 'sandra': 3782, 'taylor': 4372, 'gary': 1873, 'veteran': 4724, 'michael': 2829, 'johnny': 2410, 'pig': 3274, 'brenda': 575, 'mayor': 2777, 'significant': 3972, 'importance': 2246, 'intellectual': 2312, 'strength': 4219, 'physical': 3262, 'polished': 3323, 'cinematography': 820, 'bore': 540, 'further': 1853, 'superior': 4300, 'science': 3816, 'fiction': 1702, 'super': 4295, 'clever': 841, 'delivered': 1170, 'desire': 1205, 'native': 2972, 'roots': 3738, 'likely': 2601, 'overcome': 3151, 'fear': 1676, 'meanwhile': 2785, 'needs': 2990, 'running': 3756, 'curse': 1086, 'plan': 3287, 'staying': 4168, 'birthday': 487, 'scary': 3807, 'disappointment': 1275, 'mission': 2870, 'impossible': 2249, 'white': 4870, 'woods': 4935, 'andy': 230, 'paced': 3162, 'gags': 1862, 'cruise': 1071, 'werent': 4849, 'unfunny': 4655, 'sloppy': 4030, 'rushed': 3760, 'sequel': 3885, 'exist': 1569, 'sitcom': 4004, 'returned': 3666, 'memory': 2804, 'loves': 2674, 'crazy': 1035, 'change': 749, 'mans': 2730, 'understanding': 4645, 'treasure': 4571, 'wow': 4962, 'advertising': 132, 'latest': 2526, 'tale': 4353, 'provide': 3448, 'leave': 2555, 'stole': 4194, 'fantastic': 1651, 'beyond': 476, 'ridden': 3691, 'surprises': 4314, '100': 1, 'states': 4163, 'bucks': 606, 'fest': 1696, 'walking': 4779, 'fall': 1637, 'saved': 3795, 'thriller': 4472, 'detective': 1220, 'case': 707, 'underrated': 4642, 'pulled': 3462, 'roles': 3727, 'ease': 1404, 'voice': 4761, 'narrator': 2967, 'shines': 3932, 'treat': 4572, 'leaves': 2556, 'desired': 1206, 'department': 1182, 'efforts': 1433, 'bottom': 551, 'watchable': 4812, 'missed': 2867, 'send': 3875, 'celluloid': 731, 'heaven': 2068, 'porn': 3336, 'skills': 4014, 'torture': 4529, 'prisoners': 3403, 'bound': 553, 'east': 1407, 'meets': 2795, 'west': 4852, 'losing': 2658, 'starts': 4159, 'spots': 4132, 'follow': 1772, 'town': 4541, 'kelly': 2452, 'sinatra': 3989, 'song': 4071, 'sing': 3992, 'solo': 4058, 'singing': 3995, 'fortunately': 1805, 'accomplished': 87, 'unlikely': 4671, 'dean': 1139, 'navy': 2976, 'visit': 4755, 'school': 3813, 'resulting': 3661, 'animated': 241, 'mouse': 2919, 'dances': 1106, 'hat': 2045, 'faced': 1617, 'buried': 624, 'horrible': 2163, 'credit': 1049, 'review': 3676, 'writes': 4970, 'ran': 3513, 'due': 1382, 'cameos': 658, 'hardly': 2036, 'important': 2247, 'thousand': 4465, 'cheated': 775, 'precious': 3366, 'plane': 3288, 'flight': 1757, 'jack': 2373, 'lisa': 2616, 'coach': 868, 'conflict': 939, 'sheer': 3925, 'plausible': 3295, 'easier': 1405, 'damn': 1100, 'trouble': 4592, 'struck': 4232, 'odd': 3080, 'voices': 4763, 'raised': 3508, 'occasionally': 3075, 'episode': 1507, '24': 39, 'requires': 3642, 'shut': 3961, 'chair': 742, 'rachel': 3500, 'murphy': 2944, 'cox': 1026, 'problem': 3408, 'multiple': 2936, 'awards': 367, 'wes': 4851, 'craven': 1034, 'huge': 2185, 'improvement': 2256, 'past': 3207, 'talked': 4359, 'decades': 1145, 'release': 3602, 'appreciated': 280, 'short': 3946, 'nowadays': 3055, 'develop': 1222, 'ultra': 4629, 'titles': 4506, 'anywhere': 263, 'pop': 3330, 'entertaining': 1499, 'laughing': 2533, 'meaningless': 2782, 'don': 1320, 'badly': 383, 'jane': 2380, 'march': 2734, 'korean': 2495, 'north': 3036, 'spy': 4135, 'sent': 3880, 'kim': 2475, 'forces': 1788, 'south': 4087, 'military': 2844, 'regard': 3588, 'asian': 314, 'household': 2179, 'sleeping': 4025, 'depicted': 1183, 'insane': 2296, 'screenwriter': 3833, 'obviously': 3072, 'men': 2805, 'spent': 4108, 'intention': 2319, 'utter': 4701, 'killed': 2469, 'terrific': 4409, 'absurd': 73, 'turned': 4606, 'mob': 2879, 'singers': 3994, 'stays': 4169, 'putting': 3482, 'easy': 1410, 'technical': 4381, 'sally': 3776, 'briefly': 580, 'caught': 722, 'ford': 1789, 'cars': 702, 'blown': 516, 'seek': 3858, 'genre': 1888, 'frankenstein': 1822, 'female': 1693, 'amy': 222, 'snl': 4044, 'indie': 2276, 'queen': 3485, 'parker': 3191, 'basic': 406, 'losers': 2656, 'dog': 1310, 'assistant': 326, 'touched': 4534, 'office': 3091, 'prevent': 3385, 'cute': 1090, 'joan': 2404, 'ensues': 1493, 'enjoyable': 1485, 'according': 88, 'zombies': 4998, 'living': 2629, 'company': 910, 'developed': 1223, 'neck': 2985, 'perfect': 3224, 'helen': 2075, 'carrie': 697, 'anne': 246, 'baker': 385, 'ray': 3533, 'hire': 2116, 'block': 508, 'hates': 2048, 'control': 977, 'stand': 4143, 'episodes': 1508, 'favorite': 1671, 'satire': 3788, 'douglas': 1334, 'bright': 581, 'colorful': 878, 'secrets': 3852, 'clothes': 860, 'dress': 1357, 'settings': 3901, 'colors': 879, 'jokes': 2415, 'target': 4366, 'everybody': 1540, 'gore': 1941, 'tame': 4363, 'directorial': 1265, 'debut': 1143, 'denzel': 1181, 'washington': 4806, 'honesty': 2148, 'results': 3662, 'fallen': 1638, 'nightmare': 3014, 'existence': 1571, 'suggests': 4282, 'triumph': 4590, 'spirit': 4113, 'ups': 4686, 'simplicity': 3984, 'project': 3427, 'understated': 4646, 'academy': 77, 'travesty': 4570, 'goes': 1930, 'facts': 1624, 'tribute': 4581, 'noise': 3024, 'existed': 1570, 'trailer': 4554, 'online': 3109, 'keaton': 2448, 'rocks': 3722, 'monkey': 2890, 'figured': 1712, 'relies': 3606, 'loud': 2664, 'jump': 2429, 'stooges': 4200, 'maker': 2714, 'zero': 4996, 'allow': 189, 'friend': 1835, 'expectations': 1576, 'begin': 442, 'entertainment': 1500, 'besides': 468, 'tear': 4379, 'crafted': 1029, 'indian': 2274, 'haunting': 2051, 'poetry': 3314, 'trapped': 4564, 'wears': 4832, 'court': 1020, 'parody': 3192, 'youve': 4995, 'jamie': 2379, 'kennedy': 2454, 'proves': 3447, 'darker': 1116, 'agreed': 156, 'heston': 2094, 'earth': 1403, 'nude': 3058, 'space': 4090, 'ludicrous': 2685, 'skip': 4016, 'defense': 1159, 'rogers': 3725, 'miscast': 2862, 'heroine': 2091, 'dancing': 1107, 'surprised': 4313, 'routine': 3743, 'won': 4925, 'oscar': 3133, 'join': 2412, 'inventive': 2341, 'pacing': 3163, 'stale': 4141, 'occur': 3076, 'conventional': 979, 'musical': 2947, 'deserve': 1199, 'includes': 2263, 'mistaken': 2872, 'remind': 3618, 'keeping': 2450, 'stevens': 4183, 'distance': 1294, 'partner': 3198, 'painfully': 3172, 'aware': 368, 'whoever': 4872, 'beaten': 424, 'vs': 4767, 'wind': 4893, 'racial': 3501, 'aint': 163, 'mst3k': 2932, 'fashioned': 1660, 'plenty': 3307, 'presumably': 3380, 'castle': 712, 'ie': 2221, 'talks': 4361, 'baby': 376, 'jesus': 2399, 'anybody': 257, 'hold': 2129, 'walk': 4775, 'hated': 2047, 'trailers': 4555, 'outside': 3146, 'stereotype': 4178, 'utterly': 4702, 'offended': 3085, 'paint': 3173, 'dry': 1377, 'risk': 3704, 'sounding': 4083, 'slightly': 4029, 'viewing': 4740, 'simon': 3982, 'genius': 1887, 'realise': 3548, 'extent': 1605, 'picks': 3268, 'becoming': 435, 'useful': 4694, 'members': 2801, 'largely': 2518, 'scientific': 3817, 'core': 995, 'values': 4710, 'balance': 387, 'themes': 4434, 'mainstream': 2709, 'clean': 838, 'appearances': 275, 'social': 4049, 'plight': 3308, 'individual': 2277, 'told': 4513, 'heart': 2064, 'brought': 600, 'round': 3742, 'kick': 2460, 'conclusion': 936, 'stage': 4139, '20th': 38, 'string': 4227, 'grandmother': 1955, 'fairly': 1631, 'bet': 470, 'rent': 3626, 'value': 4709, 'history': 2121, 'robin': 3715, 'williams': 4888, 'bits': 490, 'players': 3299, 'truly': 4597, 'remarkable': 3613, 'virus': 4752, 'loose': 2650, 'race': 3499, 'survived': 4322, 'animals': 240, 'rule': 3753, 'above': 68, 'everywhere': 1545, 'twelve': 4611, 'monkeys': 2891, 'underground': 4640, 'contract': 973, 'disease': 1285, 'scientist': 3818, 'discover': 1279, 'caused': 724, 'mere': 2814, 'began': 441, '1996': 26, 'poster': 3353, 'cole': 873, 'bruce': 602, 'willis': 4890, 'asked': 317, 'figure': 1711, 'world': 4946, 'machine': 2693, 'traveling': 4568, 'higher': 2101, 'personally': 3243, 'explaining': 1588, 'thinks': 4454, 'pitt': 3280, 'cared': 685, 'club': 863, 'masterpiece': 2759, 'adaptation': 113, 'california': 650, '13': 4, 'mountain': 2917, 'leaving': 2557, 'fifteen': 1706, 'minute': 2858, 'introduction': 2339, 'namely': 2962, 'contain': 962, 'spectacular': 4101, 'encounters': 1467, 'sort': 4077, 'bored': 541, 'witness': 4914, 'situation': 4008, 'survival': 4320, 'ordinary': 3128, 'passes': 3203, 'meat': 2787, 'visual': 4757, 'rescue': 3643, 'subplot': 4255, 'parents': 3188, 'rocky': 3723, 'awkward': 374, 'fill': 1714, 'necessary': 2984, 'create': 1036, 'flaws': 1752, 'struggles': 4235, 'heck': 2071, 'purely': 3472, 'nostalgia': 3038, 'season': 3843, 'suspense': 4330, 'link': 2613, 'combine': 884, 'meaningful': 2781, 'fail': 1625, 'forward': 1808, 'hopefully': 2157, 'reveal': 3670, 'hype': 2207, 'spoil': 4121, 'drivel': 1364, 'countless': 1012, 'holes': 2133, 'solely': 4056, 'cake': 648, 'elvira': 1450, 'site': 4005, 'crappy': 1032, '70s': 56, 'flicks': 1755, 'avoid': 363, 'plots': 3310, 'speed': 4103, 'wealthy': 4827, 'four': 1812, 'equally': 1510, 'estate': 1525, 'brand': 565, 'print': 3399, 'cable': 644, 'vivid': 4760, 'recording': 3575, 'loss': 2659, 'murders': 2943, 'contains': 964, 'disbelief': 1277, 'pro': 3406, 'jeff': 2390, 'deserved': 1200, 'admit': 122, 'closing': 859, 'gem': 1877, 'blood': 512, 'avoided': 364, 'costs': 1004, 'unique': 4662, 'lie': 2590, 'served': 3894, 'miserable': 2863, 'joined': 2413, 'rotten': 3740, 'abysmal': 76, 'mix': 2876, 'heavy': 2070, 'swedish': 4335, 'accents': 79, 'unintentional': 4658, 'uninspired': 4657, 'turkey': 4604, 'motion': 2913, 'youd': 4987, 'timing': 4498, 'speech': 4102, 'ed': 1415, 'wood': 4933, 'position': 3345, 'fetched': 1698, 'affair': 135, 'rape': 3521, 'marry': 2745, 'quit': 3494, 'moved': 2922, 'mental': 2808, 'security': 3854, 'prison': 3401, 'purchased': 3470, 'herself': 2092, 'events': 1536, 'magazine': 2701, 'page': 3167, 'mine': 2853, 'met': 2822, 'hospital': 2172, 'theaters': 4428, 'tired': 4501, 'idiot': 2218, 'somebody': 4062, 'asks': 319, 'mill': 2845, 'stories': 4205, 'married': 2744, 'fancy': 1649, 'innovative': 2295, 'actresses': 106, 'encounter': 1466, 'bare': 398, '1999': 27, 'prince': 3396, 'topless': 4527, 'dancer': 1104, 'purple': 3473, 'blew': 505, 'instantly': 2306, 'generation': 1883, 'secretary': 3850, 'concert': 935, 'sat': 3786, 'topic': 4526, 'instant': 2305, '17': 9, 'stunning': 4244, 'brilliantly': 584, 'directed': 1259, 'rank': 3518, 'proud': 3444, 'nelson': 2997, 'front': 1841, 'internet': 2327, 'aside': 315, 'farce': 1654, 'serious': 3891, 'actual': 108, 'likes': 2602, 'slick': 4026, 'stretched': 4222, 'akshay': 169, 'abraham': 69, 'lesser': 2576, 'kiss': 2483, 'nominated': 3025, 'attempted': 341, 'victor': 4731, 'newspaper': 3006, 'reporter': 3636, 'justin': 2440, 'cops': 993, 'corrupt': 1001, 'suspects': 4328, 'steal': 4170, 'impress': 2250, 'girlfriend': 1910, 'corruption': 1002, 'noble': 3021, 'investigate': 2342, 'reaches': 3538, 'unexpected': 4650, 'scope': 3821, 'threatening': 4468, 'levels': 2585, 'danger': 1109, 'barely': 399, 'beats': 426, 'proceedings': 3410, 'morgan': 2905, 'freeman': 1829, 'kevin': 2457, 'wallace': 4782, 'response': 3654, 'aired': 165, 'descent': 1193, 'batman': 413, 'ass': 323, 'kicked': 2461, 'jet': 2400, 'li': 2587, 'butt': 638, 'jackie': 2374, 'chan': 746, 'moves': 2925, 'ninja': 3018, 'match': 2762, 'kung': 2498, 'fu': 1844, 'portrayed': 3342, 'advise': 134, 'wannabe': 4787, 'crude': 1069, 'learns': 2553, 'minded': 2850, 'ashamed': 312, 'associated': 327, 'disgusting': 1286, 'beer': 439, 'enjoying': 1487, 'piano': 3264, 'moral': 2902, 'spare': 4093, 'heights': 2073, 'classes': 834, 'load': 2631, 'walker': 4778, 'texas': 4418, 'witnessed': 4915, 'explosions': 1597, 'steven': 4182, 'seagal': 3839, 'market': 2740, 'garbo': 1871, 'arrived': 301, 'river': 3707, 'winds': 4895, 'village': 4743, 'spain': 4091, 'wealth': 4826, 'happiness': 2031, 'struggling': 4236, 'paris': 3189, 'hoping': 2160, 'promise': 3430, 'become': 433, 'opera': 3116, 'wished': 4905, 'helped': 2080, 'path': 3209, 'attempts': 343, 'flesh': 1753, 'tour': 4538, 'spends': 4107, 'listening': 2620, 'destroy': 1213, 'reputation': 3640, 'drag': 1342, 'irony': 2357, 'government': 1948, 'positive': 3346, 'message': 2819, 'faithful': 1634, 'dialogues': 1235, 'emma': 1457, 'setting': 3900, 'costumes': 1006, 'kate': 2446, 'mark': 2739, 'charisma': 762, 'festival': 1697, 'fitting': 1742, 'unpleasant': 4674, 'whereas': 4865, 'thoroughly': 4459, 'strange': 4211, 'elaborate': 1439, 'novels': 3053, 'fighting': 1709, 'hong': 2149, 'kong': 2494, 'team': 4378, 'hill': 2108, 'chase': 769, 'stunt': 4245, 'glass': 1917, 'hurt': 2202, 'crime': 1055, 'cop': 991, 'chinese': 796, 'coming': 896, 'gang': 1867, 'complicated': 925, 'central': 735, 'warning': 4800, 'violence': 4747, 'nasty': 2968, 'graphic': 1958, 'sex': 3907, 'cup': 1080, 'tea': 4373, 'daniel': 1111, 'lewis': 2586, 'brown': 601, 'uses': 4697, 'foot': 1781, 'incredible': 2269, 'hugh': 2186, 'jim': 2402, 'portrait': 3339, 'artist': 307, 'died': 1244, 'catholic': 720, 'pregnant': 3369, 'total': 4531, 'considered': 951, 'mentally': 2809, 'physically': 3263, 'feed': 1683, 'talk': 4358, 'surrounded': 4318, 'neighborhood': 2993, 'include': 2261, 'activities': 102, 'soccer': 4048, 'games': 1865, 'floor': 1759, 'carrying': 701, 'grows': 1985, 'emotions': 1461, 'develops': 1226, 'turning': 4608, 'painting': 3175, 'nearby': 2980, 'engaged': 1480, 'live': 2625, 'books': 536, 'combined': 885, 'combination': 883, 'teaching': 4377, 'mary': 2751, 'dedicated': 1153, 'factor': 1622, 'greatest': 1966, 'angry': 238, 'bitter': 491, 'drunk': 1375, 'fourth': 1813, 'letter': 2581, 'somewhere': 4069, 'believing': 457, 'holds': 2131, 'support': 4303, 'naturally': 2974, 'religious': 3608, 'throws': 4482, 'saves': 3796, 'receives': 3565, 'photos': 3261, 'received': 3564, 'inspiring': 2302, 'achievement': 94, 'described': 1195, 'sappy': 3784, 'females': 1694, 'react': 3540, 'necessarily': 2983, 'resort': 3650, 'order': 3126, 'gain': 1863, 'respect': 3652, 'dimensional': 1253, 'personality': 3242, 'essence': 1521, 'spirited': 4114, 'succeeds': 4264, 'complaint': 920, 'bears': 421, 'giant': 1905, 'dracula': 1341, 'technique': 4383, 'compared': 912, 'lees': 2560, '2003': 33, 'rage': 3505, 'edward': 1426, 'turn': 4605, 'display': 1291, 'excited': 1561, 'hits': 2125, 'per': 3223, 'phantom': 3251, 'abilities': 64, 'test': 4416, 'device': 1227, 'onto': 3111, 'record': 3573, 'drive': 1363, 'eric': 1514, 'fathers': 1667, 'calm': 655, 'kills': 2474, 'intentionally': 2320, 'betty': 474, 'critical': 1062, 'unlike': 4670, 'quest': 3486, 'loses': 2657, 'focus': 1766, 'dangerous': 1110, 'experiment': 1583, 'louis': 2665, 'picking': 3267, 'comics': 895, 'prefer': 3368, 'dream': 1354, 'loyal': 2679, 'iron': 2354, 'psycho': 3457, 'luck': 2681, 'robot': 3717, 'previous': 3387, 'soft': 4051, 'nudity': 3059, 'halloween': 2010, 'master': 2757, 'dolls': 1316, '2000': 30, 'chapter': 757, 'abandoned': 62, 'express': 1600, 'filled': 1715, 'pain': 3170, 'illogical': 2231, 'appalling': 268, 'grasp': 1960, 'suffering': 4277, 'meaning': 2780, 'resolution': 3649, 'exception': 1557, 'particular': 3194, 'recall': 3562, 'mentioning': 2812, 'freddy': 1826, 'myers': 2952, 'cinematic': 818, 'carry': 700, 'offer': 3087, 'hook': 2152, 'bond': 532, 'weapon': 4828, 'ties': 4490, 'satisfied': 3789, 'standards': 4145, 'crocodile': 1065, 'news': 3005, 'spread': 4133, 'steve': 4181, 'attack': 337, '2006': 36, '2002': 32, 'australia': 356, 'capture': 676, 'unaware': 4632, 'cia': 814, 'agents': 151, 'owner': 3159, 'dogs': 1311, 'types': 4622, 'unusual': 4681, 'sees': 3866, 'snake': 4042, 'scare': 3803, 'mildly': 2840, 'amusing': 221, 'incoherent': 2265, 'australian': 357, 'clips': 852, 'resist': 3648, 'wrestling': 4966, 'creatures': 1046, 'tedious': 4387, 'sadly': 3769, 'messed': 2821, 'guarantee': 1987, 'havent': 2053, 'impressed': 2251, 'unnecessary': 4672, 'king': 2479, 'solid': 4057, 'hints': 2113, 'alice': 182, 'appearing': 277, 'riding': 3695, 'raw': 3532, 'stock': 4193, 'behind': 447, 'sport': 4129, 'surfing': 4311, 'endless': 1473, 'consistent': 953, 'relevant': 3604, 'lesson': 2577, 'infamous': 2284, 'soul': 4079, 'documentaries': 1306, 'wave': 4818, 'knowledge': 2491, 'allows': 192, 'deeper': 1155, 'waves': 4819, 'handed': 2016, 'attracted': 349, 'information': 2288, 'beach': 419, 'tales': 4357, 'earlier': 1399, 'passion': 3205, 'brave': 567, 'techniques': 4384, 'creates': 1038, '3d': 46, 'shock': 3938, 'broke': 593, 'excitement': 1562, 'ocean': 3079, 'everyday': 1541, 'minds': 2852, 'pushed': 3478, 'wrapped': 4964, 'doors': 1329, 'definition': 1163, 'defined': 1160, 'cause': 723, 'appropriate': 283, 'describes': 1196, 'size': 4012, 'friday': 1834, 'immediately': 2242, 'text': 4419, 'understood': 4647, 'sequence': 3887, 'separate': 3883, 'civilization': 827, 'experiments': 1584, 'confused': 941, 'horrendous': 2162, 'museum': 2945, 'chemistry': 782, 'asking': 318, 'slightest': 4028, 'random': 3514, 'act': 97, '30': 42, 'seconds': 3848, 'metal': 2823, 'track': 4544, 'causes': 725, 'stands': 4147, 'cares': 690, 'attacked': 338, 'exposure': 1599, 'guessed': 1990, 'ho': 2127, 'explosion': 1596, 'evident': 1547, 'sum': 4289, 'enemy': 1477, 'nyc': 3065, 'stayed': 4167, 'reality': 3551, 'wishes': 4906, 'kapoor': 2443, 'winner': 4897, 'hearted': 2065, 'relate': 3593, 'eccentric': 1414, 'perfection': 3225, 'importantly': 2248, 'suits': 4287, 'presence': 3373, 'flaw': 1749, 'wwii': 4975, 'propaganda': 3435, 'flynn': 1765, 'spite': 4117, 'vehicle': 4718, 'sword': 4340, 'wandering': 4785, 'europe': 1529, 'england': 1482, 'france': 1816, 'italy': 2368, 'william': 4887, 'albeit': 173, 'universal': 4665, 'warner': 4799, 'glorious': 1921, 'shadow': 3912, 'anthony': 253, 'larger': 2519, 'typically': 4624, 'attacks': 339, 'constant': 957, 'local': 2634, 'italian': 2367, 'channels': 754, 'cringe': 1059, 'trilogy': 4586, 'finest': 1730, 'strike': 4224, 'awfully': 373, 'reasonably': 3559, 'franchise': 1817, 'dust': 1388, 'obscure': 3068, 'donald': 1321, 'strikes': 4225, 'lay': 2542, 'evidence': 1546, 'pulling': 3463, 'status': 4165, 'row': 3744, 'engage': 1479, 'regular': 3592, 'acceptable': 81, 'price': 3389, 'terror': 4412, 'theatrical': 4430, 'claims': 830, 'lame': 2510, 'exploitation': 1592, 'luckily': 2682, 'exposed': 1598, 'slight': 4027, 'edie': 1419, 'narration': 2965, 'interviews': 2330, 'madness': 2698, 'fights': 1710, 'inner': 2292, 'blame': 499, 'deeply': 1156, 'regardless': 3590, 'women': 4923, 'artistic': 308, '1st': 28, 'smith': 4038, 'thru': 4483, 'sequels': 3886, 'renting': 3629, 'fare': 1655, 'theyve': 4446, 'hooked': 2153, 'football': 1783, 'severe': 3906, 'accept': 80, 'introduce': 2336, 'matt': 2768, 'harder': 2035, 'tend': 4400, 'stone': 4197, 'island': 2361, 'crowd': 1067, 'taken': 4350, 'member': 2800, 'territory': 4411, 'pie': 3271, 'user': 4696, 'challenge': 743, 'distinct': 1296, 'issues': 2365, 'unrealistic': 4677, 'choreographed': 801, 'plague': 3285, 'travels': 4569, 'maintain': 2710, 'relationships': 3598, 'susan': 4326, 'busy': 635, 'helping': 2081, 'homeless': 2143, 'cure': 1081, 'determined': 1221, 'glenn': 1918, 'ken': 2453, 'managed': 2723, 'accident': 84, 'judging': 2425, 'jones': 2418, 'ugly': 4625, 'broken': 594, 'sign': 3970, 'training': 4558, 'danes': 1108, 'form': 1798, 'delivers': 1172, 'considerable': 950, 'range': 3516, 'surprising': 4315, 'adding': 117, 'breaks': 571, 'silence': 3974, 'backdrop': 379, 'settle': 3902, 'caring': 691, 'photography': 3260, 'adequate': 120, 'large': 2517, 'skill': 4013, 'frightening': 1839, 'various': 4715, 'jumped': 2430, 'scream': 3826, 'offered': 3088, 'wore': 4939, 'designed': 1203, 'passed': 3202, 'along': 195, 'hint': 2112, 'spoiler': 4123, 'yeah': 4977, 'okay': 3099, 'burton': 630, 'charlie': 765, 'suit': 4284, 'screams': 3828, 'innocent': 2294, 'alive': 186, 'skin': 4015, 'legs': 2566, 'heads': 2059, 'illness': 2230, 'closet': 858, 'responsible': 3656, 'cult': 1077, 'pleasure': 3306, 'mike': 2838, 'andrew': 228, 'hello': 2078, 'critic': 1061, 'return': 3665, 'uwe': 4703, 'boll': 529, 'multi': 2935, 'attraction': 350, 'annoyed': 248, 'graphics': 1959, 'theyd': 4443, 'warned': 4798, 'ah': 158, 'wolf': 4920, 'kidding': 2465, 'ps': 3453, 'lugosi': 2686, 'karloff': 2445, 'circle': 821, 'fay': 1674, 'hunting': 2201, 'vampires': 4712, 'imaginative': 2237, 'relief': 3605, 'nicely': 3009, 'monster': 2892, 'robinson': 3716, 'suggest': 4280, 'warming': 4795, 'hal': 2006, 'henry': 2084, 'fool': 1779, 'grim': 1974, 'missing': 2869, '90s': 61, 'serving': 3897, 'installment': 2303, '25': 40, 'searching': 3842, 'search': 3841, 'spoilers': 4124, 'memorable': 2802, 'method': 2824, 'guest': 1992, 'stan': 4142, 'mistake': 2871, 'sitting': 4007, 'feet': 1688, 'stood': 4199, 'deals': 1137, 'boxing': 556, 'prize': 3405, 'clip': 851, 'warrior': 4802, 'agent': 150, 'cousin': 1021, 'angel': 231, 'sold': 4052, 'result': 3660, 'shop': 3945, 'party': 3200, 'corny': 997, 'introduced': 2337, 'continued': 970, 'subplots': 4256, 'whatsoever': 4861, 'reflect': 3584, 'useless': 4695, 'guessing': 1991, 'heavily': 2069, 'split': 4120, 'accused': 91, 'sentence': 3881, 'website': 4834, 'cross': 1066, 'comparing': 913, 'enter': 1494, 'greek': 1970, 'gangsters': 1869, 'carries': 699, 'prepared': 3371, 'rubber': 3747, 'features': 1680, 'rap': 3520, 'sole': 4055, 'threw': 4470, 'teens': 4392, 'angles': 237, 'dennis': 1179, 'montage': 2894, 'copies': 992, 'thousands': 4466, 'entirely': 1503, 'obsessed': 3069, 'victoria': 4732, 'admire': 121, 'united': 4664, 'buck': 605, 'basketball': 409, 'false': 1641, 'following': 1774, 'throwing': 4480, 'desperately': 1209, 'arm': 292, 'biggest': 480, 'professional': 3421, 'grace': 1950, 'complain': 919, 'finding': 1727, 'fish': 1738, 'fisher': 1739, 'luke': 2687, 'overlooked': 3154, 'endings': 1472, 'common': 906, 'creators': 1044, 'horrid': 2165, 'nonsense': 3030, 'glimpse': 1919, 'randomly': 3515, 'flashback': 1746, 'provided': 3449, 'thomas': 4458, 'lovely': 2671, 'aunt': 355, 'concerned': 932, 'behavior': 446, 'private': 3404, 'teacher': 4375, 'kay': 2447, 'animal': 239, 'deserves': 1201, 'recent': 3566, 'cover': 1022, 'sucks': 4271, 'filmmaker': 1719, 'produce': 3413, 'cell': 730, 'report': 3635, 'bottle': 550, 'ghost': 1902, 'wilson': 4891, 'dig': 1250, 'lover': 2672, 'murdered': 2940, 'months': 2897, 'comedic': 888, 'spot': 4131, 'follows': 1775, 'sidney': 3968, 'bumbling': 622, 'celebrity': 729, 'journalist': 2420, 'hired': 2117, 'fashion': 1659, 'tie': 4488, 'allowing': 191, 'catches': 715, 'sharp': 3922, 'succeed': 4262, 'johnson': 2411, 'lawrence': 2539, 'danny': 1112, 'saving': 3797, 'rising': 3703, 'fox': 1814, 'root': 3737, 'humorous': 2193, 'couldve': 1009, 'filming': 1718, 'ritter': 3705, 'september': 3884, 'rules': 3754, 'dating': 1120, 'popular': 3333, 'laid': 2508, 'ratings': 3530, 'choice': 797, 'starred': 4153, '3rd': 47, 'food': 1778, 'quickly': 3491, 'hurts': 2203, 'worthless': 4954, 'parties': 3196, 'downhill': 1336, 'mid': 2832, 'occurs': 3078, 'justify': 2439, 'actions': 101, 'theyll': 4444, 'fatal': 1664, 'screenplay': 3831, 'diane': 1238, 'lane': 2515, 'anna': 245, 'ability': 65, 'subtle': 4260, 'blunt': 520, 'accurate': 90, 'weeks': 4839, 'education': 1424, 'rental': 3627, 'hoffman': 2128, 'produced': 3414, 'carried': 698, '35': 45, 'stomach': 4196, 'abusive': 75, 'demon': 1177, 'max': 2774, 'focused': 1767, 'held': 2074, 'areas': 287, 'serial': 3889, 'cooper': 990, 'reminiscent': 3621, 'wayne': 4821, 'poverty': 3357, 'persona': 3239, 'faster': 1662, 'accent': 78, 'french': 1830, '1930s': 11, 'clues': 865, 'fascinating': 1658, 'homosexual': 2145, 'favor': 1670, 'lying': 2690, 'research': 3644, '2001': 31, 'funnier': 1850, 'hundred': 2195, 'plans': 3292, 'controversial': 978, 'killers': 2471, 'planning': 3291, 'massacre': 2754, 'answers': 252, 'merely': 2815, 'sympathy': 4343, 'hatred': 2049, 'notice': 3048, 'similarities': 3979, 'harris': 2038, 'manner': 2729, 'assumed': 329, 'motives': 2916, 'analysis': 224, 'bloody': 513, 'bugs': 613, 'beliefs': 452, 'remake': 3612, 'campy': 664, 'todays': 4509, 'neil': 2995, 'wanting': 4790, 'green': 1971, 'product': 3418, 'cage': 645, 'hitting': 2126, 'frustrated': 1842, 'investigation': 2343, 'cases': 708, 'religion': 3607, 'threat': 4467, 'powers': 3361, 'guns': 1998, 'weapons': 4829, 'unhappy': 4656, 'unable': 4631, 'belief': 451, 'sexuality': 3909, 'sexually': 3910, 'performed': 3230, 'logical': 2639, 'wounded': 4961, 'law': 2538, 'thrillers': 4473, 'potentially': 3356, 'cheating': 776, 'thirty': 4456, 'apparent': 269, '1980s': 21, 'flawless': 1751, 'qualities': 3483, 'lighting': 2596, 'london': 2641, 'toward': 4539, 'agrees': 157, 'slap': 4018, 'blow': 514, 'doctor': 1304, 'attempting': 342, 'cruel': 1070, 'intentions': 2321, 'classics': 837, 'sheriff': 3929, '90': 60, 'worn': 4948, 'table': 4346, 'candy': 668, 'driving': 1368, 'chick': 786, 'group': 1980, 'suicide': 4283, 'horribly': 2164, 'area': 286, 'happening': 2028, 'sisters': 4002, 'messages': 2820, 'poetic': 3313, 'justice': 2438, 'turner': 4607, 'successful': 4266, 'chosen': 805, 'bands': 392, 'appeared': 276, 'touching': 4536, 'depicting': 1184, 'lou': 2663, 'kenneth': 2455, 'branagh': 564, 'quirky': 3493, 'service': 3896, 'fairy': 1632, 'exceptional': 1558, 'seat': 3845, 'providing': 3451, 'revealing': 3672, 'upset': 4687, 'patient': 3211, 'drawn': 1351, 'sleazy': 4023, 'alongside': 196, 'thick': 4447, 'twenty': 4612, 'thrill': 4471, 'shorts': 3948, 'realized': 3553, 'strip': 4228, 'gross': 1978, 'families': 1644, 'joey': 2408, 'embarrassed': 1453, 'extraordinary': 1607, 'catherine': 719, 'sun': 4292, 'jerk': 2395, 'speaks': 4096, 'compelling': 916, 'handle': 2018, 'commentary': 899, 'tragic': 4552, 'circumstances': 822, 'needed': 2988, 'testament': 4417, 'provoking': 3452, 'achieve': 92, 'cat': 713, 'hardcore': 2034, 'attitude': 346, 'moment': 2886, 'wishing': 4907, 'screening': 3830, 'arguably': 289, 'section': 3853, 'pure': 3471, 'bin': 483, 'bag': 384, 'shoes': 3941, 'cinemas': 817, 'notable': 3041, 'commercials': 903, 'disturbed': 1299, 'construction': 960, 'swimming': 4338, 'pool': 3327, 'survivors': 4325, 'breath': 573, 'panic': 3181, 'theme': 4433, 'tune': 4602, 'saturday': 3792, 'rubbish': 3748, 'cgi': 740, 'versus': 4722, 'monsters': 2893, 'bela': 450, 'drop': 1369, 'stolen': 4195, 'aging': 153, 'forever': 1792, 'eager': 1396, 'bride': 577, 'spooky': 4128, 'sixties': 4011, '80': 58, 'relatively': 3600, 'lifetime': 2594, 'burning': 627, 'itll': 2369, 'shell': 3927, 'forgive': 1795, 'jail': 2376, 'duo': 1386, 'harry': 2039, 'belong': 459, 'elderly': 1440, 'trade': 4547, 'reduced': 3579, 'desperation': 1210, 'stewart': 4184, 'gotten': 1947, 'deceased': 1146, 'angels': 234, 'accepted': 82, 'foster': 1809, 'starting': 4158, 'nomination': 3026, 'irish': 2353, 'stellar': 4174, 'misses': 2868, 'bomb': 531, 'crisis': 1060, 'pants': 3182, 'desert': 1198, 'ironic': 2355, 'meeting': 2794, 'shape': 3919, 'whilst': 4869, 'dire': 1257, 'kirk': 2482, 'apes': 267, 'ships': 3935, 'laws': 2540, 'laughable': 2530, 'worry': 4950, 'suck': 4269, 'exact': 1550, 'sister': 4001, 'knife': 2487, 'failure': 1629, 'heroes': 2089, 'shark': 3921, 'smaller': 4034, 'fake': 1635, 'clumsy': 866, 'unoriginal': 4673, 'simplistic': 3985, 'demand': 1174, 'lol': 2640, 'tears': 4380, 'prime': 3395, 'professor': 3422, 'backgrounds': 381, 'reasons': 3560, 'including': 2264, 'summary': 4290, 'rural': 3758, 'slasher': 4020, 'killings': 2473, 'throat': 4476, 'satisfy': 3790, 'pointed': 3317, 'holy': 2140, 'distribution': 1298, 'someones': 4065, 'scenario': 3808, 'wound': 4960, 'highlights': 2104, 'tracy': 4546, 'roll': 3728, 'cultural': 1078, 'stanley': 4148, 'african': 142, 'grand': 1953, 'funeral': 1849, 'wake': 4774, 'magnificent': 2705, 'craig': 1030, 'feminist': 1695, 'florida': 1761, 'gas': 1874, 'station': 4164, 'bathroom': 412, 'witnesses': 4916, 'shooting': 3943, 'remaining': 3610, 'arrested': 298, 'offensive': 3086, 'unknown': 4668, 'naive': 2958, 'dealt': 1138, 'sides': 3967, 'nervous': 2999, 'duty': 1390, 'criminal': 1057, '1940s': 13, 'serve': 3893, '1970s': 17, 'advantage': 129, 'ned': 2986, 'beatty': 427, 'sounded': 4082, 'dick': 1239, 'chose': 804, 'shy': 3962, 'portrays': 3344, 'oliver': 3102, 'demons': 1178, 'corner': 996, 'manipulative': 2727, 'commercial': 902, 'health': 2060, 'dare': 1113, 'tonight': 4519, 'tad': 4347, 'duke': 1383, 'introduces': 2338, 'led': 2558, 'gordon': 1940, 'freak': 1824, 'instance': 2304, 'coffee': 870, 'orders': 3127, 'breaking': 570, 'suspicious': 4332, 'helicopter': 2076, 'capital': 673, 'mafia': 2700, 'normally': 3034, 'contrary': 974, 'comparison': 914, 'lab': 2501, 'humans': 2190, 'kinda': 2477, 'yelling': 4980, 'movement': 2923, 'lone': 2642, 'sutherland': 4333, 'eva': 1531, 'pot': 3354, 'familys': 1646, 'implausible': 2245, 'witty': 4917, 'villains': 4745, 'catching': 716, '1973': 19, 'cusack': 1088, '1983': 22, 'staring': 4152, 'rochester': 3719, 'matched': 2763, 'dinosaurs': 1256, 'rex': 3683, 'terrifying': 4410, 'japan': 2381, 'location': 2635, 'benefit': 465, 'strangers': 4214, 'foreign': 1790, 'built': 618, 'vulnerable': 4768, 'convey': 982, 'remarks': 3615, 'liners': 2611, 'darkness': 1117, 'closely': 855, 'thoughts': 4464, 'talents': 4356, 'capturing': 679, 'tony': 4521, 'interview': 2329, 'featuring': 1681, 'seventies': 3904, 'often': 3095, 'drops': 1372, 'sky': 4017, 'spoof': 4127, 'tongue': 4518, 'cheek': 779, 'unfortunate': 4653, 'beast': 422, 'frequent': 1831, 'authentic': 358, 'double': 1331, 'compelled': 915, 'epic': 1506, 'poem': 3312, 'growing': 1983, 'promised': 3431, 'mini': 2854, 'switch': 4339, 'wreck': 4965, 'reached': 3537, 'warriors': 4803, 'issue': 2364, 'irrelevant': 2358, 'nose': 3037, 'makeup': 2717, 'jobs': 2406, 'variety': 4714, 'hair': 2005, 'prove': 3445, 'national': 2970, 'peters': 3248, 'tradition': 4549, 'loaded': 2632, 'integrity': 2311, 'legend': 2564, 'hall': 2009, 'constructed': 959, 'ship': 3934, 'originally': 3131, 'heat': 2067, 'explains': 1589, 'ii': 2226, 'creation': 1040, 'snow': 4045, 'junior': 2435, 'gene': 1879, 'pages': 3168, 'medical': 2790, 'tall': 4362, 'contained': 963, 'steel': 4173, 'bridge': 578, 'concerns': 934, 'weight': 4840, 'india': 2273, 'warmth': 4796, 'interaction': 2322, 'redemption': 3578, 'sadness': 3770, 'modesty': 2883, 'affected': 137, 'greater': 1965, 'unreal': 4676, 'builds': 617, 'network': 3000, 'hanks': 2025, 'generated': 1882, 'army': 295, 'chasing': 772, 'bullet': 620, 'classical': 836, 'chief': 788, 'attorney': 348, 'noir': 3023, 'dressing': 1359, 'advance': 127, 'hang': 2022, 'thugs': 4484, 'andrews': 229, 'innocence': 2293, 'da': 1094, 'displays': 1293, 'cook': 988, 'jr': 2423, 'suitable': 4285, 'union': 4661, 'spanish': 4092, 'visits': 4756, 'gun': 1996, 'earned': 1401, 'sympathetic': 4342, 'earl': 1398, 'christopher': 811, 'broadway': 592, 'energy': 1478, 'noted': 3045, 'destruction': 1216, 'contrast': 975, 'presented': 3376, 'therefore': 4439, 'wells': 4845, 'gifted': 1907, 'recognized': 3570, 'christian': 808, 'waitress': 4773, 'recorded': 3574, 'proof': 3434, 'lasted': 2522, 'dragon': 1344, 'werewolf': 4850, '2004': 34, 'lazy': 2543, 'involves': 2348, 'outer': 3143, 'eaten': 1412, 'dinosaur': 1255, 'unwatchable': 4682, 'faces': 1618, 'returning': 3667, 'ice': 2210, 'protagonist': 3441, 'seed': 3856, 'winter': 4900, 'devils': 1229, 'victims': 4730, 'garden': 1872, 'errors': 1516, 'eyed': 1612, 'substance': 4258, 'represented': 3638, '1980': 20, 'suspenseful': 4331, 'battles': 415, 'oddly': 3081, 'rooms': 3736, 'basis': 408, 'notorious': 3051, 'inept': 2281, 'masterful': 2758, 'dirty': 1268, 'vhs': 4725, 'ann': 244, 'burned': 626, 'mixture': 2878, 'measure': 2786, 'senseless': 3878, 'boredom': 542, 'contemporary': 965, 'jumps': 2432, 'library': 2589, 'committed': 905, 'build': 614, 'invisible': 2344, 'uk': 4626, 'shining': 3933, 'hitler': 2124, 'limits': 2607, 'insulting': 2310, 'heres': 2087, 'battle': 414, 'nazis': 2978, 'rat': 3525, 'ourselves': 3140, 'worlds': 4947, 'countries': 1013, 'raising': 3509, 'germany': 1898, 'views': 4742, 'doomed': 1327, 'segments': 3868, 'politically': 3325, 'correct': 1000, 'che': 773, 'reminded': 3619, 'continue': 969, 'revolutionary': 3681, 'wouldve': 4959, 'map': 2733, 'methods': 2825, 'cuba': 1075, 'charismatic': 763, 'hearts': 2066, 'horse': 2170, 'answer': 251, 'odds': 3082, 'fate': 1665, 'retired': 3664, 'lynch': 2691, 'miike': 2837, 'surrounding': 4319, 'pretentious': 3383, 'contact': 961, 'sadistic': 3768, 'dislike': 1288, 'lately': 2524, 'absence': 70, 'rise': 3702, 'porno': 3337, 'orson': 3132, 'welles': 4844, 'spoken': 4126, 'awe': 370, 'remains': 3611, 'resources': 3651, 'ego': 1435, 'handled': 2019, 'harvey': 2042, 'ethan': 1528, 'rented': 3628, 'amounts': 220, 'winning': 4898, 'boot': 538, 'alcoholic': 177, 'domestic': 1318, 'sue': 4274, 'creep': 1051, 'excessive': 1560, 'protect': 3443, 'guide': 1993, 'philosophical': 3253, 'lessons': 2578, 'temple': 4398, 'monk': 2889, 'notion': 3050, 'walls': 4783, 'martial': 2747, 'streets': 4217, 'blank': 501, 'mundane': 2938, 'buildings': 616, 'lifestyle': 2593, 'theatre': 4429, 'freedom': 1828, 'ian': 2209, 'journey': 2421, 'steps': 4177, 'slowly': 4032, 'photo': 3257, 'brady': 561, 'crying': 1074, 'environment': 1505, 'damage': 1099, 'extra': 1606, 'lust': 2689, 'ramones': 3512, 'afternoon': 144, 'laughed': 2532, 'subsequent': 4257, 'tons': 4520, 'independent': 2272, 'disappoint': 1272, 'undoubtedly': 4648, 'sunday': 4293, 'virginia': 4750, 'adam': 111, 'respected': 3653, 'reaching': 3539, 'jealous': 2388, 'underlying': 4641, 'occasional': 3074, 'gentle': 1890, 'ladies': 2506, 'handsome': 2021, 'trio': 4587, 'roberts': 3714, 'dan': 1102, 'hop': 2154, 'packed': 3166, 'dubbing': 1380, 'amazingly': 210, 'creating': 1039, 'beings': 449, 'forest': 1791, 'eight': 1436, 'assume': 328, 'iran': 2350, 'revolution': 3680, 'matches': 2764, 'frequently': 1832, 'assigned': 325, 'warm': 4794, 'paid': 3169, 'convince': 983, 'matthew': 2772, 'execution': 1566, 'forgotten': 1797, 'base': 402, 'artists': 309, 'georges': 1894, 'connect': 944, 'karen': 2444, 'aforementioned': 139, 'scares': 3806, 'similarly': 3980, '13th': 5, 'nancy': 2964, 'consistently': 954, 'nine': 3017, 'ad': 110, 'interpretation': 2328, 'broad': 590, 'logic': 2638, 'vampire': 4711, 'traditional': 4550, 'describe': 1194, 'taste': 4369, 'performing': 3233, 'hopper': 2161, '16': 8, 'timeless': 4496, 'prisoner': 3402, 'escaped': 1518, 'americans': 214, 'hip': 2114, 'countryside': 1015, 'european': 1530, 'butler': 637, 'albert': 174, 'steals': 4172, 'delightful': 1168, 'color': 877, 'flop': 1760, 'instinct': 2308, 'concerning': 933, 'powell': 3358, 'lips': 2615, 'lovable': 2668, 'closest': 857, 'legal': 2563, 'stylish': 4251, 'americas': 215, 'murderer': 2941, 'lit': 2621, 'lights': 2597, 'stronger': 4230, 'realize': 3552, 'gotta': 1946, 'em': 1452, 'formula': 1802, 'tight': 4492, 'doll': 1313, 'discovers': 1281, 'realism': 3549, 'humble': 2191, 'perform': 3227, 'weekend': 4838, 'creature': 1045, 'mild': 2839, 'spike': 4111, 'brilliance': 582, 'honest': 2146, 'complex': 923, 'vincent': 4746, 'tricks': 4583, 'differences': 1247, 'pursuit': 3476, 'jon': 2416, 'sidekick': 3966, 'daring': 1114, 'explored': 1595, 'sunshine': 4294, 'cowboy': 1025, 'facing': 1620, 'antics': 255, 'brosnan': 597, 'chain': 741, 'smoking': 4040, 'businessman': 634, 'happily': 2030, 'philip': 3252, 'hero': 2088, 'fascinated': 1657, 'partly': 3197, 'suspend': 4329, 'decision': 1151, 'established': 1524, 'usa': 4691, 'surreal': 4317, 'chicks': 787, 'barbara': 397, 'enormous': 1490, 'argue': 290, 'synopsis': 4344, 'edited': 1420, 'endearing': 1469, 'twisted': 4618, 'hart': 2041, 'nick': 3012, 'ryan': 3765, 'tense': 4403, 'deaf': 1134, 'criminals': 1058, 'safety': 3772, 'cinematographer': 819, 'aids': 161, 'ranks': 3519, 'glover': 1923, 'lloyd': 2630, 'joseph': 2419, 'hank': 2024, 'depression': 1189, 'teenager': 4390, 'ashley': 313, 'enjoys': 1489, 'germans': 1897, 'hundreds': 2196, 'kings': 2481, 'morality': 2903, 'muslim': 2949, 'relatives': 3601, 'holiday': 2134, 'suggested': 4281, 'cabin': 643, 'fears': 1677, 'selfish': 3870, 'voiced': 4762, 'sir': 4000, 'julie': 2428, 'uncle': 4636, 'theory': 4437, 'pat': 3208, 'chris': 806, 'mitchell': 2875, 'dutch': 1389, 'idiots': 2220, 'norman': 3035, 'clown': 862, 'equipment': 1511, 'initial': 2290, 'flying': 1764, 'machines': 2694, '50': 51, 'granted': 1957, 'abc': 63, 'awesome': 371, 'everyones': 1543, 'laura': 2536, 'newly': 3004, 'restaurant': 3658, 'entertain': 1497, 'charlotte': 766, 'eyre': 1614, 'suffer': 4275, 'gratuitous': 1961, 'careful': 688, 'morris': 2908, 'holmes': 2139, 'wendy': 4846, 'comfortable': 892, 'ahead': 159, 'mysteries': 2954, 'shortly': 3947, 'robbery': 3711, 'solve': 4060, 'jonathan': 2417, 'currently': 1085, 'elvis': 1451, 'embarrassment': 1455, 'species': 4098, 'fx': 1858, 'gradually': 1952, 'finale': 1723, 'widely': 4881, 'scripted': 3835, 'kissing': 2484, 'cg': 739, 'dramas': 1347, 'macy': 2695, 'delivering': 1171, 'claire': 831, 'swear': 4334, 'comedian': 887, 'dollar': 1314, 'lion': 2614, 'francisco': 1819, 'international': 2326, 'april': 284, 'storytelling': 4209, 'passionate': 3206, 'spell': 4104, 'gangster': 1868, 'sucked': 4270, 'reviewers': 3678, 'rick': 3689, 'gag': 1861, 'paper': 3183, 'bedroom': 437, 'bank': 394, 'pal': 3177, 'attend': 344, 'illegal': 2229, 'scores': 3823, 'judge': 2424, 'resident': 3647, 'sullivan': 4288, 'magical': 2704, 'tender': 4401, 'border': 539, 'championship': 745, 'purposes': 3475, 'rose': 3739, 'elizabeth': 1445, 'vice': 4727, 'chess': 783, 'term': 4405, 'digital': 1251, 'concept': 930, 'nail': 2957, 'convoluted': 987, 'photographer': 3259, 'hammer': 2014, 'motivations': 2915, 'unsettling': 4679, 'locations': 2636, 'godzilla': 1929, 'intriguing': 2335, 'destroyed': 1214, 'bay': 416, 'amount': 219, 'blockbuster': 509, 'performer': 3231, 'coherent': 871, 'pet': 3246, 'murderous': 2942, 'satisfying': 3791, 'credibility': 1047, 'sudden': 4272, 'hunters': 2200, 'christ': 807, 'cities': 823, 'principal': 3398, 'destiny': 1212, 'delight': 1167, 'relative': 3599, 'month': 2896, '18': 10, 'wholly': 4874, 'ignore': 2224, 'dave': 1123, 'divorce': 1301, 'hunt': 2198, 'conversation': 980, 'connected': 945, 'tied': 4489, 'horrific': 2166, 'band': 391, 'imagery': 2234, 'viewed': 4737, 'visuals': 4759, 'opposed': 3122, 'fulci': 1845, 'model': 2880, 'greed': 1968, 'discussion': 1284, 'conservative': 948, 'blowing': 515, 'waited': 4771, 'persons': 3244, 'erotic': 1515, 'possessed': 3347, 'exceptionally': 1559, 'mars': 2746, 'bite': 489, 'pile': 3275, 'urge': 4689, 'task': 4368, 'road': 3709, 'description': 1197, 'houses': 2180, 'universe': 4666, '1933': 12, 'reach': 3536, 'urban': 4688, 'miracle': 2860, 'berlin': 467, 'friendly': 1836, 'walter': 4784, 'matthau': 2771, '30s': 44, 'treats': 4575, 'tends': 4402, 'troubles': 4594, 'spirits': 4115, 'timothy': 4499, 'gorgeous': 1942, 'ensemble': 1492, 'refreshing': 3586, 'olivier': 3103, 'valley': 4707, 'driven': 1365, 'gandhi': 1866, 'hole': 2132, 'widmark': 4882, 'selling': 3873, 'politics': 3326, 'card': 681, 'edgar': 1417, 'endure': 1475, 'forgot': 1796, 'popcorn': 3331, 'essential': 1522, 'ruin': 3750, 'landscapes': 2514, 'designs': 1204, 'displayed': 1292, 'tomatoes': 4515, 'overacting': 3149, 'catchy': 717, 'laughter': 2535, 'tree': 4576, 'drink': 1361, 'smoke': 4039, 'population': 3335, 'wins': 4899, 'hiding': 2099, 'ruby': 3749, 'buddies': 608, 'deliberately': 1166, 'petty': 3249, '2nd': 41, 'honor': 2150, 'fault': 1668, 'performers': 3232, 'melodrama': 2797, 'stanwyck': 4149, 'sacrifice': 3766, 'secretly': 3851, 'fortune': 1806, 'purchase': 3469, 'affect': 136, 'absolute': 71, '2007': 37, 'miller': 2846, 'wasting': 4810, 'mel': 2796, 'brooks': 596, 'doctors': 1305, 'bold': 528, 'eve': 1532, 'jaw': 2384, 'dropping': 1371, 'groups': 1981, 'doom': 1326, 'thrilling': 4474, 'psychological': 3458, 'corpse': 999, 'canadian': 667, 'dawson': 1128, 'armed': 293, 'square': 4136, 'pack': 3165, 'represent': 3637, 'yesterday': 4983, 'fits': 1741, 'inevitable': 2282, 'hollywoods': 2138, 'canada': 666, 'weakest': 4825, 'concern': 931, 'primarily': 3393, 'scrooge': 3837, 'grant': 1956, 'wonders': 4931, 'godfather': 1927, 'chicago': 785, 'donna': 1323, 'reed': 3580, 'sam': 3777, 'striking': 4226, 'helps': 2082, 'ultimate': 4627, 'virgin': 4749, 'campbell': 663, 'remembered': 3617, 'woody': 4936, 'spoke': 4125, 'idiotic': 2219, 'crash': 1033, 'surviving': 4323, 'britain': 588, 'kitchen': 2485, 'sink': 3999, 'ballet': 389, 'dancers': 1105, 'wing': 4896, 'ridiculously': 3694, 'criticism': 1063, 'inappropriate': 2259, '11': 2, 'drawing': 1350, 'terrorists': 4414, 'inducing': 2279, 'melodramatic': 2798, 'airplane': 166, 'landing': 2512, 'mail': 2706, 'nevertheless': 3002, 'convinced': 984, 'trap': 4563, 'mtv': 2933, 'secondly': 3847, 'questionable': 3488, 'pretend': 3381, 'halfway': 2008, '2005': 35, 'creator': 1043, 'disappear': 1270, '50s': 52, 'moon': 2900, 'button': 639, 'global': 1920, 'scientists': 3819, 'study': 4242, 'focuses': 1768, 'reaction': 3541, 'props': 3439, 'ignored': 2225, 'prostitute': 3440, 'sincere': 3991, 'sticks': 4186, 'experienced': 1581, 'pretending': 3382, 'aid': 160, 'balls': 390, 'peace': 3219, 'staff': 4138, 'closed': 854, 'stilted': 4190, 'forgettable': 1794, 'scale': 3802, 'conspiracy': 956, 'hidden': 2096, 'vague': 4705, 'hilariously': 2107, 'souls': 4080, 'emotionally': 1460, 'trite': 4589, 'opinions': 3119, 'sandler': 3781, 'childish': 791, 'dentist': 1180, 'center': 732, 'practice': 3363, 'tragedy': 4551, 'succeeded': 4263, 'centered': 733, 'roy': 3745, 'curtis': 1087, 'sentimental': 3882, 'twin': 4615, 'progress': 3425, 'recognition': 3568, '60': 53, 'behave': 445, 'massive': 2756, 'identify': 2216, 'serves': 3895, 'shoots': 3944, 'failing': 1627, 'elegant': 1441, 'detail': 1217, 'choices': 798, 'discuss': 1283, 'kudos': 2497, 'detailed': 1218, 'claimed': 829, 'willing': 4889, 'creativity': 1042, 'improve': 2254, 'adorable': 124, 'rambo': 3511, 'buff': 611, 'ripped': 3701, 'bonus': 534, 'kane': 2442, 'thumbs': 4485, 'minimum': 2856, 'frustration': 1843, 'vengeance': 4719, 'fury': 1855, 'hood': 2151, 'soviet': 4089, 'entertained': 1498, 'developing': 1224, 'board': 522, 'voight': 4764, 'riveting': 3708, 'changing': 752, 'driver': 1366, 'maggie': 2702, 'melting': 2799, 'falling': 1639, 'shirt': 3937, 'futuristic': 1857, 'ha': 2002, 'dvds': 1392, 'transition': 4561, 'punishment': 3467, 'neat': 2982, 'definite': 1161, 'tooth': 4524, 'dude': 1381, 'understandable': 4644, 'june': 2433, 'exotic': 1574, 'truck': 4595, 'loser': 2655, 'performs': 3234, 'stinker': 4191, 'ticket': 4487, 'handful': 2017, 'von': 4765, 'hudson': 2184, 'pity': 3281, 'ms': 2931, 'subjects': 4254, 'exploration': 1593, 'molly': 2884, 'carefully': 689, 'gray': 1963, 'explore': 1594, 'womens': 4924, '45': 50, 'arts': 310, 'intimate': 2331, 'overrated': 3156, 'strangely': 4212, 'masterpieces': 2760, 'savage': 3793, 'stealing': 4171, 'horrifying': 2167, 'translation': 4562, 'edition': 1422, 'tommy': 4516, 'ignorant': 2223, 'intent': 2318, 'directs': 1267, 'repeated': 3631, 'pleasantly': 3303, 'fooled': 1780, 'pink': 3277, 'birds': 485, 'bird': 484, 'defeat': 1157, 'kicking': 2462, 'thoughtful': 4463, 'reunion': 3669, 'ward': 4793, 'seasons': 3844, 'colour': 880, 'jesse': 2397, 'morning': 2906, 'brazil': 568, 'overdone': 3152, 'bizarre': 492, 'priest': 3392, 'imagined': 2239, 'occasion': 3073, 'prequel': 3372, 'pseudo': 3454, 'successfully': 4267, 'spielberg': 4110, 'lucas': 2680, 'portion': 3338, 'robots': 3718, 'technology': 4385, 'tremendous': 4579, 'dorothy': 1330, 'bacall': 377, 'oil': 3097, 'primary': 3394, 'authority': 360, 'regarding': 3589, 'bath': 411, 'china': 795, 'goodness': 1938, 'brooklyn': 595, 'wacky': 4769, 'mario': 2738, 'bobby': 525, 'marie': 2737, 'achieved': 93, 'streep': 4215, 'companion': 909, 'patrick': 3213, 'cried': 1054, 'nation': 2969, 'refuses': 3587, 'cagney': 646, 'workers': 4943, '40s': 49, 'remarkably': 3614, 'roman': 3731, 'tag': 4348, 'educational': 1425, 'latin': 2527, 'bone': 533, 'viewings': 4741, 'showdown': 3955, 'breathtaking': 574, 'listed': 2618, 'chased': 770, 'twins': 4616, 'basement': 405, 'forty': 1807, 'specific': 4099, 'program': 3424, 'related': 3594, 'repeatedly': 3632, 'terry': 4415, 'yellow': 4981, 'pilot': 3276, 'francis': 1818, 'louise': 2666, 'hamilton': 2012, 'jaws': 2385, 'nuts': 3064, 'drunken': 1376, 'outfit': 3144, 'disc': 1278, 'attached': 336, 'alternate': 200, 'irritating': 2359, 'slapstick': 4019, 'signs': 3973, 'mile': 2842, 'leg': 2562, 'thrills': 4475, 'admittedly': 123, 'bat': 410, 'genres': 1889, 'rob': 3710, 'arrives': 302, 'bible': 477, '3000': 43, 'citizen': 824, 'format': 1799, 'causing': 726, 'fond': 1776, 'literature': 2623, 'taught': 4370, 'appreciation': 281, 'grab': 1949, 'centers': 734, 'afford': 138, 'daughters': 1122, 'gender': 1878, 'slave': 4022, 'solution': 4059, 'royal': 3746, 'ghosts': 1903, 'videos': 4734, 'mall': 2720, 'decisions': 1152, 'repetitive': 3633, 'silver': 3977, 'legendary': 2565, 'wicked': 4879, 'lively': 2627, 'mighty': 2836, 'furthermore': 1854, 'immensely': 2243, 'wizard': 4919, 'oz': 3160, 'folk': 1770, 'vegas': 4717, 'sid': 3964, 'moore': 2901, 'inspiration': 2300, 'flow': 1762, 'cube': 1076, 'blacks': 494, 'merits': 2817, 'empathy': 1462, 'lucy': 2684, 'factory': 1623, 'neighbor': 2992, 'financial': 1725, 'president': 3378, 'operation': 3117, 'sarah': 3785, 'bollywood': 530, 'toilet': 4512, 'tiresome': 4502, 'homer': 2144, 'cliche': 843, 'dignity': 1252, 'valuable': 4708, 'pearl': 3220, 'mrs': 2930, 'ron': 3734, 'choreography': 802, 'lily': 2605, 'oscars': 3134, 'property': 3438, 'alas': 172, 'emily': 1456, 'ruins': 3752, 'symbolism': 4341, 'rid': 3690, 'guilt': 1994, 'barry': 401, 'samurai': 3779, 'essentially': 1523, 'ironically': 2356, 'mature': 2773, 'tortured': 4530, 'buffs': 612, 'kidnapped': 2466, 'tarzan': 4367, 'mate': 2765, 'swim': 4337, 'pushing': 3479, 'jungle': 2434, 'examples': 1554, 'bud': 607, 'conceived': 929, 'incompetent': 2266, 'trademark': 4548, 'bus': 631, 'disneys': 1290, 'lesbian': 2573, 'originality': 3130, 'richards': 3687, 'official': 3094, 'alright': 198, 'kingdom': 2480, 'torn': 4528, 'ape': 266, 'unbearable': 4633, 'gripping': 1976, 'conversations': 981, 'intensity': 2317, 'russian': 3762, 'beating': 425, 'superman': 4301, 'conflicts': 940, 'arrival': 299, 'niro': 3019, 'brando': 566, 'pacino': 3164, 'alexander': 180, 'involve': 2345, 'survivor': 4324, 'neighbors': 2994, 'worker': 4942, 'extended': 1604, 'opportunities': 3120, 'prom': 3429, 'favorites': 1672, 'greedy': 1969, 'seeking': 3859, 'uncomfortable': 4637, 'flash': 1745, 'farm': 1656, 'characterization': 759, 'cartoons': 705, 'inevitably': 2283, 'tiger': 4491, 'chest': 784, 'gory': 1943, 'hills': 2109, 'teeth': 4393, 'angela': 232, 'masses': 2755, 'khan': 2459, 'polanski': 3321, 'suffice': 4279, 'expert': 1585, 'forms': 1801, 'pulp': 3465, 'davies': 1125, 'homage': 2141, 'gerard': 1895, 'imitation': 2241, 'mexico': 2827, 'juvenile': 2441, 'margaret': 2735, 'reasonable': 3558, 'highest': 2102, 'contest': 967, 'ralph': 3510, 'dated': 1119, 'splatter': 4118, 'likewise': 2603, 'reveals': 3673, 'covers': 1024, 'smiling': 4037, 'columbo': 881, 'marks': 2742, 'argument': 291, 'initially': 2291, 'sits': 4006, 'relations': 3596, 'brutally': 604, 'ted': 4386, 'witches': 4910, 'breasts': 572, 'nazi': 2977, 'guilty': 1995, 'diamond': 1236, 'featured': 1679, 'aged': 149, 'eighties': 1437, 'fix': 1744, 'bull': 619, 'judy': 2426, 'sings': 3997, 'leonard': 2572, 'blah': 496, 'nightmares': 3015, 'lengthy': 2570, 'flawed': 1750, 'afterwards': 145, 'glory': 1922, 'nights': 3016, 'directions': 1262, 'worried': 4949, 'gundam': 1997, 'signed': 3971, 'scheme': 3812, 'drives': 1367, 'marvelous': 2750, 'orange': 3125, 'ear': 1397, 'hitchcock': 2123, 'mann': 2728, 'bargain': 400, 'focusing': 1769, 'nations': 2971, 'generations': 1884, 'lyrics': 2692, 'hence': 2083, 'goal': 1925, 'loosely': 2651, 'crucial': 1068, 'sneak': 4043, 'pit': 3278, 'cary': 706, 'curiosity': 1082, 'teachers': 4376, 'screens': 3832, 'shadows': 3913, 'costume': 1005, 'leo': 2571, 'blade': 495, 'stress': 4220, 'planned': 3290, 'artificial': 306, 'cannibal': 669, 'calling': 653, 'saga': 3773, 'dragged': 1343, 'gonna': 1936, 'alcohol': 176, 'soap': 4047, 'cleverly': 842, 'scarecrow': 3804, 'simmons': 3981, 'equivalent': 1512, 'paltrow': 3178, 'chances': 748, 'sophisticated': 4075, 'hysterical': 2208, 'psychic': 3456, 'nuclear': 3057, 'cave': 727, 'shake': 3914, 'faults': 1669, 'elephant': 1444, 'responsibility': 3655, 'misery': 2865, 'rabbit': 3498, 'web': 4833, 'africa': 141, 'raped': 3522, 'punk': 3468, 'communist': 907, 'twilight': 4614, 'pokemon': 3320, 'receive': 3563, 'emphasis': 1463, 'entry': 1504, 'incomprehensible': 2267, 'jazz': 2387, 'press': 3379, 'neo': 2998, 'unseen': 4678, 'represents': 3639, 'ideal': 2214, 'courage': 1018, 'depressed': 1187, 'consequences': 947, 'sin': 3988, 'los': 2653, 'angeles': 233, 'jenny': 2393, 'annie': 247, 'survive': 4321, 'streisand': 4218, 'hideous': 2098, 'junk': 2436, 'gruesome': 1986, 'ellen': 1446, 'popularity': 3334, 'rangers': 3517, 'warren': 4801, 'discovery': 1282, 'dawn': 1127, 'extras': 1608, 'blob': 507, 'walken': 4777, 'mickey': 2831, 'explicit': 1591, 'liking': 2604, 'widow': 4883, 'philosophy': 3254, 'shirley': 3936, 'push': 3477, 'mistress': 2874, 'unbelievably': 4635, 'inane': 2258, 'attitudes': 347, 'fields': 1705, 'chorus': 803, '1984': 23, 'cameron': 661, 'distracting': 1297, 'intrigued': 2334, 'destroying': 1215, 'climactic': 848, 'wed': 4835, 'inspector': 2299, 'gadget': 1860, 'carpenter': 694, 'subtlety': 4261, 'jake': 2377, 'lincoln': 2608, 'southern': 4088, 'models': 2881, 'bette': 471, 'titanic': 4503, 'carrey': 696, 'dalton': 1098, 'raymond': 3534, 'patients': 3212, 'omen': 3104, 'iraq': 2351, 'bush': 632, 'lumet': 2688, 'expensive': 1579, 'horrors': 2169, 'corporate': 998, 'shelley': 3928, 'winters': 4901, 'ya': 4976, 'fonda': 1777, 'le': 2544, 'cinderella': 815, 'executive': 1567, 'cynical': 1093, 'ham': 2011, 'tracks': 4545, 'increasingly': 2268, 'del': 1165, 'disjointed': 1287, 'hung': 2197, 'madonna': 2699, 'historically': 2120, 'laurel': 2537, 'hardy': 2037, 'chaplin': 756, 'st': 4137, 'alert': 178, 'officers': 3093, 'shine': 3931, 'enterprise': 1495, 'heroic': 2090, 'trained': 4557, 'babe': 375, 'daddy': 1096, 'bourne': 554, 'floating': 1758, 'unpredictable': 4675, 'overwhelming': 3157, 'gabriel': 1859, 'adams': 112, 'goldberg': 1933, 'acid': 95, '1968': 16, 'suffered': 4276, 'franco': 1820, 'visible': 4753, 'giallo': 1904, 'dickens': 1240, 'carol': 693, 'schools': 3814, 'brains': 563, 'elm': 1447, 'rings': 3699, 'nurse': 3063, 'chaos': 755, 'overlook': 3153, 'scottish': 3825, 'superhero': 4299, 'moronic': 2907, 'suited': 4286, 'splendid': 4119, 'consists': 955, 'enthusiasm': 1501, 'progresses': 3426, 'scooby': 3820, 'doo': 1325, 'ought': 3138, 'photographed': 3258, 'linda': 2609, 'plant': 3293, 'airport': 167, 'mechanical': 2788, 'cheese': 780, '1990s': 25, 'cards': 683, 'wondered': 4927, 'competent': 917, 'westerns': 4854, 'combat': 882, 'restored': 3659, 'nicholson': 3011, 'boom': 537, 'forbidden': 1785, 'disagree': 1269, 'marty': 2749, 'tap': 4364, 'psychotic': 3459, 'borrowed': 545, 'unit': 4663, 'bakshi': 386, 'trail': 4553, 'nicholas': 3010, 'paulie': 3215, 'host': 2173, 'possibility': 3349, 'unforgettable': 4652, 'phony': 3256, 'bergman': 466, 'promises': 3432, 'trees': 4577, 'icon': 2211, 'fed': 1682, 'perry': 3237, 'disappeared': 1271, 'troops': 4591, 'despair': 1207, 'slaughter': 4021, 'spider': 4109, 'felix': 1689, 'hyde': 2206, 'stinks': 4192, 'kubrick': 2496, 'quotes': 3497, 'lemmon': 2567, 'robbins': 3712, 'eastern': 1408, 'offering': 3089, 'blond': 510, 'arnold': 296, 'jeffrey': 2391, 'styles': 4250, 'carl': 692, 'rats': 3531, 'shelf': 3926, 'adapted': 114, 'satan': 3787, 'thief': 4448, 'pleased': 3305, 'expressed': 1601, 'amanda': 205, 'manhattan': 2726, 'counter': 1011, 'terrorist': 4413, 'transfer': 4559, 'zone': 4999, 'command': 897, 'damon': 1101, 'bettie': 473, 'hippie': 2115, 'montana': 2895, 'reel': 3581, 'whale': 4857, 'mountains': 2918, 'alfred': 181, 'mildred': 2841, 'enemies': 1476, 'holly': 2136, 'blake': 498, 'convincingly': 986, 'rendition': 3625, 'sellers': 3872, 'doc': 1303, 'accompanied': 86, 'amitabh': 216, 'mummy': 2937, 'awake': 365, 'hollow': 2135, 'grinch': 1975}\n"
     ]
    }
   ],
   "source": [
    "print(str(vocabulary))"
   ]
  },
  {
   "cell_type": "markdown",
   "metadata": {},
   "source": [
    "Once you have added the endpoint name to the Lambda function, click on **Save**. Your Lambda function is now up and running. Next we need to create a way for our web app to execute the Lambda function."
   ]
  },
  {
   "cell_type": "markdown",
   "metadata": {},
   "source": [
    "### Setting up API Gateway\n",
    "\n",
    "Now that our Lambda function is set up, it is time to create a new API using API Gateway that will trigger the Lambda function we have just created.\n",
    "\n",
    "Using AWS Console, navigate to **Amazon API Gateway** and then click on **Get started**.\n",
    "\n",
    "On the next page, make sure that **New API** is selected and give the new api a name, for example, `sentiment_analysis_web_app`. Then, click on **Create API**.\n",
    "\n",
    "Now we have created an API, however it doesn't currently do anything. What we want it to do is to trigger the Lambda function that we created earlier.\n",
    "\n",
    "Select the **Actions** dropdown menu and click **Create Method**. A new blank method will be created, select its dropdown menu and select **POST**, then click on the check mark beside it.\n",
    "\n",
    "For the integration point, make sure that **Lambda Function** is selected and click on the **Use Lambda Proxy integration**. This option makes sure that the data that is sent to the API is then sent directly to the Lambda function with no processing. It also means that the return value must be a proper response object as it will also not be processed by API Gateway.\n",
    "\n",
    "Type the name of the Lambda function you created earlier into the **Lambda Function** text entry box and then click on **Save**. Click on **OK** in the pop-up box that then appears, giving permission to API Gateway to invoke the Lambda function you created.\n",
    "\n",
    "The last step in creating the API Gateway is to select the **Actions** dropdown and click on **Deploy API**. You will need to create a new Deployment stage and name it anything you like, for example `prod`.\n",
    "\n",
    "You have now successfully set up a public API to access your SageMaker model. Make sure to copy or write down the URL provided to invoke your newly created public API as this will be needed in the next step. This URL can be found at the top of the page, highlighted in blue next to the text **Invoke URL**."
   ]
  },
  {
   "cell_type": "markdown",
   "metadata": {},
   "source": [
    "## Step 7: Deploying our web app\n",
    "\n",
    "Now that we have a publicly available API, we can start using it in a web app. For our purposes, we have provided a simple static html file which can make use of the public api you created earlier.\n",
    "\n",
    "In the `website` folder there should be a file called `index.html`. Download the file to your computer and open that file up in a text editor of your choice. There should be a line which contains **\\*\\*REPLACE WITH PUBLIC API URL\\*\\***. Replace this string with the url that you wrote down in the last step and then save the file.\n",
    "\n",
    "Now, if you open `index.html` on your local computer, your browser will behave as a local web server and you can use the provided site to interact with your SageMaker model.\n",
    "\n",
    "If you'd like to go further, you can host this html file anywhere you'd like, for example using github or hosting a static site on Amazon's S3. Once you have done this you can share the link with anyone you'd like and have them play with it too!\n",
    "\n",
    "> **Important Note** In order for the web app to communicate with the SageMaker endpoint, the endpoint has to actually be deployed and running. This means that you are paying for it. Make sure that the endpoint is running when you want to use the web app but that you shut it down when you don't need it, otherwise you will end up with a surprisingly large AWS bill."
   ]
  },
  {
   "cell_type": "markdown",
   "metadata": {},
   "source": [
    "### Delete the endpoint\n",
    "\n",
    "Remember to always shut down your endpoint if you are no longer using it. You are charged for the length of time that the endpoint is running so if you forget and leave it on you could end up with an unexpectedly large bill."
   ]
  },
  {
   "cell_type": "code",
   "execution_count": 59,
   "metadata": {},
   "outputs": [],
   "source": [
    "xgb_predictor.delete_endpoint()"
   ]
  },
  {
   "cell_type": "markdown",
   "metadata": {},
   "source": [
    "## Optional: Clean up\n",
    "\n",
    "The default notebook instance on SageMaker doesn't have a lot of excess disk space available. As you continue to complete and execute notebooks you will eventually fill up this disk space, leading to errors which can be difficult to diagnose. Once you are completely finished using a notebook it is a good idea to remove the files that you created along the way. Of course, you can do this from the terminal or from the notebook hub if you would like. The cell below contains some commands to clean up the created files from within the notebook."
   ]
  },
  {
   "cell_type": "code",
   "execution_count": null,
   "metadata": {},
   "outputs": [],
   "source": [
    "# First we will remove all of the files contained in the data_dir directory\n",
    "!rm $data_dir/*\n",
    "\n",
    "# And then we delete the directory itself\n",
    "!rmdir $data_dir\n",
    "\n",
    "# Similarly we remove the files in the cache_dir directory and the directory itself\n",
    "!rm $cache_dir/*\n",
    "!rmdir $cache_dir"
   ]
  }
 ],
 "metadata": {
  "kernelspec": {
   "display_name": "conda_python3",
   "language": "python",
   "name": "conda_python3"
  },
  "language_info": {
   "codemirror_mode": {
    "name": "ipython",
    "version": 3
   },
   "file_extension": ".py",
   "mimetype": "text/x-python",
   "name": "python",
   "nbconvert_exporter": "python",
   "pygments_lexer": "ipython3",
   "version": "3.6.10"
  }
 },
 "nbformat": 4,
 "nbformat_minor": 2
}
